{
 "cells": [
  {
   "cell_type": "markdown",
   "id": "5efbb14c",
   "metadata": {},
   "source": [
    "### Clelia Caetano 2023060 (CA2_SEM2)\n",
    "### MSc. in Data Analytics\n",
    "### Project Tweets"
   ]
  },
  {
   "cell_type": "code",
   "execution_count": 1,
   "id": "1eb91c6d",
   "metadata": {},
   "outputs": [
    {
     "data": {
      "text/plain": [
       "'local[*]'"
      ]
     },
     "execution_count": 1,
     "metadata": {},
     "output_type": "execute_result"
    }
   ],
   "source": [
    "# sc master - running locally\n",
    "sc.master"
   ]
  },
  {
   "cell_type": "code",
   "execution_count": 2,
   "id": "4f8b8fc6",
   "metadata": {},
   "outputs": [],
   "source": [
    "import warnings\n",
    "warnings.filterwarnings(\"ignore\")"
   ]
  },
  {
   "cell_type": "code",
   "execution_count": 3,
   "id": "334b3b23",
   "metadata": {},
   "outputs": [],
   "source": [
    "# Load the libraries\n",
    "import os\n",
    "from pyspark.sql import SparkSession"
   ]
  },
  {
   "cell_type": "markdown",
   "id": "8073afae",
   "metadata": {},
   "source": [
    "### Initialize Spark Session"
   ]
  },
  {
   "cell_type": "code",
   "execution_count": 4,
   "id": "3d8bdecf",
   "metadata": {},
   "outputs": [],
   "source": [
    "# Create a Spark session with necessary configurations\n",
    "spark = SparkSession.builder.appName('ProjectTweets') \\\n",
    "                    .config(\"spark.some_config_option\", \"config_value\") \\\n",
    "                    .getOrCreate()"
   ]
  },
  {
   "cell_type": "markdown",
   "id": "6d37eab8",
   "metadata": {},
   "source": [
    "### Read the Data from csv."
   ]
  },
  {
   "cell_type": "code",
   "execution_count": 5,
   "id": "739e385b",
   "metadata": {},
   "outputs": [
    {
     "name": "stderr",
     "output_type": "stream",
     "text": [
      "                                                                                \r"
     ]
    },
    {
     "name": "stdout",
     "output_type": "stream",
     "text": [
      "+------+----------+--------------------+--------+-------------+--------------------+\n",
      "|number|  id_tweet|                date|   query|      user_id|               tweet|\n",
      "+------+----------+--------------------+--------+-------------+--------------------+\n",
      "|     1|1467810672|Mon Apr 06 22:19:...|NO_QUERY|scotthamilton|is upset that he ...|\n",
      "|     2|1467810917|Mon Apr 06 22:19:...|NO_QUERY|     mattycus|@Kenichan I dived...|\n",
      "|     3|1467811184|Mon Apr 06 22:19:...|NO_QUERY|      ElleCTF|my whole body fee...|\n",
      "|     4|1467811193|Mon Apr 06 22:19:...|NO_QUERY|       Karoli|@nationwideclass ...|\n",
      "|     5|1467811372|Mon Apr 06 22:20:...|NO_QUERY|     joy_wolf|@Kwesidei not the...|\n",
      "+------+----------+--------------------+--------+-------------+--------------------+\n",
      "only showing top 5 rows\n",
      "\n"
     ]
    }
   ],
   "source": [
    "# Load the data and create a temporary view in Spark\n",
    "try:\n",
    "    # Load the data.csv file\n",
    "    data = spark.read.csv(\"file:///home/hduser/Desktop/CA2_SEM2/ProjectTweets.csv\", header=True, inferSchema=True)\n",
    "\n",
    "    # Check if the data was loaded successfully\n",
    "    if data is not None:\n",
    "        # Define column names\n",
    "        new_column_names = [\"number\", \"id_tweet\", \"date\", \"query\", \"user_id\", \"tweet\"]\n",
    "\n",
    "        # Use the alias method to rename the columns\n",
    "        for i in range(len(new_column_names)):\n",
    "            data = data.withColumnRenamed(data.columns[i], new_column_names[i])\n",
    "\n",
    "        # Create a temporary table from the DataFrame\n",
    "        data.createOrReplaceTempView(\"CA2_ProjectTweets\")\n",
    "\n",
    "        # Run Spark SQL queries using the same SparkSession\n",
    "        data = spark.sql(\"SELECT * FROM CA2_ProjectTweets\") \n",
    "\n",
    "        # Display the first 5 rows\n",
    "        data.show(5)\n",
    "    else:\n",
    "        print(\"Data not loaded successfully.\")\n",
    "\n",
    "except Exception as e:\n",
    "    print(\"An error occurred:\", str(e))"
   ]
  },
  {
   "cell_type": "markdown",
   "id": "9d33efac",
   "metadata": {},
   "source": [
    "### Create a Hive database in Spark application"
   ]
  },
  {
   "cell_type": "code",
   "execution_count": 6,
   "id": "edfe5cca",
   "metadata": {},
   "outputs": [
    {
     "name": "stderr",
     "output_type": "stream",
     "text": [
      "2023-10-25 23:34:52,198 WARN conf.HiveConf: HiveConf of name hive.stats.jdbc.timeout does not exist\n",
      "2023-10-25 23:34:52,199 WARN conf.HiveConf: HiveConf of name hive.stats.retries.wait does not exist\n",
      "2023-10-25 23:34:54,898 WARN metastore.ObjectStore: Version information not found in metastore. hive.metastore.schema.verification is not enabled so recording the schema version 2.3.0\n",
      "2023-10-25 23:34:54,901 WARN metastore.ObjectStore: setMetaStoreSchemaVersion called but recording version is disabled: version = 2.3.0, comment = Set by MetaStore hduser@127.0.1.1\n",
      "2023-10-25 23:34:55,526 WARN metastore.ObjectStore: Failed to get database global_temp, returning NoSuchObjectException\n",
      "2023-10-25 23:35:02,775 WARN session.SessionState: METASTORE_FILTER_HOOK will be ignored, since hive.security.authorization.manager is set to instance of HiveAuthorizerFactory.\n",
      "2023-10-25 23:35:02,950 WARN conf.HiveConf: HiveConf of name hive.internal.ss.authz.settings.applied.marker does not exist\n",
      "2023-10-25 23:35:02,950 WARN conf.HiveConf: HiveConf of name hive.stats.jdbc.timeout does not exist\n",
      "2023-10-25 23:35:02,950 WARN conf.HiveConf: HiveConf of name hive.stats.retries.wait does not exist\n"
     ]
    }
   ],
   "source": [
    "# Save the DataFrame as a Hive table\n",
    "data.write.mode(\"overwrite\").saveAsTable(\"ca2_projecttweets\")"
   ]
  },
  {
   "cell_type": "code",
   "execution_count": 7,
   "id": "697d6d85",
   "metadata": {},
   "outputs": [
    {
     "data": {
      "text/plain": [
       "DataFrame[]"
      ]
     },
     "execution_count": 7,
     "metadata": {},
     "output_type": "execute_result"
    }
   ],
   "source": [
    "# Set the current database\n",
    "spark.sql(\"USE ca2_projecttweets\")"
   ]
  },
  {
   "cell_type": "code",
   "execution_count": 8,
   "id": "60af3923",
   "metadata": {},
   "outputs": [
    {
     "name": "stdout",
     "output_type": "stream",
     "text": [
      "+------+----------+--------------------+--------+-------------+--------------------+\n",
      "|number|  id_tweet|                date|   query|      user_id|               tweet|\n",
      "+------+----------+--------------------+--------+-------------+--------------------+\n",
      "|     1|1467810672|Mon Apr 06 22:19:...|NO_QUERY|scotthamilton|is upset that he ...|\n",
      "|     2|1467810917|Mon Apr 06 22:19:...|NO_QUERY|     mattycus|@Kenichan I dived...|\n",
      "|     3|1467811184|Mon Apr 06 22:19:...|NO_QUERY|      ElleCTF|my whole body fee...|\n",
      "|     4|1467811193|Mon Apr 06 22:19:...|NO_QUERY|       Karoli|@nationwideclass ...|\n",
      "|     5|1467811372|Mon Apr 06 22:20:...|NO_QUERY|     joy_wolf|@Kwesidei not the...|\n",
      "+------+----------+--------------------+--------+-------------+--------------------+\n",
      "only showing top 5 rows\n",
      "\n"
     ]
    }
   ],
   "source": [
    "# Run a SQL query to select all rows from the table\n",
    "result = spark.sql(\"SELECT `number`, `id_tweet`, `date`, `query`, `user_id`, `tweet` FROM ca2_projecttweets\")\n",
    "\n",
    "# Show the first 5 rows\n",
    "result.show(5)"
   ]
  },
  {
   "cell_type": "code",
   "execution_count": 9,
   "id": "3f3ea44d",
   "metadata": {},
   "outputs": [
    {
     "name": "stderr",
     "output_type": "stream",
     "text": [
      "                                                                                \r"
     ]
    }
   ],
   "source": [
    "# Save the preprocessed data as a new table if needed\n",
    "result.write.mode(\"overwrite\").saveAsTable(\"preprocessed_ca2_projecttweets\")"
   ]
  },
  {
   "cell_type": "code",
   "execution_count": 10,
   "id": "811dcc55",
   "metadata": {},
   "outputs": [
    {
     "name": "stdout",
     "output_type": "stream",
     "text": [
      "root\n",
      " |-- number: integer (nullable = true)\n",
      " |-- id_tweet: long (nullable = true)\n",
      " |-- date: string (nullable = true)\n",
      " |-- query: string (nullable = true)\n",
      " |-- user_id: string (nullable = true)\n",
      " |-- tweet: string (nullable = true)\n",
      "\n"
     ]
    }
   ],
   "source": [
    "# Access the Hive table and create a DataFrame\n",
    "data = spark.table(\"preprocessed_ca2_projecttweets\")\n",
    "\n",
    "# Print the schema\n",
    "data.printSchema()"
   ]
  },
  {
   "cell_type": "code",
   "execution_count": 11,
   "id": "df25ce67",
   "metadata": {},
   "outputs": [
    {
     "name": "stdout",
     "output_type": "stream",
     "text": [
      "The size of the dataset is: 1599999 rows\n"
     ]
    }
   ],
   "source": [
    "# Check the size of the data\n",
    "data_size = data.count()\n",
    "print(f\"The size of the dataset is: {data_size} rows\")"
   ]
  },
  {
   "cell_type": "markdown",
   "id": "bb792364",
   "metadata": {},
   "source": [
    "### Exploratory data analysis (EDA)"
   ]
  },
  {
   "cell_type": "code",
   "execution_count": 12,
   "id": "03f29f88",
   "metadata": {},
   "outputs": [
    {
     "name": "stderr",
     "output_type": "stream",
     "text": [
      "[Stage 39:=============================>                            (1 + 1) / 2]\r"
     ]
    },
    {
     "name": "stdout",
     "output_type": "stream",
     "text": [
      "Overall unique value counts:\n",
      "number: 1599999\n",
      "id_tweet: 1598314\n",
      "date: 774362\n",
      "query: 1\n",
      "user_id: 659775\n",
      "tweet: 1581465\n"
     ]
    },
    {
     "name": "stderr",
     "output_type": "stream",
     "text": [
      "\r",
      "                                                                                \r"
     ]
    }
   ],
   "source": [
    "# Calculate the number of unique values in each column.\n",
    "# List of column names\n",
    "column_names = [\"number\", \"id_tweet\", \"date\", \"query\", \"user_id\", \"tweet\"]\n",
    "\n",
    "# Dictionary to store unique value counts\n",
    "unique_counts = {}\n",
    "\n",
    "# Iterate through the columns and count unique values\n",
    "for column_name in column_names:\n",
    "    unique_values = data.select(column_name).distinct()\n",
    "    unique_count = unique_values.count()\n",
    "    unique_counts[column_name] = unique_count\n",
    "\n",
    "# Print the overall count for each column\n",
    "print(\"Overall unique value counts:\")\n",
    "for column, count in unique_counts.items():\n",
    "    print(f\"{column}: {count}\")"
   ]
  },
  {
   "cell_type": "code",
   "execution_count": 13,
   "id": "eec1a022",
   "metadata": {},
   "outputs": [
    {
     "name": "stdout",
     "output_type": "stream",
     "text": [
      "+--------------------+--------------------+\n",
      "|                date|               tweet|\n",
      "+--------------------+--------------------+\n",
      "|Mon Apr 06 22:19:...|is upset that he ...|\n",
      "|Mon Apr 06 22:19:...|@Kenichan I dived...|\n",
      "|Mon Apr 06 22:19:...|my whole body fee...|\n",
      "|Mon Apr 06 22:19:...|@nationwideclass ...|\n",
      "|Mon Apr 06 22:20:...|@Kwesidei not the...|\n",
      "+--------------------+--------------------+\n",
      "only showing top 5 rows\n",
      "\n"
     ]
    }
   ],
   "source": [
    "# Drop columns that are duplicates and other irrelevant data information.\n",
    "data = data.drop('number', 'id_tweet', 'query', 'user_id')\n",
    "\n",
    "# Show the updated DataFrame\n",
    "data.show(5)"
   ]
  },
  {
   "cell_type": "markdown",
   "id": "be0c7954",
   "metadata": {},
   "source": [
    "### Missing Values"
   ]
  },
  {
   "cell_type": "code",
   "execution_count": 14,
   "id": "61b25cd3",
   "metadata": {},
   "outputs": [
    {
     "name": "stdout",
     "output_type": "stream",
     "text": [
      "Missing values in 'date': 0\n",
      "Missing values in 'tweet': 0\n"
     ]
    }
   ],
   "source": [
    "# Iterate through all columns and print missing value counts\n",
    "for column_name in data.columns:\n",
    "    missing_count = data.filter(data[column_name].isNull()).count()\n",
    "    print(f\"Missing values in '{column_name}': {missing_count}\")"
   ]
  },
  {
   "cell_type": "code",
   "execution_count": 15,
   "id": "c3d7bf51",
   "metadata": {},
   "outputs": [
    {
     "name": "stdout",
     "output_type": "stream",
     "text": [
      "root\n",
      " |-- date: string (nullable = true)\n",
      " |-- tweet: string (nullable = true)\n",
      "\n"
     ]
    }
   ],
   "source": [
    "# Print the schema\n",
    "data.printSchema()"
   ]
  },
  {
   "cell_type": "markdown",
   "id": "7bbec1a4",
   "metadata": {},
   "source": [
    "### Descriptive Statistics"
   ]
  },
  {
   "cell_type": "code",
   "execution_count": 16,
   "id": "35b72b28",
   "metadata": {},
   "outputs": [
    {
     "name": "stderr",
     "output_type": "stream",
     "text": [
      "[Stage 52:=============================>                            (1 + 1) / 2]\r"
     ]
    },
    {
     "name": "stdout",
     "output_type": "stream",
     "text": [
      "+-------+--------------------+--------------------+\n",
      "|summary|                date|               tweet|\n",
      "+-------+--------------------+--------------------+\n",
      "|  count|             1599999|             1599999|\n",
      "|   mean|                null|                null|\n",
      "| stddev|                null|                null|\n",
      "|    min|Fri Apr 17 20:30:...|                 ...|\n",
      "|    max|Wed May 27 07:27:...|ï¿½ï¿½ï¿½ï¿½ï¿½ß§...|\n",
      "+-------+--------------------+--------------------+\n",
      "\n"
     ]
    },
    {
     "name": "stderr",
     "output_type": "stream",
     "text": [
      "\r",
      "                                                                                \r"
     ]
    }
   ],
   "source": [
    "# Compute and interpret the mean, median, quartiles and standard deviation of the dataset\n",
    "data.describe().show()"
   ]
  },
  {
   "cell_type": "markdown",
   "id": "760501a6",
   "metadata": {},
   "source": [
    "### Create a configuration to convert string 'date' into timestamp"
   ]
  },
  {
   "cell_type": "code",
   "execution_count": 17,
   "id": "19e78a55",
   "metadata": {},
   "outputs": [
    {
     "name": "stdout",
     "output_type": "stream",
     "text": [
      "+-------------------+\n",
      "|               date|\n",
      "+-------------------+\n",
      "|2009-04-07 06:19:49|\n",
      "|2009-04-07 06:19:53|\n",
      "|2009-04-07 06:19:57|\n",
      "|2009-04-07 06:19:57|\n",
      "|2009-04-07 06:20:00|\n",
      "+-------------------+\n",
      "only showing top 5 rows\n",
      "\n"
     ]
    }
   ],
   "source": [
    "# Create a SparkSession with the 'spark.sql.legacy.timeParserPolicy' configuration\n",
    "spark = SparkSession.builder.config(\"spark.sql.legacy.timeParserPolicy\", \"LEGACY\").getOrCreate()\n",
    "\n",
    "# Import libraries to convert\n",
    "from pyspark.sql.functions import from_unixtime, unix_timestamp\n",
    "from pyspark.sql.types import TimestampType\n",
    "\n",
    "# Convert 'date' column in string format to the timestamp\n",
    "data = data.withColumn(\"date\", from_unixtime(unix_timestamp(data[\"date\"], \"E MMM dd HH:mm:ss z yyyy\")).cast(TimestampType()))\n",
    "\n",
    "# Print the 'date' column with the new format\n",
    "data.select(\"date\").show(5)"
   ]
  },
  {
   "cell_type": "code",
   "execution_count": 18,
   "id": "0c332e4d",
   "metadata": {},
   "outputs": [
    {
     "name": "stderr",
     "output_type": "stream",
     "text": [
      "                                                                                \r"
     ]
    },
    {
     "data": {
      "image/png": "[encoded data removed]",
      "text/plain": [
       "<Figure size 864x432 with 1 Axes>"
      ]
     },
     "metadata": {
      "needs_background": "light"
     },
     "output_type": "display_data"
    }
   ],
   "source": [
    "import matplotlib.pyplot as plt\n",
    "from pyspark.sql.functions import to_date, count\n",
    "from pyspark.sql.window import Window\n",
    "\n",
    "# Group the data by the date without the hour\n",
    "data = data.withColumn(\"date_without_hour\", to_date(data[\"date\"]))\n",
    "date_counts = data.groupBy(\"date_without_hour\").agg(count(\"*\").alias(\"tweet_count\"))\n",
    "\n",
    "# Sort the data by date without hour\n",
    "date_counts = date_counts.orderBy(\"date_without_hour\")\n",
    "\n",
    "# Collect the data to the driver\n",
    "date_counts = date_counts.collect()\n",
    "\n",
    "# Extract dates and tweet counts for plotting\n",
    "dates = [str(row.date_without_hour) for row in date_counts]\n",
    "tweet_counts = [row.tweet_count for row in date_counts]\n",
    "\n",
    "# Plot the tweet count\n",
    "plt.figure(figsize=(12, 6))\n",
    "plt.bar(dates, tweet_counts)\n",
    "plt.title(\"Tweet Count Over Time (Aggregated by Date)\")\n",
    "plt.xlabel(\"Date\")\n",
    "plt.ylabel(\"Tweet Count\")\n",
    "plt.xticks(rotation=45)  # Rotate x-axis labels for readability\n",
    "plt.tight_layout()\n",
    "\n",
    "# Show the plot\n",
    "plt.show()"
   ]
  },
  {
   "cell_type": "code",
   "execution_count": 19,
   "id": "5bd61c64",
   "metadata": {},
   "outputs": [
    {
     "name": "stderr",
     "output_type": "stream",
     "text": [
      "                                                                                \r"
     ]
    },
    {
     "name": "stdout",
     "output_type": "stream",
     "text": [
      "First Date: 2009-04-07\n",
      "Last Date: 2009-06-25\n"
     ]
    },
    {
     "name": "stderr",
     "output_type": "stream",
     "text": [
      "[Stage 70:=============================>                            (1 + 1) / 2]\r"
     ]
    },
    {
     "name": "stdout",
     "output_type": "stream",
     "text": [
      "2009-04-08\n",
      "2009-04-09\n",
      "2009-04-10\n",
      "2009-04-11\n",
      "2009-04-12\n",
      "2009-04-13\n",
      "2009-04-14\n",
      "2009-04-15\n",
      "2009-04-16\n",
      "2009-04-17\n",
      "2009-04-22\n",
      "2009-04-23\n",
      "2009-04-24\n",
      "2009-04-25\n",
      "2009-04-26\n",
      "2009-04-27\n",
      "2009-04-28\n",
      "2009-04-29\n",
      "2009-04-30\n",
      "2009-05-01\n",
      "2009-05-05\n",
      "2009-05-06\n",
      "2009-05-07\n",
      "2009-05-08\n",
      "2009-05-09\n",
      "2009-05-13\n",
      "2009-05-15\n",
      "2009-05-16\n",
      "2009-05-19\n",
      "2009-05-20\n",
      "2009-05-21\n",
      "2009-05-23\n",
      "2009-05-26\n",
      "2009-05-28\n",
      "2009-06-09\n",
      "2009-06-10\n",
      "2009-06-11\n",
      "2009-06-12\n",
      "2009-06-13\n"
     ]
    },
    {
     "name": "stderr",
     "output_type": "stream",
     "text": [
      "\r",
      "                                                                                \r"
     ]
    }
   ],
   "source": [
    "from pyspark.sql.functions import col, date_add, datediff\n",
    "import pyspark.sql.functions as F\n",
    "from datetime import date, timedelta\n",
    "\n",
    "# Extract the date part from the 'date' column\n",
    "data = data.withColumn(\"date\", col(\"date\").cast(\"date\"))\n",
    "\n",
    "# Sort the DataFrame by date\n",
    "data = data.orderBy(\"date\")\n",
    "\n",
    "# Calculate the next date using the lead function\n",
    "data = data.withColumn(\"next_date\", date_add(col(\"date\"), 1))\n",
    "\n",
    "# Check if the next date is continuous (no break)\n",
    "data = data.withColumn(\"is_continuous\", datediff(col(\"next_date\"), col(\"date\")) == 1)\n",
    "\n",
    "# Create a window specification to order by date\n",
    "window_spec = Window.orderBy(\"date\")\n",
    "\n",
    "# Assign a group identifier to continuous sequences\n",
    "data = data.withColumn(\"group_id\", F.sum(col(\"is_continuous\").cast(\"int\")).over(window_spec))\n",
    "\n",
    "# Filter only the rows with continuous sequences\n",
    "continuous_dates = data.filter(col(\"is_continuous\")).select(\"date\").distinct()\n",
    "\n",
    "# Sort the list in ascending order\n",
    "continuous_dates = continuous_dates.orderBy(\"date\")\n",
    "\n",
    "# Get the first and last dates in the DataFrame\n",
    "first_date = continuous_dates.first().date\n",
    "last_date = continuous_dates.orderBy(col(\"date\").desc()).first().date\n",
    "\n",
    "# Print the first and last dates\n",
    "print(\"First Date:\", first_date)\n",
    "print(\"Last Date:\", last_date)\n",
    "\n",
    "# Define the start and end date for the range\n",
    "start_date = first_date\n",
    "end_date = last_date\n",
    "\n",
    "# Generate a list of all dates in the range\n",
    "date_range = [start_date + timedelta(days=x) for x in range((end_date - start_date).days + 1)]\n",
    "\n",
    "# Convert the list of continuous dates to a Python list\n",
    "continuous_dates_list = [row.date for row in continuous_dates.collect()]\n",
    "\n",
    "# Find the dates not in the list\n",
    "missing_dates = [d for d in date_range if d not in continuous_dates_list]\n",
    "\n",
    "# Print the missing dates\n",
    "for missing_date in missing_dates:\n",
    "    print(missing_date)"
   ]
  },
  {
   "cell_type": "markdown",
   "id": "5b5befb8",
   "metadata": {},
   "source": [
    "### Create a HBase database in Spark application"
   ]
  },
  {
   "cell_type": "code",
   "execution_count": 20,
   "id": "f8ed1f9b",
   "metadata": {},
   "outputs": [],
   "source": [
    "# Read the data.csv into Hadoop from HDFS (Hadoop Distributed File System) storage\n",
    "data = spark.read.option(\"header\", \"true\").csv(\"hdfs://localhost:9000/user/hduser/CA2/ProjectTweets.csv\")\n",
    "\n",
    "# Check if the data was loaded successfully\n",
    "if data is not None:\n",
    "    # Define column names\n",
    "    new_column_names = [\"number\", \"id_tweet\", \"date\", \"query\", \"user_id\", \"tweet\"]\n",
    "\n",
    "    # Use the alias method to rename the columns\n",
    "    for i in range(len(new_column_names)):\n",
    "        data = data.withColumnRenamed(data.columns[i], new_column_names[i])"
   ]
  },
  {
   "cell_type": "code",
   "execution_count": 21,
   "id": "fd9b3a70",
   "metadata": {},
   "outputs": [],
   "source": [
    "# !pip install happybase"
   ]
  },
  {
   "cell_type": "code",
   "execution_count": 22,
   "id": "902c17c6",
   "metadata": {},
   "outputs": [],
   "source": [
    "import happybase\n",
    "\n",
    "# Specify the HBase host and port\n",
    "hbase_host = \"localhost\"  \n",
    "hbase_port = 9000  \n",
    "table_name = 'ProjectTweets'  # Define table name here\n",
    "column_family = 'cf'  # Define column family name here"
   ]
  },
  {
   "cell_type": "code",
   "execution_count": 26,
   "id": "0418fdb7",
   "metadata": {},
   "outputs": [
    {
     "name": "stderr",
     "output_type": "stream",
     "text": [
      "                                                                                \r"
     ]
    },
    {
     "data": {
      "text/plain": [
       "1599999"
      ]
     },
     "execution_count": 26,
     "metadata": {},
     "output_type": "execute_result"
    }
   ],
   "source": [
    "# Define a function to insert data into HBase\n",
    "def insert_into_hbase(row):\n",
    "    # Define the HBase row key based on the data\n",
    "    row_key = row['id_tweet']\n",
    "    \n",
    "    # Define the data to insert into HBase\n",
    "    data_dict = {\n",
    "        f\"{column_family}:number\": str(row['number']),\n",
    "        f\"{column_family}:date\": row['date'],\n",
    "        f\"{column_family}:query\": row['query'],\n",
    "        f\"{column_family}:user_id\": row['user_id'],\n",
    "        f\"{column_family}:tweet\": row['tweet'],\n",
    "    }\n",
    "    \n",
    "    # Access the HBase table\n",
    "    table = connection.table(table_name)\n",
    "    \n",
    "    # Insert the data into HBase\n",
    "    table.put(row_key.encode(), data_dict)\n",
    "    \n",
    "    # Close the connection\n",
    "    connection.close()\n",
    "\n",
    "# Use the map transformation to insert data into HBase\n",
    "data.rdd.map(insert_into_hbase)\n",
    "\n",
    "# Trigger an action (e.g., count) to execute the transformations\n",
    "data.rdd.count()"
   ]
  },
  {
   "cell_type": "markdown",
   "id": "62405393",
   "metadata": {},
   "source": [
    "from pyspark.sql import SparkSession\n",
    "import happybase\n",
    "\n",
    "# Initialize Spark\n",
    "spark = SparkSession.builder.appName(\"PySparkHBaseExample\").getOrCreate()\n",
    "\n",
    "# Define HBase configuration\n",
    "hbase_host = \"localhost\"  # Replace with your HBase host\n",
    "hbase_port = 9000  # Replace with your HBase Thrift port\n",
    "\n",
    "# Create an HBase connection\n",
    "connection = happybase.Connection(hbase_host, port=hbase_port)\n",
    "\n",
    "# List HBase tables (optional)\n",
    "tables = connection.tables()\n",
    "print(\"HBase Tables: \", tables)\n",
    "\n",
    "# Select an HBase table\n",
    "table_name = \"ProjectTweets\"  # Replace with your table name\n",
    "table = connection.table(table_name)\n",
    "\n",
    "# Query data from the HBase table\n",
    "for key, data in table.scan():\n",
    "    print(\"Row Key: \", key)\n",
    "    print(\"Data: \", data)\n",
    "\n",
    "# Close the HBase connection\n",
    "connection.close()\n",
    "\n",
    "# Stop Spark\n",
    "spark.stop()\n"
   ]
  },
  {
   "cell_type": "markdown",
   "id": "88011fac",
   "metadata": {},
   "source": [
    "### Time Series Analysis"
   ]
  },
  {
   "cell_type": "code",
   "execution_count": null,
   "id": "49175ad2",
   "metadata": {},
   "outputs": [],
   "source": [
    "from pyspark.sql import SparkSession\n",
    "from pyspark.sql.functions import to_date\n",
    "from pyspark.sql import functions as F\n",
    "from pysparkts.models import ARIMA\n",
    "import matplotlib.pyplot as plt\n",
    "\n",
    "# Initialize a Spark session\n",
    "spark = SparkSession.builder.appName(\"TimeSeriesAnalysis\").getOrCreate()\n",
    "\n",
    "# Load your data from Hive (replace 'your_table' with the actual table name)\n",
    "data = spark.sql(\"SELECT date, tweet_count FROM your_table\")\n",
    "\n",
    "# Cast 'date' to a timestamp if it's not already in that format\n",
    "data = data.withColumn(\"date\", F.to_timestamp(data[\"date\"]))\n",
    "\n",
    "# Perform time series analysis using pyspark-ts\n",
    "# For example, let's use ARIMA as an example model\n",
    "model = ARIMA(maxOrder=(1, 1, 1), seasonalOrder=(0, 1, 1, 7))\n",
    "fitted_model = model.fit(data, \"date\", \"tweet_count\")\n",
    "\n",
    "# Get the forecasted values\n",
    "forecast = fitted_model.forecast(data, steps=30)  # Adjust the number of steps as needed\n",
    "\n",
    "# Plot the forecasted values\n",
    "plt.figure(figsize=(12, 6))\n",
    "plt.plot(data.select(\"date\").rdd.map(lambda row: row[0]).collect(), data.select(\"tweet_count\").rdd.map(lambda row: row[0]).collect(), label=\"Actual\")\n",
    "plt.plot(data.select(\"date\").rdd.map(lambda row: row[0]).collect()[-1:], forecast.collect(), label=\"Forecast\")\n",
    "plt.title(\"Tweet Count Time Series Forecast\")\n",
    "plt.xlabel(\"Date\")\n",
    "plt.ylabel(\"Tweet Count\")\n",
    "plt.xticks(rotation=45)\n",
    "plt.legend()\n",
    "plt.tight_layout()\n",
    "\n",
    "# Show the plot\n",
    "plt.show()"
   ]
  }
 ],
 "metadata": {
  "kernelspec": {
   "display_name": "Python 3 (ipykernel)",
   "language": "python",
   "name": "python3"
  },
  "language_info": {
   "codemirror_mode": {
    "name": "ipython",
    "version": 3
   },
   "file_extension": ".py",
   "mimetype": "text/x-python",
   "name": "python",
   "nbconvert_exporter": "python",
   "pygments_lexer": "ipython3",
   "version": "3.10.12"
  }
 },
 "nbformat": 4,
 "nbformat_minor": 5
}
