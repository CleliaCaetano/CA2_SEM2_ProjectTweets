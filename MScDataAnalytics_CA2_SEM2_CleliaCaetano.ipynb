{
 "cells": [
  {
   "cell_type": "markdown",
   "id": "5efbb14c",
   "metadata": {},
   "source": [
    "### Clelia Caetano 2023060 (CA2_SEM2)\n",
    "### MSc. in Data Analytics\n",
    "### Project Tweets"
   ]
  },
  {
   "cell_type": "code",
   "execution_count": 1,
   "id": "1eb91c6d",
   "metadata": {},
   "outputs": [
    {
     "data": {
      "text/plain": [
       "'local[*]'"
      ]
     },
     "execution_count": 1,
     "metadata": {},
     "output_type": "execute_result"
    }
   ],
   "source": [
    "# sc master - running locally\n",
    "sc.master"
   ]
  },
  {
   "cell_type": "code",
   "execution_count": 2,
   "id": "4f8b8fc6",
   "metadata": {},
   "outputs": [],
   "source": [
    "import warnings\n",
    "warnings.filterwarnings(\"ignore\")"
   ]
  },
  {
   "cell_type": "code",
   "execution_count": 3,
   "id": "334b3b23",
   "metadata": {},
   "outputs": [],
   "source": [
    "# Load the libraries\n",
    "import os\n",
    "from pyspark.sql import SparkSession"
   ]
  },
  {
   "cell_type": "markdown",
   "id": "8073afae",
   "metadata": {},
   "source": [
    "### Initialize Spark Session"
   ]
  },
  {
   "cell_type": "code",
   "execution_count": 4,
   "id": "3d8bdecf",
   "metadata": {},
   "outputs": [],
   "source": [
    "# Create a Spark session with necessary configurations\n",
    "spark = SparkSession.builder.appName('ProjectTweets') \\\n",
    "                    .config(\"spark.some_config_option\", \"config_value\") \\\n",
    "                    .getOrCreate()"
   ]
  },
  {
   "cell_type": "markdown",
   "id": "6d37eab8",
   "metadata": {},
   "source": [
    "### Read the Data from HDFS"
   ]
  },
  {
   "cell_type": "code",
   "execution_count": 5,
   "id": "739e385b",
   "metadata": {},
   "outputs": [
    {
     "name": "stderr",
     "output_type": "stream",
     "text": [
      "\r",
      "[Stage 0:>                                                          (0 + 1) / 1]\r",
      "\r",
      "                                                                                \r"
     ]
    },
    {
     "name": "stdout",
     "output_type": "stream",
     "text": [
      "+------+----------+--------------------+--------+-------------+--------------------+\n",
      "|number|  id_tweet|                date|   query|      user_id|               tweet|\n",
      "+------+----------+--------------------+--------+-------------+--------------------+\n",
      "|     1|1467810672|Mon Apr 06 22:19:...|NO_QUERY|scotthamilton|is upset that he ...|\n",
      "|     2|1467810917|Mon Apr 06 22:19:...|NO_QUERY|     mattycus|@Kenichan I dived...|\n",
      "|     3|1467811184|Mon Apr 06 22:19:...|NO_QUERY|      ElleCTF|my whole body fee...|\n",
      "|     4|1467811193|Mon Apr 06 22:19:...|NO_QUERY|       Karoli|@nationwideclass ...|\n",
      "|     5|1467811372|Mon Apr 06 22:20:...|NO_QUERY|     joy_wolf|@Kwesidei not the...|\n",
      "+------+----------+--------------------+--------+-------------+--------------------+\n",
      "only showing top 5 rows\n",
      "\n"
     ]
    }
   ],
   "source": [
    "# Load the data and create a temporary view in Spark\n",
    "try:\n",
    "    # Read the data.csv into Hadoop from HDFS (Hadoop Distributed File System) storage\n",
    "    data = spark.read.option(\"header\", \"true\").csv(\"hdfs://localhost:9000/user/hduser/CA2/ProjectTweets.csv\")\n",
    "    \n",
    "    # Check if the data was loaded successfully\n",
    "    if data is not None:\n",
    "        # Define column names\n",
    "        new_column_names = [\"number\", \"id_tweet\", \"date\", \"query\", \"user_id\", \"tweet\"]\n",
    "\n",
    "        # Use the alias method to rename the columns\n",
    "        for i in range(len(new_column_names)):\n",
    "            data = data.withColumnRenamed(data.columns[i], new_column_names[i])\n",
    "\n",
    "        # Create a temporary table from the DataFrame\n",
    "        data.createOrReplaceTempView(\"CA2_ProjectTweets\")\n",
    "\n",
    "        # Run Spark SQL queries using the same SparkSession\n",
    "        data = spark.sql(\"SELECT * FROM CA2_ProjectTweets\") \n",
    "\n",
    "        # Display the first 5 rows\n",
    "        data.show(5)\n",
    "    else:\n",
    "        print(\"Data not loaded successfully.\")\n",
    "\n",
    "except Exception as e:\n",
    "    print(\"An error occurred:\", str(e))"
   ]
  },
  {
   "cell_type": "markdown",
   "id": "9d33efac",
   "metadata": {},
   "source": [
    "### Create a Hive database in Spark application"
   ]
  },
  {
   "cell_type": "code",
   "execution_count": 6,
   "id": "edfe5cca",
   "metadata": {},
   "outputs": [
    {
     "name": "stderr",
     "output_type": "stream",
     "text": [
      "2023-11-05 17:00:13,503 WARN conf.HiveConf: HiveConf of name hive.stats.jdbc.timeout does not exist\n",
      "2023-11-05 17:00:13,504 WARN conf.HiveConf: HiveConf of name hive.stats.retries.wait does not exist\n",
      "2023-11-05 17:00:15,834 WARN metastore.ObjectStore: Version information not found in metastore. hive.metastore.schema.verification is not enabled so recording the schema version 2.3.0\n",
      "2023-11-05 17:00:15,834 WARN metastore.ObjectStore: setMetaStoreSchemaVersion called but recording version is disabled: version = 2.3.0, comment = Set by MetaStore hduser@127.0.1.1\n",
      "2023-11-05 17:00:16,242 WARN metastore.ObjectStore: Failed to get database global_temp, returning NoSuchObjectException\n",
      "2023-11-05 17:00:23,559 WARN session.SessionState: METASTORE_FILTER_HOOK will be ignored, since hive.security.authorization.manager is set to instance of HiveAuthorizerFactory.\n",
      "2023-11-05 17:00:23,710 WARN conf.HiveConf: HiveConf of name hive.internal.ss.authz.settings.applied.marker does not exist\n",
      "2023-11-05 17:00:23,710 WARN conf.HiveConf: HiveConf of name hive.stats.jdbc.timeout does not exist\n",
      "2023-11-05 17:00:23,711 WARN conf.HiveConf: HiveConf of name hive.stats.retries.wait does not exist\n"
     ]
    }
   ],
   "source": [
    "# Save the DataFrame as a Hive table\n",
    "data.write.mode(\"overwrite\").saveAsTable(\"ca2_projecttweets\")"
   ]
  },
  {
   "cell_type": "code",
   "execution_count": 7,
   "id": "697d6d85",
   "metadata": {},
   "outputs": [
    {
     "data": {
      "text/plain": [
       "DataFrame[]"
      ]
     },
     "execution_count": 7,
     "metadata": {},
     "output_type": "execute_result"
    }
   ],
   "source": [
    "# Set the current database\n",
    "spark.sql(\"USE ca2_projecttweets\")"
   ]
  },
  {
   "cell_type": "code",
   "execution_count": 8,
   "id": "60af3923",
   "metadata": {},
   "outputs": [
    {
     "name": "stdout",
     "output_type": "stream",
     "text": [
      "+------+----------+--------------------+--------+-------------+--------------------+\n",
      "|number|  id_tweet|                date|   query|      user_id|               tweet|\n",
      "+------+----------+--------------------+--------+-------------+--------------------+\n",
      "|     1|1467810672|Mon Apr 06 22:19:...|NO_QUERY|scotthamilton|is upset that he ...|\n",
      "|     2|1467810917|Mon Apr 06 22:19:...|NO_QUERY|     mattycus|@Kenichan I dived...|\n",
      "|     3|1467811184|Mon Apr 06 22:19:...|NO_QUERY|      ElleCTF|my whole body fee...|\n",
      "|     4|1467811193|Mon Apr 06 22:19:...|NO_QUERY|       Karoli|@nationwideclass ...|\n",
      "|     5|1467811372|Mon Apr 06 22:20:...|NO_QUERY|     joy_wolf|@Kwesidei not the...|\n",
      "+------+----------+--------------------+--------+-------------+--------------------+\n",
      "only showing top 5 rows\n",
      "\n"
     ]
    }
   ],
   "source": [
    "# Run a SQL query to select all rows from the table\n",
    "result = spark.sql(\"SELECT `number`, `id_tweet`, `date`, `query`, `user_id`, `tweet` FROM ca2_projecttweets\")\n",
    "\n",
    "# Show the first 5 rows\n",
    "result.show(5)"
   ]
  },
  {
   "cell_type": "code",
   "execution_count": 9,
   "id": "3f3ea44d",
   "metadata": {},
   "outputs": [
    {
     "name": "stderr",
     "output_type": "stream",
     "text": [
      "                                                                                \r"
     ]
    }
   ],
   "source": [
    "# Save the preprocessed data as a new table if needed\n",
    "result.write.mode(\"overwrite\").saveAsTable(\"preprocessed_ca2_projecttweets\")"
   ]
  },
  {
   "cell_type": "code",
   "execution_count": 10,
   "id": "811dcc55",
   "metadata": {},
   "outputs": [
    {
     "name": "stdout",
     "output_type": "stream",
     "text": [
      "root\n",
      " |-- number: string (nullable = true)\n",
      " |-- id_tweet: string (nullable = true)\n",
      " |-- date: string (nullable = true)\n",
      " |-- query: string (nullable = true)\n",
      " |-- user_id: string (nullable = true)\n",
      " |-- tweet: string (nullable = true)\n",
      "\n"
     ]
    }
   ],
   "source": [
    "# Access the Hive table and create a DataFrame\n",
    "data = spark.table(\"preprocessed_ca2_projecttweets\")\n",
    "\n",
    "# Print the schema\n",
    "data.printSchema()"
   ]
  },
  {
   "cell_type": "code",
   "execution_count": 11,
   "id": "df25ce67",
   "metadata": {},
   "outputs": [
    {
     "name": "stdout",
     "output_type": "stream",
     "text": [
      "The size of the dataset is: 1599999 rows\n"
     ]
    }
   ],
   "source": [
    "# Check the size of the data\n",
    "data_size = data.count()\n",
    "print(f\"The size of the dataset is: {data_size} rows\")"
   ]
  },
  {
   "cell_type": "markdown",
   "id": "bb792364",
   "metadata": {},
   "source": [
    "### Exploratory data analysis (EDA)"
   ]
  },
  {
   "cell_type": "code",
   "execution_count": 12,
   "id": "03f29f88",
   "metadata": {},
   "outputs": [
    {
     "name": "stderr",
     "output_type": "stream",
     "text": [
      "[Stage 38:=============================>                            (1 + 1) / 2]\r"
     ]
    },
    {
     "name": "stdout",
     "output_type": "stream",
     "text": [
      "Overall unique value counts:\n",
      "number: 1599999\n",
      "id_tweet: 1598314\n",
      "date: 774362\n",
      "query: 1\n",
      "user_id: 659775\n",
      "tweet: 1581465\n"
     ]
    },
    {
     "name": "stderr",
     "output_type": "stream",
     "text": [
      "\r",
      "[Stage 40:=============================>                            (1 + 1) / 2]\r",
      "\r",
      "                                                                                \r"
     ]
    }
   ],
   "source": [
    "# Calculate the number of unique values in each column.\n",
    "# List of column names\n",
    "column_names = [\"number\", \"id_tweet\", \"date\", \"query\", \"user_id\", \"tweet\"]\n",
    "\n",
    "# Dictionary to store unique value counts\n",
    "unique_counts = {}\n",
    "\n",
    "# Iterate through the columns and count unique values\n",
    "for column_name in column_names:\n",
    "    unique_values = data.select(column_name).distinct()\n",
    "    unique_count = unique_values.count()\n",
    "    unique_counts[column_name] = unique_count\n",
    "\n",
    "# Print the overall count for each column\n",
    "print(\"Overall unique value counts:\")\n",
    "for column, count in unique_counts.items():\n",
    "    print(f\"{column}: {count}\")"
   ]
  },
  {
   "cell_type": "code",
   "execution_count": 13,
   "id": "eec1a022",
   "metadata": {},
   "outputs": [
    {
     "name": "stdout",
     "output_type": "stream",
     "text": [
      "+--------------------+--------------------+\n",
      "|                date|               tweet|\n",
      "+--------------------+--------------------+\n",
      "|Mon Apr 06 22:19:...|is upset that he ...|\n",
      "|Mon Apr 06 22:19:...|@Kenichan I dived...|\n",
      "|Mon Apr 06 22:19:...|my whole body fee...|\n",
      "|Mon Apr 06 22:19:...|@nationwideclass ...|\n",
      "|Mon Apr 06 22:20:...|@Kwesidei not the...|\n",
      "+--------------------+--------------------+\n",
      "only showing top 5 rows\n",
      "\n"
     ]
    }
   ],
   "source": [
    "# Drop columns that are duplicates and other irrelevant data information\n",
    "data = data.drop('number', 'id_tweet', 'query', 'user_id')\n",
    "\n",
    "# Show the updated DataFrame\n",
    "data.show(5)"
   ]
  },
  {
   "cell_type": "markdown",
   "id": "be0c7954",
   "metadata": {},
   "source": [
    "### Missing Values"
   ]
  },
  {
   "cell_type": "code",
   "execution_count": 14,
   "id": "61b25cd3",
   "metadata": {},
   "outputs": [
    {
     "name": "stdout",
     "output_type": "stream",
     "text": [
      "Missing values in 'date': 0\n",
      "Missing values in 'tweet': 0\n"
     ]
    }
   ],
   "source": [
    "# Iterate through all columns and print missing value counts\n",
    "for column_name in data.columns:\n",
    "    missing_count = data.filter(data[column_name].isNull()).count()\n",
    "    print(f\"Missing values in '{column_name}': {missing_count}\")"
   ]
  },
  {
   "cell_type": "code",
   "execution_count": 15,
   "id": "c3d7bf51",
   "metadata": {},
   "outputs": [
    {
     "name": "stdout",
     "output_type": "stream",
     "text": [
      "root\n",
      " |-- date: string (nullable = true)\n",
      " |-- tweet: string (nullable = true)\n",
      "\n"
     ]
    }
   ],
   "source": [
    "# Print the schema\n",
    "data.printSchema()"
   ]
  },
  {
   "cell_type": "code",
   "execution_count": 16,
   "id": "62bc20ce",
   "metadata": {},
   "outputs": [],
   "source": [
    "# Call the columns\n",
    "columns = [\"date\", \"tweet\"]\n",
    "\n",
    "# Set 'tweet' column as the index to convert it as label\n",
    "data = data.withColumn(\"tweet\", data[\"tweet\"]).drop(\"tweet\")"
   ]
  },
  {
   "cell_type": "markdown",
   "id": "7bbec1a4",
   "metadata": {},
   "source": [
    "### Descriptive Statistics"
   ]
  },
  {
   "cell_type": "code",
   "execution_count": 17,
   "id": "11680ca9",
   "metadata": {},
   "outputs": [
    {
     "name": "stderr",
     "output_type": "stream",
     "text": [
      "\r",
      "[Stage 51:>                                                         (0 + 2) / 2]\r"
     ]
    },
    {
     "name": "stdout",
     "output_type": "stream",
     "text": [
      "+-------+--------------------+\n",
      "|summary|                date|\n",
      "+-------+--------------------+\n",
      "|  count|             1599999|\n",
      "|   mean|                null|\n",
      "| stddev|                null|\n",
      "|    min|Fri Apr 17 20:30:...|\n",
      "|    max|Wed May 27 07:27:...|\n",
      "+-------+--------------------+\n",
      "\n"
     ]
    },
    {
     "name": "stderr",
     "output_type": "stream",
     "text": [
      "\r",
      "                                                                                \r"
     ]
    }
   ],
   "source": [
    "# Compute and interpret the mean, median, quartiles, and standard deviation for \"date\" and \"tweet count\"\n",
    "data.describe([\"date\"]).show()"
   ]
  },
  {
   "cell_type": "markdown",
   "id": "760501a6",
   "metadata": {},
   "source": [
    "### Create a configuration to convert string 'date' into timestamp"
   ]
  },
  {
   "cell_type": "code",
   "execution_count": 18,
   "id": "19e78a55",
   "metadata": {},
   "outputs": [
    {
     "name": "stdout",
     "output_type": "stream",
     "text": [
      "+-------------------+\n",
      "|               date|\n",
      "+-------------------+\n",
      "|2009-04-07 06:19:49|\n",
      "|2009-04-07 06:19:53|\n",
      "|2009-04-07 06:19:57|\n",
      "|2009-04-07 06:19:57|\n",
      "|2009-04-07 06:20:00|\n",
      "+-------------------+\n",
      "only showing top 5 rows\n",
      "\n"
     ]
    }
   ],
   "source": [
    "# Create a SparkSession with the 'spark.sql.legacy.timeParserPolicy' configuration\n",
    "spark = SparkSession.builder.config(\"spark.sql.legacy.timeParserPolicy\", \"LEGACY\").getOrCreate()\n",
    "\n",
    "# Import libraries to convert\n",
    "from pyspark.sql.functions import from_unixtime, unix_timestamp\n",
    "from pyspark.sql.types import TimestampType\n",
    "\n",
    "# Convert 'date' column in string format to the timestamp\n",
    "data = data.withColumn(\"date\", from_unixtime(unix_timestamp(data[\"date\"], \"E MMM dd HH:mm:ss z yyyy\")).cast(TimestampType()))\n",
    "\n",
    "# Print the 'date' column with the new format\n",
    "data.select(\"date\").show(5)"
   ]
  },
  {
   "cell_type": "markdown",
   "id": "5043321f",
   "metadata": {},
   "source": [
    "### Groupby 'date'"
   ]
  },
  {
   "cell_type": "code",
   "execution_count": 19,
   "id": "b03a7e25",
   "metadata": {},
   "outputs": [
    {
     "name": "stderr",
     "output_type": "stream",
     "text": [
      "                                                                                \r"
     ]
    }
   ],
   "source": [
    "import matplotlib.pyplot as plt\n",
    "from pyspark.sql.functions import to_date, count\n",
    "from pyspark.sql.window import Window\n",
    "\n",
    "# Group the data by the date without the hour\n",
    "data = data.withColumn(\"date_without_hour\", to_date(data[\"date\"]))\n",
    "date_counts = data.groupBy(\"date_without_hour\").agg(count(\"*\").alias(\"tweet_count\"))\n",
    "\n",
    "# Sort the data by date without hour\n",
    "date_counts = date_counts.orderBy(\"date_without_hour\")\n",
    "\n",
    "# Collect the data to the driver\n",
    "date_counts = date_counts.collect()\n",
    "\n",
    "# Extract dates and tweet counts for plotting\n",
    "dates = [str(row.date_without_hour) for row in date_counts]\n",
    "tweet_counts = [row.tweet_count for row in date_counts]"
   ]
  },
  {
   "cell_type": "code",
   "execution_count": 20,
   "id": "0c332e4d",
   "metadata": {},
   "outputs": [
    {
     "data": {
      "image/png": "[encoded data removed]",
      "text/plain": [
       "<Figure size 864x432 with 1 Axes>"
      ]
     },
     "metadata": {
      "needs_background": "light"
     },
     "output_type": "display_data"
    }
   ],
   "source": [
    "# Plot the tweet count\n",
    "plt.figure(figsize=(12, 6))\n",
    "plt.bar(dates, tweet_counts)\n",
    "plt.title(\"Tweet Count Over Time (Aggregated by Date)\")\n",
    "plt.xlabel(\"Date\")\n",
    "plt.ylabel(\"Tweet Count\")\n",
    "plt.xticks(rotation=45)  # Rotate x-axis labels for readability\n",
    "plt.tight_layout()\n",
    "\n",
    "# Show the plot\n",
    "plt.show()"
   ]
  },
  {
   "cell_type": "code",
   "execution_count": 21,
   "id": "5bd61c64",
   "metadata": {},
   "outputs": [
    {
     "name": "stderr",
     "output_type": "stream",
     "text": [
      "                                                                                \r"
     ]
    },
    {
     "name": "stdout",
     "output_type": "stream",
     "text": [
      "First Date: 2009-04-07\n",
      "Last Date: 2009-06-25\n"
     ]
    },
    {
     "name": "stderr",
     "output_type": "stream",
     "text": [
      "[Stage 69:=============================>                            (1 + 1) / 2]\r"
     ]
    },
    {
     "name": "stdout",
     "output_type": "stream",
     "text": [
      "2009-04-08\n",
      "2009-04-09\n",
      "2009-04-10\n",
      "2009-04-11\n",
      "2009-04-12\n",
      "2009-04-13\n",
      "2009-04-14\n",
      "2009-04-15\n",
      "2009-04-16\n",
      "2009-04-17\n",
      "2009-04-22\n",
      "2009-04-23\n",
      "2009-04-24\n",
      "2009-04-25\n",
      "2009-04-26\n",
      "2009-04-27\n",
      "2009-04-28\n",
      "2009-04-29\n",
      "2009-04-30\n",
      "2009-05-01\n",
      "2009-05-05\n",
      "2009-05-06\n",
      "2009-05-07\n",
      "2009-05-08\n",
      "2009-05-09\n",
      "2009-05-13\n",
      "2009-05-15\n",
      "2009-05-16\n",
      "2009-05-19\n",
      "2009-05-20\n",
      "2009-05-21\n",
      "2009-05-23\n",
      "2009-05-26\n",
      "2009-05-28\n",
      "2009-06-09\n",
      "2009-06-10\n",
      "2009-06-11\n",
      "2009-06-12\n",
      "2009-06-13\n",
      "Missing Days Count: 39\n"
     ]
    },
    {
     "name": "stderr",
     "output_type": "stream",
     "text": [
      "\r",
      "                                                                                \r"
     ]
    }
   ],
   "source": [
    "from pyspark.sql.functions import col, date_add, datediff\n",
    "import pyspark.sql.functions as F\n",
    "from datetime import date, timedelta\n",
    "\n",
    "# Extract the date part from the 'date' column\n",
    "data = data.withColumn(\"date\", col(\"date\").cast(\"date\"))\n",
    "\n",
    "# Sort the DataFrame by date\n",
    "data = data.orderBy(\"date\")\n",
    "\n",
    "# Calculate the next date using the lead function\n",
    "data = data.withColumn(\"next_date\", date_add(col(\"date\"), 1))\n",
    "\n",
    "# Check if the next date is continuous (no break)\n",
    "data = data.withColumn(\"is_continuous\", datediff(col(\"next_date\"), col(\"date\")) == 1)\n",
    "\n",
    "# Create a window specification to order by date\n",
    "window_spec = Window.orderBy(\"date\")\n",
    "\n",
    "# Assign a group identifier to continuous sequences\n",
    "data = data.withColumn(\"group_id\", F.sum(col(\"is_continuous\").cast(\"int\")).over(window_spec))\n",
    "\n",
    "# Filter only the rows with continuous sequences\n",
    "continuous_dates = data.filter(col(\"is_continuous\")).select(\"date\").distinct()\n",
    "\n",
    "# Sort the list in ascending order\n",
    "continuous_dates = continuous_dates.orderBy(\"date\")\n",
    "\n",
    "# Get the first and last dates in the DataFrame\n",
    "first_date = continuous_dates.first().date\n",
    "last_date = continuous_dates.orderBy(col(\"date\").desc()).first().date\n",
    "\n",
    "# Print the first and last dates\n",
    "print(\"First Date:\", first_date)\n",
    "print(\"Last Date:\", last_date)\n",
    "\n",
    "# Define the start and end date for the range\n",
    "start_date = first_date\n",
    "end_date = last_date\n",
    "\n",
    "# Generate a list of all dates in the range\n",
    "date_range = [start_date + timedelta(days=x) for x in range((end_date - start_date).days + 1)]\n",
    "\n",
    "# Convert the list of continuous dates to a Python list\n",
    "continuous_dates_list = [row.date for row in continuous_dates.collect()]\n",
    "\n",
    "# Find the dates not in the list\n",
    "missing_dates = [d for d in date_range if d not in continuous_dates_list]\n",
    "\n",
    "# Print the missing dates\n",
    "for missing_date in missing_dates:\n",
    "    print(missing_date)\n",
    "\n",
    "# Count the missing days\n",
    "missing_days_count = len(missing_dates)\n",
    "\n",
    "# Print the missing days count\n",
    "print(\"Missing Days Count:\", missing_days_count)"
   ]
  },
  {
   "cell_type": "markdown",
   "id": "239a1b53",
   "metadata": {},
   "source": [
    "### Outliers"
   ]
  },
  {
   "cell_type": "code",
   "execution_count": 22,
   "id": "c0f74a08",
   "metadata": {},
   "outputs": [
    {
     "name": "stderr",
     "output_type": "stream",
     "text": [
      "                                                                                \r"
     ]
    },
    {
     "data": {
      "image/png": "[encoded data removed]",
      "text/plain": [
       "<Figure size 720x432 with 1 Axes>"
      ]
     },
     "metadata": {
      "needs_background": "light"
     },
     "output_type": "display_data"
    }
   ],
   "source": [
    "import matplotlib.pyplot as plt\n",
    "from pyspark.sql.functions import to_date, count\n",
    "from pyspark.sql.window import Window\n",
    "\n",
    "# Group the data by the date without the hour\n",
    "data = data.withColumn(\"date_without_hour\", to_date(data[\"date\"]))\n",
    "date_counts = data.groupBy(\"date_without_hour\").agg(count(\"*\").alias(\"tweet_count\"))\n",
    "\n",
    "# Sort the data by date without hour\n",
    "date_counts = date_counts.orderBy(\"date_without_hour\")\n",
    "\n",
    "# Collect the data to the driver\n",
    "date_counts = date_counts.collect()\n",
    "\n",
    "# Extract tweet counts for plotting\n",
    "tweet_counts = [row.tweet_count for row in date_counts]\n",
    "\n",
    "# Create a box plot with outliers marked\n",
    "plt.figure(figsize=(10, 6))\n",
    "plt.boxplot(tweet_counts, vert=False, flierprops=dict(marker='o', markerfacecolor='red', markersize=8))\n",
    "plt.title(\"Box Plot of Tweet Counts by Date\")\n",
    "plt.xlabel(\"Tweet Counts\")\n",
    "plt.grid(True)\n",
    "\n",
    "plt.show()"
   ]
  },
  {
   "cell_type": "code",
   "execution_count": 23,
   "id": "ff93c4d7",
   "metadata": {},
   "outputs": [
    {
     "name": "stdout",
     "output_type": "stream",
     "text": [
      "Potential Outliers:\n",
      "Date: 2009-04-21, Tweet Count: 11105\n",
      "Date: 2009-05-11, Tweet Count: 6217\n",
      "Date: 2009-05-12, Tweet Count: 4186\n",
      "Date: 2009-05-17, Tweet Count: 41205\n",
      "Date: 2009-05-18, Tweet Count: 44564\n",
      "Date: 2009-05-22, Tweet Count: 41206\n",
      "Date: 2009-05-24, Tweet Count: 169\n",
      "Date: 2009-05-25, Tweet Count: 169\n",
      "Date: 2009-05-27, Tweet Count: 11619\n",
      "Date: 2009-05-29, Tweet Count: 55874\n",
      "Date: 2009-05-30, Tweet Count: 103990\n",
      "Date: 2009-05-31, Tweet Count: 105820\n",
      "Date: 2009-06-01, Tweet Count: 95479\n",
      "Date: 2009-06-02, Tweet Count: 81633\n",
      "Date: 2009-06-03, Tweet Count: 61265\n",
      "Date: 2009-06-04, Tweet Count: 4638\n",
      "Date: 2009-06-06, Tweet Count: 104053\n",
      "Date: 2009-06-07, Tweet Count: 112221\n",
      "Date: 2009-06-14, Tweet Count: 500\n",
      "Date: 2009-06-15, Tweet Count: 78395\n",
      "Date: 2009-06-16, Tweet Count: 90410\n",
      "Date: 2009-06-17, Tweet Count: 44003\n",
      "Date: 2009-06-18, Tweet Count: 43271\n",
      "Date: 2009-06-19, Tweet Count: 42944\n",
      "Date: 2009-06-20, Tweet Count: 45673\n",
      "Date: 2009-06-22, Tweet Count: 6510\n",
      "Date: 2009-06-24, Tweet Count: 3979\n"
     ]
    }
   ],
   "source": [
    "# Display the potential outliers (if any) and print them\n",
    "outliers = []\n",
    "\n",
    "q1 = date_counts[0].tweet_count\n",
    "q3 = date_counts[-1].tweet_count\n",
    "iqr = q3 - q1\n",
    "lower_bound = q1 - 1.5 * iqr\n",
    "upper_bound = q3 + 1.5 * iqr\n",
    "\n",
    "for idx, tweet_count in enumerate(tweet_counts):\n",
    "    if tweet_count < lower_bound or tweet_count > upper_bound:\n",
    "        outliers.append((date_counts[idx].date_without_hour, tweet_count))\n",
    "\n",
    "# Print the potential outliers\n",
    "print(\"Potential Outliers:\")\n",
    "for date, count in outliers:\n",
    "    print(f\"Date: {date}, Tweet Count: {count}\")"
   ]
  },
  {
   "cell_type": "markdown",
   "id": "b5863cd0",
   "metadata": {},
   "source": [
    "### Initialize Spark Session with Cassandra database"
   ]
  },
  {
   "cell_type": "code",
   "execution_count": 24,
   "id": "ea7852ac",
   "metadata": {},
   "outputs": [],
   "source": [
    "# Create a Spark session with necessary configurations\n",
    "spark = SparkSession.builder \\\n",
    "    .appName('CassandraIntegration') \\\n",
    "    .config(\"spark.cassandra.connection.host\", \"127.0.0.1\") \\\n",
    "    .getOrCreate()"
   ]
  },
  {
   "cell_type": "markdown",
   "id": "6d24da40",
   "metadata": {},
   "source": [
    "### Read the Data from Cassandra"
   ]
  },
  {
   "cell_type": "code",
   "execution_count": 25,
   "id": "99c38d86",
   "metadata": {},
   "outputs": [
    {
     "name": "stderr",
     "output_type": "stream",
     "text": [
      "[Stage 86:=============================>                            (1 + 1) / 2]\r"
     ]
    },
    {
     "name": "stdout",
     "output_type": "stream",
     "text": [
      "+------+----------+--------------------+--------+---------------+--------------------+\n",
      "|number|  id_tweet|                date|   query|        user_id|               tweet|\n",
      "+------+----------+--------------------+--------+---------------+--------------------+\n",
      "|865612|1677490053|Sat May 02 02:21:...|NO_QUERY|    arthur01022|'@sarjalis I'm go...|\n",
      "|820293|1553677142|Sat Apr 18 14:54:...|NO_QUERY|       LONGMANX|'@xxandip how man...|\n",
      "| 14810|1553861618|Sat Apr 18 15:24:...|NO_QUERY|        a_paige|'I wish @Kimone_i...|\n",
      "|263293|1986487107|Sun May 31 18:54:...|NO_QUERY|       fredbohm|'Awesome, 2-1 to ...|\n",
      "|937429|1793224306|Thu May 14 01:51:...|NO_QUERY|princesslaurenn|'has eaten some c...|\n",
      "+------+----------+--------------------+--------+---------------+--------------------+\n",
      "only showing top 5 rows\n",
      "\n"
     ]
    },
    {
     "name": "stderr",
     "output_type": "stream",
     "text": [
      "\r",
      "                                                                                \r"
     ]
    }
   ],
   "source": [
    "# Load the data.csv file\n",
    "cassandraDF = spark.read.csv(\"file:///home/hduser/Desktop/CA2_SEM2/activity_from_cassandra.csv\", header=True, inferSchema=True)\n",
    "\n",
    "# Display the first 5 rows\n",
    "cassandraDF.show(5)"
   ]
  },
  {
   "cell_type": "code",
   "execution_count": 26,
   "id": "428d877c",
   "metadata": {},
   "outputs": [
    {
     "name": "stdout",
     "output_type": "stream",
     "text": [
      "root\n",
      " |-- number: integer (nullable = true)\n",
      " |-- id_tweet: long (nullable = true)\n",
      " |-- date: string (nullable = true)\n",
      " |-- query: string (nullable = true)\n",
      " |-- user_id: string (nullable = true)\n",
      " |-- tweet: string (nullable = true)\n",
      "\n"
     ]
    }
   ],
   "source": [
    "# Print the schema\n",
    "cassandraDF.printSchema()"
   ]
  },
  {
   "cell_type": "code",
   "execution_count": 27,
   "id": "e9a5ef5b",
   "metadata": {},
   "outputs": [
    {
     "name": "stdout",
     "output_type": "stream",
     "text": [
      "The size of the dataset is: 1036130 rows\n"
     ]
    }
   ],
   "source": [
    "# Check the size of the data\n",
    "cassandraDF_size = cassandraDF.count()\n",
    "print(f\"The size of the dataset is: {cassandraDF_size} rows\")"
   ]
  },
  {
   "cell_type": "markdown",
   "id": "dcff11d2",
   "metadata": {},
   "source": [
    "### Exploratory data analysis (EDA)"
   ]
  },
  {
   "cell_type": "code",
   "execution_count": 28,
   "id": "56e96904",
   "metadata": {
    "scrolled": false
   },
   "outputs": [
    {
     "name": "stderr",
     "output_type": "stream",
     "text": [
      "[Stage 121:============================>                            (1 + 1) / 2]\r"
     ]
    },
    {
     "name": "stdout",
     "output_type": "stream",
     "text": [
      "Overall unique value counts:\n",
      "number: 1036130\n",
      "id_tweet: 1036130\n",
      "date: 657323\n",
      "query: 1\n",
      "user_id: 506785\n",
      "tweet: 1036130\n"
     ]
    },
    {
     "name": "stderr",
     "output_type": "stream",
     "text": [
      "\r",
      "                                                                                \r"
     ]
    }
   ],
   "source": [
    "# Import the necessary modules\n",
    "from pyspark.sql import SparkSession\n",
    "from pyspark.sql.functions import col\n",
    "\n",
    "# Initialize Spark session\n",
    "spark = SparkSession.builder.appName(\"CassandraUniqueValues\").getOrCreate()\n",
    "\n",
    "# List of column names\n",
    "column_names = [\"number\", \"id_tweet\", \"date\", \"query\", \"user_id\", \"tweet\"]\n",
    "\n",
    "# Dictionary to store unique value counts\n",
    "unique_counts = {}\n",
    "\n",
    "# Iterate through the columns and count unique values\n",
    "for column_name in column_names:\n",
    "    unique_values = cassandraDF.select(column_name).distinct()\n",
    "    unique_count = unique_values.count()\n",
    "    unique_counts[column_name] = unique_count\n",
    "\n",
    "# Print the overall count for each column\n",
    "print(\"Overall unique value counts:\")\n",
    "for column, count in unique_counts.items():\n",
    "    print(f\"{column}: {count}\")"
   ]
  },
  {
   "cell_type": "code",
   "execution_count": 29,
   "id": "16bc63d8",
   "metadata": {},
   "outputs": [
    {
     "name": "stdout",
     "output_type": "stream",
     "text": [
      "+--------------------+--------------------+\n",
      "|                date|               tweet|\n",
      "+--------------------+--------------------+\n",
      "|Sat May 02 02:21:...|'@sarjalis I'm go...|\n",
      "|Sat Apr 18 14:54:...|'@xxandip how man...|\n",
      "|Sat Apr 18 15:24:...|'I wish @Kimone_i...|\n",
      "|Sun May 31 18:54:...|'Awesome, 2-1 to ...|\n",
      "|Thu May 14 01:51:...|'has eaten some c...|\n",
      "+--------------------+--------------------+\n",
      "only showing top 5 rows\n",
      "\n"
     ]
    }
   ],
   "source": [
    "# Drop columns that are duplicates and other irrelevant data information\n",
    "cassandraDF = cassandraDF.drop('number', 'id_tweet', 'query', 'user_id')\n",
    "\n",
    "# Show the updated DataFrame\n",
    "cassandraDF.show(5)"
   ]
  },
  {
   "cell_type": "markdown",
   "id": "1ff08907",
   "metadata": {},
   "source": [
    "### Missing Values"
   ]
  },
  {
   "cell_type": "code",
   "execution_count": 30,
   "id": "69129140",
   "metadata": {},
   "outputs": [
    {
     "name": "stderr",
     "output_type": "stream",
     "text": [
      "\r",
      "[Stage 128:>                                                        (0 + 2) / 2]\r",
      "\r",
      "                                                                                \r"
     ]
    },
    {
     "name": "stdout",
     "output_type": "stream",
     "text": [
      "Missing values in 'date': 0\n",
      "Missing values in 'tweet': 0\n"
     ]
    },
    {
     "name": "stderr",
     "output_type": "stream",
     "text": [
      "\r",
      "[Stage 131:>                                                        (0 + 2) / 2]\r",
      "\r",
      "                                                                                \r"
     ]
    }
   ],
   "source": [
    "# Iterate through all columns and print missing value counts\n",
    "for column_name in cassandraDF.columns:\n",
    "    missing_count = cassandraDF.filter(cassandraDF[column_name].isNull()).count()\n",
    "    print(f\"Missing values in '{column_name}': {missing_count}\")"
   ]
  },
  {
   "cell_type": "code",
   "execution_count": 31,
   "id": "71c9c781",
   "metadata": {},
   "outputs": [
    {
     "name": "stdout",
     "output_type": "stream",
     "text": [
      "root\n",
      " |-- date: string (nullable = true)\n",
      " |-- tweet: string (nullable = true)\n",
      "\n"
     ]
    }
   ],
   "source": [
    "# Print the schema\n",
    "cassandraDF.printSchema()"
   ]
  },
  {
   "cell_type": "code",
   "execution_count": 32,
   "id": "f21c57e0",
   "metadata": {},
   "outputs": [],
   "source": [
    "# Call the columns\n",
    "columns = [\"date\", \"tweet\"]\n",
    "\n",
    "# Set 'tweet' column as the index to convert it as label\n",
    "cassandraDF = cassandraDF.withColumn(\"tweet\", cassandraDF[\"tweet\"]).drop(\"tweet\")"
   ]
  },
  {
   "cell_type": "markdown",
   "id": "89f3aa02",
   "metadata": {},
   "source": [
    "### Descriptive Statistics"
   ]
  },
  {
   "cell_type": "code",
   "execution_count": 33,
   "id": "46a50464",
   "metadata": {},
   "outputs": [
    {
     "name": "stderr",
     "output_type": "stream",
     "text": [
      "\r",
      "[Stage 134:>                                                        (0 + 2) / 2]\r"
     ]
    },
    {
     "name": "stdout",
     "output_type": "stream",
     "text": [
      "+-------+--------------------+\n",
      "|summary|                date|\n",
      "+-------+--------------------+\n",
      "|  count|             1036130|\n",
      "|   mean|                null|\n",
      "| stddev|                null|\n",
      "|    min|Fri Apr 17 20:30:...|\n",
      "|    max|Wed May 27 07:27:...|\n",
      "+-------+--------------------+\n",
      "\n"
     ]
    },
    {
     "name": "stderr",
     "output_type": "stream",
     "text": [
      "\r",
      "[Stage 134:============================>                            (1 + 1) / 2]\r",
      "\r",
      "                                                                                \r"
     ]
    }
   ],
   "source": [
    "# Compute and interpret the mean, median, quartiles and standard deviation of the dataset\n",
    "cassandraDF.describe().show()"
   ]
  },
  {
   "cell_type": "markdown",
   "id": "47430073",
   "metadata": {},
   "source": [
    "### Create a configuration to convert string 'date' into timestamp"
   ]
  },
  {
   "cell_type": "code",
   "execution_count": 34,
   "id": "b574c55f",
   "metadata": {},
   "outputs": [
    {
     "name": "stdout",
     "output_type": "stream",
     "text": [
      "+-------------------+\n",
      "|               date|\n",
      "+-------------------+\n",
      "|2009-05-02 10:21:12|\n",
      "|2009-04-18 22:54:53|\n",
      "|2009-04-18 23:24:48|\n",
      "|2009-06-01 02:54:07|\n",
      "|2009-05-14 09:51:35|\n",
      "+-------------------+\n",
      "only showing top 5 rows\n",
      "\n"
     ]
    }
   ],
   "source": [
    "# Create a SparkSession with the 'spark.sql.legacy.timeParserPolicy' configuration\n",
    "spark = SparkSession.builder.config(\"spark.sql.legacy.timeParserPolicy\", \"LEGACY\").getOrCreate()\n",
    "\n",
    "# Import libraries to convert\n",
    "from pyspark.sql.functions import from_unixtime, unix_timestamp\n",
    "from pyspark.sql.types import TimestampType\n",
    "\n",
    "# Convert 'date' column in string format to the timestamp\n",
    "cassandraDF = cassandraDF.withColumn(\"date\", from_unixtime(unix_timestamp(cassandraDF[\"date\"], \"E MMM dd HH:mm:ss z yyyy\")).cast(TimestampType()))\n",
    "\n",
    "# Print the 'date' column with the new format\n",
    "cassandraDF.select(\"date\").show(5)"
   ]
  },
  {
   "cell_type": "markdown",
   "id": "c5ded02e",
   "metadata": {},
   "source": [
    "### Groupby 'date'"
   ]
  },
  {
   "cell_type": "code",
   "execution_count": 35,
   "id": "1ab91e88",
   "metadata": {},
   "outputs": [
    {
     "name": "stderr",
     "output_type": "stream",
     "text": [
      "                                                                                \r"
     ]
    }
   ],
   "source": [
    "import matplotlib.pyplot as plt\n",
    "from pyspark.sql.functions import to_date, count\n",
    "from pyspark.sql.window import Window\n",
    "\n",
    "# Group the data by the date without the hour\n",
    "cassandraDF = cassandraDF.withColumn(\"date_without_hour\", to_date(cassandraDF[\"date\"]))\n",
    "cassandraDF_counts = cassandraDF.groupBy(\"date_without_hour\").agg(count(\"*\").alias(\"tweet_count\"))\n",
    "\n",
    "# Sort the data by date without hour\n",
    "cassandraDF_counts = cassandraDF_counts.orderBy(\"date_without_hour\")\n",
    "\n",
    "# Collect the data to the driver\n",
    "cassandraDF_counts = cassandraDF_counts.collect()\n",
    "\n",
    "# Extract dates and tweet counts for plotting\n",
    "dates = [str(row.date_without_hour) for row in cassandraDF_counts]\n",
    "tweet_counts = [row.tweet_count for row in cassandraDF_counts]"
   ]
  },
  {
   "cell_type": "code",
   "execution_count": 36,
   "id": "eb5a5185",
   "metadata": {},
   "outputs": [
    {
     "data": {
      "image/png": "[encoded data removed]",
      "text/plain": [
       "<Figure size 864x432 with 1 Axes>"
      ]
     },
     "metadata": {
      "needs_background": "light"
     },
     "output_type": "display_data"
    }
   ],
   "source": [
    "# Plot the tweet count with red bars\n",
    "plt.figure(figsize=(12, 6))\n",
    "plt.bar(dates, tweet_counts, color='red')  # Set color to red\n",
    "plt.title(\"Tweet Count Over Time (Aggregated by Date)\")\n",
    "plt.xlabel(\"Date\")\n",
    "plt.ylabel(\"Tweet Count\")\n",
    "plt.xticks(rotation=45)  # Rotate x-axis labels for readability\n",
    "plt.tight_layout()\n",
    "\n",
    "# Show the plot\n",
    "plt.show()"
   ]
  },
  {
   "cell_type": "code",
   "execution_count": 37,
   "id": "e9714b27",
   "metadata": {},
   "outputs": [
    {
     "name": "stderr",
     "output_type": "stream",
     "text": [
      "                                                                                \r"
     ]
    },
    {
     "name": "stdout",
     "output_type": "stream",
     "text": [
      "First Date: 2009-04-07\n",
      "Last Date: 2009-06-25\n"
     ]
    },
    {
     "name": "stderr",
     "output_type": "stream",
     "text": [
      "[Stage 152:============================>                            (1 + 1) / 2]\r"
     ]
    },
    {
     "name": "stdout",
     "output_type": "stream",
     "text": [
      "2009-04-08\n",
      "2009-04-09\n",
      "2009-04-10\n",
      "2009-04-11\n",
      "2009-04-12\n",
      "2009-04-13\n",
      "2009-04-14\n",
      "2009-04-15\n",
      "2009-04-16\n",
      "2009-04-17\n",
      "2009-04-22\n",
      "2009-04-23\n",
      "2009-04-24\n",
      "2009-04-25\n",
      "2009-04-26\n",
      "2009-04-27\n",
      "2009-04-28\n",
      "2009-04-29\n",
      "2009-04-30\n",
      "2009-05-01\n",
      "2009-05-05\n",
      "2009-05-06\n",
      "2009-05-07\n",
      "2009-05-08\n",
      "2009-05-09\n",
      "2009-05-13\n",
      "2009-05-15\n",
      "2009-05-16\n",
      "2009-05-19\n",
      "2009-05-20\n",
      "2009-05-21\n",
      "2009-05-23\n",
      "2009-05-26\n",
      "2009-05-28\n",
      "2009-06-09\n",
      "2009-06-10\n",
      "2009-06-11\n",
      "2009-06-12\n",
      "2009-06-13\n",
      "Missing Days Count: 39\n"
     ]
    },
    {
     "name": "stderr",
     "output_type": "stream",
     "text": [
      "\r",
      "                                                                                \r"
     ]
    }
   ],
   "source": [
    "from pyspark.sql.functions import col, date_add, datediff\n",
    "import pyspark.sql.functions as F\n",
    "from datetime import date, timedelta\n",
    "\n",
    "# Extract the date part from the 'date' column\n",
    "cassandraDF = cassandraDF.withColumn(\"date\", col(\"date\").cast(\"date\"))\n",
    "\n",
    "# Sort the DataFrame by date\n",
    "cassandraDF = cassandraDF.orderBy(\"date\")\n",
    "\n",
    "# Calculate the next date using the lead function\n",
    "cassandraDF = cassandraDF.withColumn(\"next_date\", date_add(col(\"date\"), 1))\n",
    "\n",
    "# Check if the next date is continuous (no break)\n",
    "cassandraDF = cassandraDF.withColumn(\"is_continuous\", datediff(col(\"next_date\"), col(\"date\")) == 1)\n",
    "\n",
    "# Create a window specification to order by date\n",
    "window_spec = Window.orderBy(\"date\")\n",
    "\n",
    "# Assign a group identifier to continuous sequences\n",
    "cassandraDF = cassandraDF.withColumn(\"group_id\", F.sum(col(\"is_continuous\").cast(\"int\")).over(window_spec))\n",
    "\n",
    "# Filter only the rows with continuous sequences\n",
    "continuous_dates = cassandraDF.filter(col(\"is_continuous\")).select(\"date\").distinct()\n",
    "\n",
    "# Sort the list in ascending order\n",
    "continuous_dates = continuous_dates.orderBy(\"date\")\n",
    "\n",
    "# Get the first and last dates in the DataFrame\n",
    "first_date = continuous_dates.first().date\n",
    "last_date = continuous_dates.orderBy(col(\"date\").desc()).first().date\n",
    "\n",
    "# Print the first and last dates\n",
    "print(\"First Date:\", first_date)\n",
    "print(\"Last Date:\", last_date)\n",
    "\n",
    "# Define the start and end date for the range\n",
    "start_date = first_date\n",
    "end_date = last_date\n",
    "\n",
    "# Generate a list of all dates in the range\n",
    "date_range = [start_date + timedelta(days=x) for x in range((end_date - start_date).days + 1)]\n",
    "\n",
    "# Convert the list of continuous dates to a Python list\n",
    "continuous_dates_list = [row.date for row in continuous_dates.collect()]\n",
    "\n",
    "# Find the dates not in the list\n",
    "missing_dates = [d for d in date_range if d not in continuous_dates_list]\n",
    "\n",
    "# Print the missing dates\n",
    "for missing_date in missing_dates:\n",
    "    print(missing_date)\n",
    "\n",
    "# Count the missing days\n",
    "missing_days_count = len(missing_dates)\n",
    "\n",
    "# Print the missing days count\n",
    "print(\"Missing Days Count:\", missing_days_count)"
   ]
  },
  {
   "cell_type": "markdown",
   "id": "11c091fa",
   "metadata": {},
   "source": [
    "### Outliers"
   ]
  },
  {
   "cell_type": "code",
   "execution_count": 38,
   "id": "2a000fc6",
   "metadata": {},
   "outputs": [
    {
     "name": "stderr",
     "output_type": "stream",
     "text": [
      "                                                                                \r"
     ]
    },
    {
     "data": {
      "image/png": "[encoded data removed]",
      "text/plain": [
       "<Figure size 720x432 with 1 Axes>"
      ]
     },
     "metadata": {
      "needs_background": "light"
     },
     "output_type": "display_data"
    }
   ],
   "source": [
    "import matplotlib.pyplot as plt\n",
    "from pyspark.sql.functions import to_date, count\n",
    "\n",
    "# Group the data by the date without the hour\n",
    "cassandraDF = cassandraDF.withColumn(\"date_without_hour\", to_date(cassandraDF[\"date\"]))\n",
    "cassandraDF_counts = cassandraDF.groupBy(\"date_without_hour\").agg(count(\"*\").alias(\"tweet_count\"))\n",
    "\n",
    "# Sort the data by date without hour\n",
    "cassandraDF_counts = cassandraDF_counts.orderBy(\"date_without_hour\")\n",
    "\n",
    "# Collect the data to the driver\n",
    "cassandraDF_counts = cassandraDF_counts.collect()\n",
    "\n",
    "# Extract tweet counts for plotting\n",
    "tweet_counts = [row.tweet_count for row in cassandraDF_counts]\n",
    "\n",
    "# Create a box plot with outliers marked\n",
    "plt.figure(figsize=(10, 6))\n",
    "plt.boxplot(tweet_counts, vert=False, flierprops=dict(marker='o', markerfacecolor='red', markersize=8))\n",
    "plt.title(\"Box Plot of Tweet Counts by Date for Cassandra\")\n",
    "plt.xlabel(\"Tweet Counts\")\n",
    "plt.grid(True)\n",
    "\n",
    "plt.show()"
   ]
  },
  {
   "cell_type": "code",
   "execution_count": 39,
   "id": "86b07d72",
   "metadata": {},
   "outputs": [
    {
     "name": "stdout",
     "output_type": "stream",
     "text": [
      "Potential Outliers:\n",
      "Date: 2009-04-21, Tweet Count: 10890\n",
      "Date: 2009-05-11, Tweet Count: 6163\n",
      "Date: 2009-05-12, Tweet Count: 4160\n",
      "Date: 2009-05-17, Tweet Count: 40597\n",
      "Date: 2009-05-18, Tweet Count: 44034\n",
      "Date: 2009-05-22, Tweet Count: 40783\n",
      "Date: 2009-05-24, Tweet Count: 169\n",
      "Date: 2009-05-25, Tweet Count: 169\n",
      "Date: 2009-05-27, Tweet Count: 11537\n",
      "Date: 2009-05-29, Tweet Count: 36782\n",
      "Date: 2009-05-30, Tweet Count: 39420\n",
      "Date: 2009-05-31, Tweet Count: 39565\n",
      "Date: 2009-06-01, Tweet Count: 38100\n",
      "Date: 2009-06-04, Tweet Count: 1921\n",
      "Date: 2009-06-05, Tweet Count: 12396\n",
      "Date: 2009-06-06, Tweet Count: 39405\n",
      "Date: 2009-06-07, Tweet Count: 43289\n",
      "Date: 2009-06-08, Tweet Count: 10261\n",
      "Date: 2009-06-14, Tweet Count: 205\n",
      "Date: 2009-06-16, Tweet Count: 42820\n",
      "Date: 2009-06-17, Tweet Count: 43502\n",
      "Date: 2009-06-18, Tweet Count: 42823\n",
      "Date: 2009-06-19, Tweet Count: 42557\n",
      "Date: 2009-06-20, Tweet Count: 45254\n",
      "Date: 2009-06-22, Tweet Count: 6444\n",
      "Date: 2009-06-24, Tweet Count: 3948\n"
     ]
    }
   ],
   "source": [
    "# Display the potential outliers (if any) and print them\n",
    "outliers = []\n",
    "\n",
    "q1 = date_counts[0].tweet_count\n",
    "q3 = date_counts[-1].tweet_count\n",
    "iqr = q3 - q1\n",
    "lower_bound = q1 - 1.5 * iqr\n",
    "upper_bound = q3 + 1.5 * iqr\n",
    "\n",
    "for idx, tweet_count in enumerate(tweet_counts):\n",
    "    if tweet_count < lower_bound or tweet_count > upper_bound:\n",
    "        outliers.append((date_counts[idx].date_without_hour, tweet_count))\n",
    "\n",
    "# Print the potential outliers\n",
    "print(\"Potential Outliers:\")\n",
    "for date, count in outliers:\n",
    "    print(f\"Date: {date}, Tweet Count: {count}\")"
   ]
  },
  {
   "cell_type": "markdown",
   "id": "91804a12",
   "metadata": {},
   "source": [
    "### Comparison between Hive and Cassandra datasets"
   ]
  },
  {
   "cell_type": "code",
   "execution_count": 40,
   "id": "47725dab",
   "metadata": {},
   "outputs": [
    {
     "name": "stdout",
     "output_type": "stream",
     "text": [
      "Hive Database Row Count: 1599999\n",
      "Cassandra Database Row Count: 1036130\n",
      "Total Difference: 563869\n"
     ]
    }
   ],
   "source": [
    "# Get the row count for 'data'\n",
    "hive_row_count = data.count()\n",
    "\n",
    "# Get the row count for 'cassandraDF'\n",
    "cassandra_row_count = cassandraDF.count()\n",
    "\n",
    "# Calculate the total difference\n",
    "total_difference = hive_row_count - cassandra_row_count\n",
    "\n",
    "# Print the row counts and total difference\n",
    "print(\"Hive Database Row Count:\", hive_row_count)\n",
    "print(\"Cassandra Database Row Count:\", cassandra_row_count)\n",
    "print(\"Total Difference:\", total_difference)"
   ]
  },
  {
   "cell_type": "code",
   "execution_count": 41,
   "id": "b2818e7d",
   "metadata": {},
   "outputs": [
    {
     "name": "stderr",
     "output_type": "stream",
     "text": [
      "[Stage 182:============================>                            (1 + 1) / 2]\r"
     ]
    },
    {
     "name": "stdout",
     "output_type": "stream",
     "text": [
      "Date: 2009-04-07, Hive Count: 20670, Cassandra Count: 20440, Total Difference: 230\n",
      "Date: 2009-04-18, Hive Count: 16132, Cassandra Count: 15951, Total Difference: 181\n",
      "Date: 2009-04-19, Hive Count: 33670, Cassandra Count: 33269, Total Difference: 401\n",
      "Date: 2009-04-20, Hive Count: 18447, Cassandra Count: 18130, Total Difference: 317\n",
      "Date: 2009-04-21, Hive Count: 11105, Cassandra Count: 10890, Total Difference: 215\n",
      "Date: 2009-05-02, Hive Count: 31096, Cassandra Count: 30673, Total Difference: 423\n",
      "Date: 2009-05-03, Hive Count: 25045, Cassandra Count: 24738, Total Difference: 307\n",
      "Date: 2009-05-04, Hive Count: 29823, Cassandra Count: 29477, Total Difference: 346\n",
      "Date: 2009-05-10, Hive Count: 31551, Cassandra Count: 31011, Total Difference: 540\n",
      "Date: 2009-05-11, Hive Count: 6217, Cassandra Count: 6163, Total Difference: 54\n",
      "Date: 2009-05-12, Hive Count: 4186, Cassandra Count: 4160, Total Difference: 26\n",
      "Date: 2009-05-14, Hive Count: 21526, Cassandra Count: 21283, Total Difference: 243\n",
      "Date: 2009-05-17, Hive Count: 41205, Cassandra Count: 40597, Total Difference: 608\n",
      "Date: 2009-05-18, Hive Count: 44564, Cassandra Count: 44034, Total Difference: 530\n",
      "Date: 2009-05-22, Hive Count: 41206, Cassandra Count: 40783, Total Difference: 423\n",
      "Date: 2009-05-24, Hive Count: 169, Cassandra Count: 169, Total Difference: 0\n",
      "Date: 2009-05-25, Hive Count: 169, Cassandra Count: 169, Total Difference: 0\n",
      "Date: 2009-05-27, Hive Count: 11619, Cassandra Count: 11537, Total Difference: 82\n",
      "Date: 2009-05-29, Hive Count: 55874, Cassandra Count: 36782, Total Difference: 19092\n",
      "Date: 2009-05-30, Hive Count: 103990, Cassandra Count: 39420, Total Difference: 64570\n",
      "Date: 2009-05-31, Hive Count: 105820, Cassandra Count: 39565, Total Difference: 66255\n",
      "Date: 2009-06-01, Hive Count: 95479, Cassandra Count: 38100, Total Difference: 57379\n",
      "Date: 2009-06-02, Hive Count: 81633, Cassandra Count: 31238, Total Difference: 50395\n",
      "Date: 2009-06-03, Hive Count: 61265, Cassandra Count: 24313, Total Difference: 36952\n",
      "Date: 2009-06-04, Hive Count: 4638, Cassandra Count: 1921, Total Difference: 2717\n",
      "Date: 2009-06-05, Hive Count: 30487, Cassandra Count: 12396, Total Difference: 18091\n",
      "Date: 2009-06-06, Hive Count: 104053, Cassandra Count: 39405, Total Difference: 64648\n",
      "Date: 2009-06-07, Hive Count: 112221, Cassandra Count: 43289, Total Difference: 68932\n",
      "Date: 2009-06-08, Hive Count: 23226, Cassandra Count: 10261, Total Difference: 12965\n",
      "Date: 2009-06-14, Hive Count: 500, Cassandra Count: 205, Total Difference: 295\n",
      "Date: 2009-06-15, Hive Count: 78395, Cassandra Count: 31716, Total Difference: 46679\n",
      "Date: 2009-06-16, Hive Count: 90410, Cassandra Count: 42820, Total Difference: 47590\n",
      "Date: 2009-06-17, Hive Count: 44003, Cassandra Count: 43502, Total Difference: 501\n",
      "Date: 2009-06-18, Hive Count: 43271, Cassandra Count: 42823, Total Difference: 448\n",
      "Date: 2009-06-19, Hive Count: 42944, Cassandra Count: 42557, Total Difference: 387\n",
      "Date: 2009-06-20, Hive Count: 45673, Cassandra Count: 45254, Total Difference: 419\n",
      "Date: 2009-06-21, Hive Count: 32713, Cassandra Count: 32472, Total Difference: 241\n",
      "Date: 2009-06-22, Hive Count: 6510, Cassandra Count: 6444, Total Difference: 66\n",
      "Date: 2009-06-23, Hive Count: 18522, Cassandra Count: 18397, Total Difference: 125\n",
      "Date: 2009-06-24, Hive Count: 3979, Cassandra Count: 3948, Total Difference: 31\n",
      "Date: 2009-06-25, Hive Count: 25993, Cassandra Count: 25828, Total Difference: 165\n"
     ]
    },
    {
     "name": "stderr",
     "output_type": "stream",
     "text": [
      "\r",
      "                                                                                \r"
     ]
    }
   ],
   "source": [
    "from pyspark.sql.functions import to_date, count\n",
    "from pyspark.sql.window import Window\n",
    "\n",
    "# Group the 'data' by the date without the hour\n",
    "data = data.withColumn(\"date_without_hour\", to_date(data[\"date\"]))\n",
    "data_date_counts = data.groupBy(\"date_without_hour\").agg(count(\"*\").alias(\"data_tweet_count\"))\n",
    "\n",
    "# Group 'cassandraDF' by the date without the hour\n",
    "cassandraDF = cassandraDF.withColumn(\"date_without_hour\", to_date(cassandraDF[\"date\"]))\n",
    "cassandra_date_counts = cassandraDF.groupBy(\"date_without_hour\").agg(count(\"*\").alias(\"cassandra_tweet_count\"))\n",
    "\n",
    "# Sort the data by date without hour\n",
    "data_date_counts = data_date_counts.orderBy(\"date_without_hour\")\n",
    "cassandra_date_counts = cassandra_date_counts.orderBy(\"date_without_hour\")\n",
    "\n",
    "# Collect the data to the driver\n",
    "data_date_counts = data_date_counts.collect()\n",
    "cassandra_date_counts = cassandra_date_counts.collect()\n",
    "\n",
    "# Extract tweet counts and calculate the total difference per day\n",
    "data_tweet_counts = [row.data_tweet_count for row in data_date_counts]\n",
    "cassandra_tweet_counts = [row.cassandra_tweet_count for row in cassandra_date_counts]\n",
    "difference_per_day = [data - cassandra for data, cassandra in zip(data_tweet_counts, cassandra_tweet_counts)]\n",
    "\n",
    "# Print the tweet counts for both datasets and the total difference beside\n",
    "for date, data_count, cassandra_count, diff in zip(data_date_counts, data_tweet_counts, cassandra_tweet_counts, difference_per_day):\n",
    "    print(f\"Date: {date.date_without_hour}, Hive Count: {data_count}, Cassandra Count: {cassandra_count}, Total Difference: {diff}\")"
   ]
  },
  {
   "cell_type": "markdown",
   "id": "c509911f",
   "metadata": {},
   "source": [
    "### Normal Distribution Comparison"
   ]
  },
  {
   "cell_type": "code",
   "execution_count": 42,
   "id": "0f52107e",
   "metadata": {},
   "outputs": [
    {
     "name": "stdout",
     "output_type": "stream",
     "text": [
      "Shapiro-Wilk Test Results:\n",
      "Data dataset: p-value = 0.0005812718300148845, Not Normally Distributed\n",
      "CassandraDF dataset: p-value = 0.003349119797348976, Not Normally Distributed\n"
     ]
    },
    {
     "data": {
      "image/png": "[encoded data removed]",
      "text/plain": [
       "<Figure size 720x432 with 1 Axes>"
      ]
     },
     "metadata": {
      "needs_background": "light"
     },
     "output_type": "display_data"
    }
   ],
   "source": [
    "import seaborn as sns\n",
    "from scipy.stats import shapiro\n",
    "import matplotlib.pyplot as plt\n",
    "\n",
    "# Extract the tweet counts for both datasets\n",
    "data_tweet_counts = [row.tweet_count for row in date_counts]\n",
    "cassandraDF_tweet_counts = [row.tweet_count for row in cassandraDF_counts]\n",
    "\n",
    "# Create a KDE plot to compare the distributions\n",
    "plt.figure(figsize=(10, 6))\n",
    "sns.kdeplot(data_tweet_counts, label='Data', color='blue', shade=True)\n",
    "sns.kdeplot(cassandraDF_tweet_counts, label='CassandraDF', color='red', shade=True)\n",
    "plt.title(\"Tweet Count Distribution Comparison\")\n",
    "plt.xlabel(\"Tweet Count\")\n",
    "plt.ylabel(\"Density\")\n",
    "plt.legend()\n",
    "plt.grid(True)\n",
    "\n",
    "# Perform the Shapiro-Wilk test to check for normal distribution\n",
    "data_sw_stat, data_sw_p_value = shapiro(data_tweet_counts)\n",
    "cassandraDF_sw_stat, cassandraDF_sw_p_value = shapiro(cassandraDF_tweet_counts)\n",
    "\n",
    "# Print the results of the Shapiro-Wilk test\n",
    "print(\"Shapiro-Wilk Test Results:\")\n",
    "print(f\"Data dataset: p-value = {data_sw_p_value}, {'Normally Distributed' if data_sw_p_value > 0.05 else 'Not Normally Distributed'}\")\n",
    "print(f\"CassandraDF dataset: p-value = {cassandraDF_sw_p_value}, {'Normally Distributed' if cassandraDF_sw_p_value > 0.05 else 'Not Normally Distributed'}\")\n",
    "\n",
    "# Show the plot\n",
    "plt.show()"
   ]
  },
  {
   "cell_type": "markdown",
   "id": "76c8d4b1",
   "metadata": {},
   "source": [
    "#### Note: A Comparison of Datasets between Hive and Cassandra.\n",
    "\n",
    "- While these datasets were generated from the original data provided as a study tool, a noticeable difference can be observed in the total number of rows between them:\n",
    "    - Hive Database Row Count: 1599999\n",
    "    - Cassandra Database Row Count: 1036130\n",
    "    - Total Difference: 563869.\n",
    "- The Hive database was created through HDFS, and was built using the original file, employing Spark commands in the Jupyter notebook. \n",
    "- In contrast, the Cassandra database was created within the Cassandra prompt using commands related to tables, keyspaces, and the COPY FROM function, where the original file was utilized."
   ]
  },
  {
   "cell_type": "markdown",
   "id": "88011fac",
   "metadata": {},
   "source": [
    "### References:\n",
    "\n",
    "• https://cassandra.apache.org/doc/latest/cassandra/cql/ddl.html\n",
    "\n",
    "• Cassandra: The Definitive Guide, (Revised) Third Edition, 3rd Edition, Jeff Carpenter, Eben Hewitt,\n",
    "O'Reilly Media, Inc., January 2022."
   ]
  },
  {
   "cell_type": "code",
   "execution_count": null,
   "id": "779c2a55",
   "metadata": {},
   "outputs": [],
   "source": []
  }
 ],
 "metadata": {
  "kernelspec": {
   "display_name": "Python 3 (ipykernel)",
   "language": "python",
   "name": "python3"
  },
  "language_info": {
   "codemirror_mode": {
    "name": "ipython",
    "version": 3
   },
   "file_extension": ".py",
   "mimetype": "text/x-python",
   "name": "python",
   "nbconvert_exporter": "python",
   "pygments_lexer": "ipython3",
   "version": "3.10.12"
  }
 },
 "nbformat": 4,
 "nbformat_minor": 5
}
