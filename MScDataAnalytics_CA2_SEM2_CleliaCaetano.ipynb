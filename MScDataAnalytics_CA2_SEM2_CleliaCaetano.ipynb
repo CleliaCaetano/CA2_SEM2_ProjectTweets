{
 "cells": [
  {
   "cell_type": "markdown",
   "id": "5efbb14c",
   "metadata": {},
   "source": [
    "### Clelia Caetano 2023060 (CA2_SEM2)\n",
    "### MSc. in Data Analytics\n",
    "### Project Tweets"
   ]
  },
  {
   "cell_type": "code",
   "execution_count": 1,
   "id": "1eb91c6d",
   "metadata": {},
   "outputs": [
    {
     "data": {
      "text/plain": [
       "'local[*]'"
      ]
     },
     "execution_count": 1,
     "metadata": {},
     "output_type": "execute_result"
    }
   ],
   "source": [
    "# sc master - running locally\n",
    "sc.master"
   ]
  },
  {
   "cell_type": "code",
   "execution_count": 2,
   "id": "4f8b8fc6",
   "metadata": {},
   "outputs": [],
   "source": [
    "import warnings\n",
    "warnings.filterwarnings(\"ignore\")"
   ]
  },
  {
   "cell_type": "code",
   "execution_count": 3,
   "id": "334b3b23",
   "metadata": {},
   "outputs": [],
   "source": [
    "# Load the libraries\n",
    "import os\n",
    "from pyspark.sql import SparkSession"
   ]
  },
  {
   "cell_type": "markdown",
   "id": "8073afae",
   "metadata": {},
   "source": [
    "### Initialize Spark Session"
   ]
  },
  {
   "cell_type": "code",
   "execution_count": 4,
   "id": "3d8bdecf",
   "metadata": {},
   "outputs": [],
   "source": [
    "# Create a Spark session with necessary configurations\n",
    "spark = SparkSession.builder.appName('ProjectTweets') \\\n",
    "                    .config(\"spark.some_config_option\", \"config_value\") \\\n",
    "                    .getOrCreate()"
   ]
  },
  {
   "cell_type": "markdown",
   "id": "6d37eab8",
   "metadata": {},
   "source": [
    "### Read the Data from HDFS"
   ]
  },
  {
   "cell_type": "code",
   "execution_count": 5,
   "id": "739e385b",
   "metadata": {},
   "outputs": [
    {
     "name": "stderr",
     "output_type": "stream",
     "text": [
      "                                                                                \r"
     ]
    },
    {
     "name": "stdout",
     "output_type": "stream",
     "text": [
      "+------+----------+--------------------+--------+-------------+--------------------+\n",
      "|number|  id_tweet|                date|   query|      user_id|               tweet|\n",
      "+------+----------+--------------------+--------+-------------+--------------------+\n",
      "|     1|1467810672|Mon Apr 06 22:19:...|NO_QUERY|scotthamilton|is upset that he ...|\n",
      "|     2|1467810917|Mon Apr 06 22:19:...|NO_QUERY|     mattycus|@Kenichan I dived...|\n",
      "|     3|1467811184|Mon Apr 06 22:19:...|NO_QUERY|      ElleCTF|my whole body fee...|\n",
      "|     4|1467811193|Mon Apr 06 22:19:...|NO_QUERY|       Karoli|@nationwideclass ...|\n",
      "|     5|1467811372|Mon Apr 06 22:20:...|NO_QUERY|     joy_wolf|@Kwesidei not the...|\n",
      "+------+----------+--------------------+--------+-------------+--------------------+\n",
      "only showing top 5 rows\n",
      "\n"
     ]
    }
   ],
   "source": [
    "# Load the data and create a temporary view in Spark\n",
    "try:\n",
    "    # Read the data.csv into Hadoop from HDFS (Hadoop Distributed File System) storage\n",
    "    data = spark.read.option(\"header\", \"true\").csv(\"hdfs://localhost:9000/user/hduser/CA2/ProjectTweets.csv\")\n",
    "    \n",
    "    # Check if the data was loaded successfully\n",
    "    if data is not None:\n",
    "        # Define column names\n",
    "        new_column_names = [\"number\", \"id_tweet\", \"date\", \"query\", \"user_id\", \"tweet\"]\n",
    "\n",
    "        # Use the alias method to rename the columns\n",
    "        for i in range(len(new_column_names)):\n",
    "            data = data.withColumnRenamed(data.columns[i], new_column_names[i])\n",
    "\n",
    "        # Create a temporary table from the DataFrame\n",
    "        data.createOrReplaceTempView(\"CA2_ProjectTweets\")\n",
    "\n",
    "        # Run Spark SQL queries using the same SparkSession\n",
    "        data = spark.sql(\"SELECT * FROM CA2_ProjectTweets\") \n",
    "\n",
    "        # Display the first 5 rows\n",
    "        data.show(5)\n",
    "    else:\n",
    "        print(\"Data not loaded successfully.\")\n",
    "\n",
    "except Exception as e:\n",
    "    print(\"An error occurred:\", str(e))"
   ]
  },
  {
   "cell_type": "markdown",
   "id": "9d33efac",
   "metadata": {},
   "source": [
    "### Create a Hive database in Spark application"
   ]
  },
  {
   "cell_type": "code",
   "execution_count": 6,
   "id": "edfe5cca",
   "metadata": {},
   "outputs": [
    {
     "name": "stderr",
     "output_type": "stream",
     "text": [
      "2023-11-08 12:35:37,182 WARN conf.HiveConf: HiveConf of name hive.stats.jdbc.timeout does not exist\n",
      "2023-11-08 12:35:37,182 WARN conf.HiveConf: HiveConf of name hive.stats.retries.wait does not exist\n",
      "2023-11-08 12:35:41,751 WARN metastore.ObjectStore: Version information not found in metastore. hive.metastore.schema.verification is not enabled so recording the schema version 2.3.0\n",
      "2023-11-08 12:35:41,752 WARN metastore.ObjectStore: setMetaStoreSchemaVersion called but recording version is disabled: version = 2.3.0, comment = Set by MetaStore hduser@127.0.1.1\n",
      "2023-11-08 12:35:42,833 WARN metastore.ObjectStore: Failed to get database global_temp, returning NoSuchObjectException\n",
      "2023-11-08 12:35:56,861 WARN session.SessionState: METASTORE_FILTER_HOOK will be ignored, since hive.security.authorization.manager is set to instance of HiveAuthorizerFactory.\n",
      "2023-11-08 12:35:57,044 WARN conf.HiveConf: HiveConf of name hive.internal.ss.authz.settings.applied.marker does not exist\n",
      "2023-11-08 12:35:57,044 WARN conf.HiveConf: HiveConf of name hive.stats.jdbc.timeout does not exist\n",
      "2023-11-08 12:35:57,045 WARN conf.HiveConf: HiveConf of name hive.stats.retries.wait does not exist\n"
     ]
    }
   ],
   "source": [
    "# Save the DataFrame as a Hive table\n",
    "data.write.mode(\"overwrite\").saveAsTable(\"ca2_projecttweets\")"
   ]
  },
  {
   "cell_type": "code",
   "execution_count": 7,
   "id": "697d6d85",
   "metadata": {},
   "outputs": [
    {
     "data": {
      "text/plain": [
       "DataFrame[]"
      ]
     },
     "execution_count": 7,
     "metadata": {},
     "output_type": "execute_result"
    }
   ],
   "source": [
    "# Set the current database\n",
    "spark.sql(\"USE ca2_projecttweets\")"
   ]
  },
  {
   "cell_type": "code",
   "execution_count": 8,
   "id": "60af3923",
   "metadata": {},
   "outputs": [
    {
     "name": "stdout",
     "output_type": "stream",
     "text": [
      "+------+----------+--------------------+--------+-------------+--------------------+\n",
      "|number|  id_tweet|                date|   query|      user_id|               tweet|\n",
      "+------+----------+--------------------+--------+-------------+--------------------+\n",
      "|     1|1467810672|Mon Apr 06 22:19:...|NO_QUERY|scotthamilton|is upset that he ...|\n",
      "|     2|1467810917|Mon Apr 06 22:19:...|NO_QUERY|     mattycus|@Kenichan I dived...|\n",
      "|     3|1467811184|Mon Apr 06 22:19:...|NO_QUERY|      ElleCTF|my whole body fee...|\n",
      "|     4|1467811193|Mon Apr 06 22:19:...|NO_QUERY|       Karoli|@nationwideclass ...|\n",
      "|     5|1467811372|Mon Apr 06 22:20:...|NO_QUERY|     joy_wolf|@Kwesidei not the...|\n",
      "+------+----------+--------------------+--------+-------------+--------------------+\n",
      "only showing top 5 rows\n",
      "\n"
     ]
    }
   ],
   "source": [
    "# Run a SQL query to select all rows from the table\n",
    "result = spark.sql(\"SELECT `number`, `id_tweet`, `date`, `query`, `user_id`, `tweet` FROM ca2_projecttweets\")\n",
    "\n",
    "# Show the first 5 rows\n",
    "result.show(5)"
   ]
  },
  {
   "cell_type": "code",
   "execution_count": 9,
   "id": "3f3ea44d",
   "metadata": {},
   "outputs": [
    {
     "name": "stderr",
     "output_type": "stream",
     "text": [
      "                                                                                \r"
     ]
    }
   ],
   "source": [
    "# Save the preprocessed data as a new table if needed\n",
    "result.write.mode(\"overwrite\").saveAsTable(\"preprocessed_ca2_projecttweets\")"
   ]
  },
  {
   "cell_type": "code",
   "execution_count": 10,
   "id": "811dcc55",
   "metadata": {},
   "outputs": [
    {
     "name": "stdout",
     "output_type": "stream",
     "text": [
      "root\n",
      " |-- number: string (nullable = true)\n",
      " |-- id_tweet: string (nullable = true)\n",
      " |-- date: string (nullable = true)\n",
      " |-- query: string (nullable = true)\n",
      " |-- user_id: string (nullable = true)\n",
      " |-- tweet: string (nullable = true)\n",
      "\n"
     ]
    }
   ],
   "source": [
    "# Access the Hive table and create a DataFrame\n",
    "data = spark.table(\"preprocessed_ca2_projecttweets\")\n",
    "\n",
    "# Print the schema\n",
    "data.printSchema()"
   ]
  },
  {
   "cell_type": "code",
   "execution_count": 11,
   "id": "df25ce67",
   "metadata": {},
   "outputs": [
    {
     "name": "stderr",
     "output_type": "stream",
     "text": [
      "\r",
      "[Stage 5:>                                                          (0 + 2) / 2]\r"
     ]
    },
    {
     "name": "stdout",
     "output_type": "stream",
     "text": [
      "The size of the dataset is: 1599999 rows\n"
     ]
    },
    {
     "name": "stderr",
     "output_type": "stream",
     "text": [
      "\r",
      "                                                                                \r"
     ]
    }
   ],
   "source": [
    "# Check the size of the data\n",
    "data_size = data.count()\n",
    "print(f\"The size of the dataset is: {data_size} rows\")"
   ]
  },
  {
   "cell_type": "markdown",
   "id": "bb792364",
   "metadata": {},
   "source": [
    "### Exploratory data analysis (EDA)"
   ]
  },
  {
   "cell_type": "code",
   "execution_count": 12,
   "id": "03f29f88",
   "metadata": {},
   "outputs": [
    {
     "name": "stderr",
     "output_type": "stream",
     "text": [
      "[Stage 40:>                                                         (0 + 2) / 2]\r"
     ]
    },
    {
     "name": "stdout",
     "output_type": "stream",
     "text": [
      "Overall unique value counts:\n",
      "number: 1599999\n",
      "id_tweet: 1598314\n",
      "date: 774362\n",
      "query: 1\n",
      "user_id: 659775\n",
      "tweet: 1581465\n"
     ]
    },
    {
     "name": "stderr",
     "output_type": "stream",
     "text": [
      "\r",
      "                                                                                \r"
     ]
    }
   ],
   "source": [
    "# Calculate the number of unique values in each column.\n",
    "# List of column names\n",
    "column_names = [\"number\", \"id_tweet\", \"date\", \"query\", \"user_id\", \"tweet\"]\n",
    "\n",
    "# Dictionary to store unique value counts\n",
    "unique_counts = {}\n",
    "\n",
    "# Iterate through the columns and count unique values\n",
    "for column_name in column_names:\n",
    "    unique_values = data.select(column_name).distinct()\n",
    "    unique_count = unique_values.count()\n",
    "    unique_counts[column_name] = unique_count\n",
    "\n",
    "# Print the overall count for each column\n",
    "print(\"Overall unique value counts:\")\n",
    "for column, count in unique_counts.items():\n",
    "    print(f\"{column}: {count}\")"
   ]
  },
  {
   "cell_type": "code",
   "execution_count": 13,
   "id": "eec1a022",
   "metadata": {},
   "outputs": [
    {
     "name": "stdout",
     "output_type": "stream",
     "text": [
      "+--------------------+--------------------+\n",
      "|                date|               tweet|\n",
      "+--------------------+--------------------+\n",
      "|Mon Apr 06 22:19:...|is upset that he ...|\n",
      "|Mon Apr 06 22:19:...|@Kenichan I dived...|\n",
      "|Mon Apr 06 22:19:...|my whole body fee...|\n",
      "|Mon Apr 06 22:19:...|@nationwideclass ...|\n",
      "|Mon Apr 06 22:20:...|@Kwesidei not the...|\n",
      "+--------------------+--------------------+\n",
      "only showing top 5 rows\n",
      "\n"
     ]
    }
   ],
   "source": [
    "# Drop columns that are duplicates and other irrelevant data information\n",
    "data = data.drop('number', 'id_tweet', 'query', 'user_id')\n",
    "\n",
    "# Show the updated DataFrame\n",
    "data.show(5)"
   ]
  },
  {
   "cell_type": "markdown",
   "id": "be0c7954",
   "metadata": {},
   "source": [
    "### Missing Values"
   ]
  },
  {
   "cell_type": "code",
   "execution_count": 14,
   "id": "61b25cd3",
   "metadata": {},
   "outputs": [
    {
     "name": "stdout",
     "output_type": "stream",
     "text": [
      "Missing values in 'date': 0\n",
      "Missing values in 'tweet': 0\n"
     ]
    }
   ],
   "source": [
    "# Iterate through all columns and print missing value counts\n",
    "for column_name in data.columns:\n",
    "    missing_count = data.filter(data[column_name].isNull()).count()\n",
    "    print(f\"Missing values in '{column_name}': {missing_count}\")"
   ]
  },
  {
   "cell_type": "code",
   "execution_count": 15,
   "id": "c3d7bf51",
   "metadata": {},
   "outputs": [
    {
     "name": "stdout",
     "output_type": "stream",
     "text": [
      "root\n",
      " |-- date: string (nullable = true)\n",
      " |-- tweet: string (nullable = true)\n",
      "\n"
     ]
    }
   ],
   "source": [
    "# Print the schema\n",
    "data.printSchema()"
   ]
  },
  {
   "cell_type": "code",
   "execution_count": 16,
   "id": "62bc20ce",
   "metadata": {},
   "outputs": [],
   "source": [
    "# Call the columns\n",
    "columns = [\"date\", \"tweet\"]\n",
    "\n",
    "# Set 'tweet' column as the index to convert it as label\n",
    "data = data.withColumn(\"label\", data[\"tweet\"])"
   ]
  },
  {
   "cell_type": "markdown",
   "id": "7bbec1a4",
   "metadata": {},
   "source": [
    "### Descriptive Statistics"
   ]
  },
  {
   "cell_type": "code",
   "execution_count": 17,
   "id": "20cf08ac",
   "metadata": {},
   "outputs": [
    {
     "name": "stderr",
     "output_type": "stream",
     "text": [
      "\r",
      "[Stage 51:>                                                         (0 + 2) / 2]\r"
     ]
    },
    {
     "name": "stdout",
     "output_type": "stream",
     "text": [
      "+-------+--------------------+\n",
      "|summary|                date|\n",
      "+-------+--------------------+\n",
      "|  count|             1599999|\n",
      "|   mean|                null|\n",
      "| stddev|                null|\n",
      "|    min|Fri Apr 17 20:30:...|\n",
      "|    max|Wed May 27 07:27:...|\n",
      "+-------+--------------------+\n",
      "\n"
     ]
    },
    {
     "name": "stderr",
     "output_type": "stream",
     "text": [
      "\r",
      "                                                                                \r"
     ]
    }
   ],
   "source": [
    "# Compute and interpret the mean, median, quartiles, and standard deviation for \"date\" and \"tweet count\"\n",
    "data.describe([\"date\"]).show()"
   ]
  },
  {
   "cell_type": "markdown",
   "id": "760501a6",
   "metadata": {},
   "source": [
    "### Create a configuration to convert string 'date' into timestamp"
   ]
  },
  {
   "cell_type": "code",
   "execution_count": 23,
   "id": "19e78a55",
   "metadata": {},
   "outputs": [
    {
     "name": "stdout",
     "output_type": "stream",
     "text": [
      "+-------------------+\n",
      "|               date|\n",
      "+-------------------+\n",
      "|2009-04-06 22:19:49|\n",
      "|2009-04-06 22:19:53|\n",
      "|2009-04-06 22:19:57|\n",
      "|2009-04-06 22:19:57|\n",
      "|2009-04-06 22:20:00|\n",
      "+-------------------+\n",
      "only showing top 5 rows\n",
      "\n"
     ]
    }
   ],
   "source": [
    "# Config SparkSession from UTC to Pacific Day Time which is the same timezone as the original dataset\n",
    "spark.conf.set(\"spark.sql.legacy.timeParserPolicy\", \"LEGACY\")\n",
    "spark.conf.set(\"spark.sql.session.timeZone\", \"America/Los_Angeles\")\n",
    "\n",
    "# Import libraries to convert\n",
    "from pyspark.sql.functions import from_unixtime, unix_timestamp\n",
    "from pyspark.sql.types import TimestampType\n",
    "\n",
    "# Convert 'date' column in string format to the timestamp\n",
    "data = data.withColumn(\"date\", from_unixtime(unix_timestamp(data[\"date\"], \"E MMM dd HH:mm:ss z yyyy\")).cast(TimestampType()))\n",
    "\n",
    "# Print the 'date' column with the new format\n",
    "data.select(\"date\").show(5)"
   ]
  },
  {
   "cell_type": "markdown",
   "id": "5043321f",
   "metadata": {},
   "source": [
    "### Groupby 'date'"
   ]
  },
  {
   "cell_type": "code",
   "execution_count": 24,
   "id": "b03a7e25",
   "metadata": {},
   "outputs": [
    {
     "name": "stderr",
     "output_type": "stream",
     "text": [
      "                                                                                \r"
     ]
    }
   ],
   "source": [
    "import matplotlib.pyplot as plt\n",
    "from pyspark.sql.functions import to_date, count\n",
    "from pyspark.sql.window import Window\n",
    "\n",
    "# Group the data by the date without the hour\n",
    "data = data.withColumn(\"date_without_hour\", to_date(data[\"date\"]))\n",
    "date_counts = data.groupBy(\"date_without_hour\").agg(count(\"*\").alias(\"tweet_count\"))\n",
    "\n",
    "# Sort the data by date without hour\n",
    "date_counts = date_counts.orderBy(\"date_without_hour\")\n",
    "\n",
    "# Collect the data to the driver\n",
    "date_counts = date_counts.collect()\n",
    "\n",
    "# Extract dates and tweet counts for plotting\n",
    "dates = [str(row.date_without_hour) for row in date_counts]\n",
    "tweet_counts = [row.tweet_count for row in date_counts]"
   ]
  },
  {
   "cell_type": "code",
   "execution_count": 25,
   "id": "0c332e4d",
   "metadata": {},
   "outputs": [
    {
     "data": {
      "image/png": "[encoded data removed]",
      "text/plain": [
       "<Figure size 864x432 with 1 Axes>"
      ]
     },
     "metadata": {
      "needs_background": "light"
     },
     "output_type": "display_data"
    }
   ],
   "source": [
    "# Plot the tweet count\n",
    "plt.figure(figsize=(12, 6))\n",
    "plt.bar(dates, tweet_counts)\n",
    "plt.title(\"Tweet Count Over Time (Aggregated by Date)\")\n",
    "plt.xlabel(\"Date\")\n",
    "plt.ylabel(\"Tweet Count\")\n",
    "plt.xticks(rotation=45)  # Rotate x-axis labels for readability\n",
    "plt.tight_layout()\n",
    "\n",
    "# Show the plot\n",
    "plt.show()"
   ]
  },
  {
   "cell_type": "code",
   "execution_count": 26,
   "id": "5bd61c64",
   "metadata": {},
   "outputs": [
    {
     "name": "stderr",
     "output_type": "stream",
     "text": [
      "                                                                                \r"
     ]
    },
    {
     "name": "stdout",
     "output_type": "stream",
     "text": [
      "First Date: 2009-04-06\n",
      "Last Date: 2009-06-25\n"
     ]
    },
    {
     "name": "stderr",
     "output_type": "stream",
     "text": [
      "[Stage 71:=============================>                            (1 + 1) / 2]\r"
     ]
    },
    {
     "name": "stdout",
     "output_type": "stream",
     "text": [
      "2009-04-08\n",
      "2009-04-09\n",
      "2009-04-10\n",
      "2009-04-11\n",
      "2009-04-12\n",
      "2009-04-13\n",
      "2009-04-14\n",
      "2009-04-15\n",
      "2009-04-16\n",
      "2009-04-22\n",
      "2009-04-23\n",
      "2009-04-24\n",
      "2009-04-25\n",
      "2009-04-26\n",
      "2009-04-27\n",
      "2009-04-28\n",
      "2009-04-29\n",
      "2009-04-30\n",
      "2009-05-05\n",
      "2009-05-06\n",
      "2009-05-07\n",
      "2009-05-08\n",
      "2009-05-12\n",
      "2009-05-15\n",
      "2009-05-19\n",
      "2009-05-20\n",
      "2009-05-24\n",
      "2009-06-08\n",
      "2009-06-09\n",
      "2009-06-10\n",
      "2009-06-11\n",
      "2009-06-12\n",
      "2009-06-13\n",
      "Missing Days Count: 33\n"
     ]
    },
    {
     "name": "stderr",
     "output_type": "stream",
     "text": [
      "\r",
      "                                                                                \r"
     ]
    }
   ],
   "source": [
    "from pyspark.sql.functions import col, date_add, datediff\n",
    "import pyspark.sql.functions as F\n",
    "from datetime import date, timedelta\n",
    "\n",
    "# Extract the date part from the 'date' column\n",
    "data = data.withColumn(\"date\", col(\"date\").cast(\"date\"))\n",
    "\n",
    "# Sort the DataFrame by date\n",
    "data = data.orderBy(\"date\")\n",
    "\n",
    "# Calculate the next date using the lead function\n",
    "data = data.withColumn(\"next_date\", date_add(col(\"date\"), 1))\n",
    "\n",
    "# Check if the next date is continuous (no break)\n",
    "data = data.withColumn(\"is_continuous\", datediff(col(\"next_date\"), col(\"date\")) == 1)\n",
    "\n",
    "# Create a window specification to order by date\n",
    "window_spec = Window.orderBy(\"date\")\n",
    "\n",
    "# Assign a group identifier to continuous sequences\n",
    "data = data.withColumn(\"group_id\", F.sum(col(\"is_continuous\").cast(\"int\")).over(window_spec))\n",
    "\n",
    "# Filter only the rows with continuous sequences\n",
    "continuous_dates = data.filter(col(\"is_continuous\")).select(\"date\").distinct()\n",
    "\n",
    "# Sort the list in ascending order\n",
    "continuous_dates = continuous_dates.orderBy(\"date\")\n",
    "\n",
    "# Get the first and last dates in the DataFrame\n",
    "first_date = continuous_dates.first().date\n",
    "last_date = continuous_dates.orderBy(col(\"date\").desc()).first().date\n",
    "\n",
    "# Print the first and last dates\n",
    "print(\"First Date:\", first_date)\n",
    "print(\"Last Date:\", last_date)\n",
    "\n",
    "# Define the start and end date for the range\n",
    "start_date = first_date\n",
    "end_date = last_date\n",
    "\n",
    "# Generate a list of all dates in the range\n",
    "date_range = [start_date + timedelta(days=x) for x in range((end_date - start_date).days + 1)]\n",
    "\n",
    "# Convert the list of continuous dates to a Python list\n",
    "continuous_dates_list = [row.date for row in continuous_dates.collect()]\n",
    "\n",
    "# Find the dates not in the list\n",
    "missing_dates = [d for d in date_range if d not in continuous_dates_list]\n",
    "\n",
    "# Print the missing dates\n",
    "for missing_date in missing_dates:\n",
    "    print(missing_date)\n",
    "\n",
    "# Count the missing days\n",
    "missing_days_count = len(missing_dates)\n",
    "\n",
    "# Print the missing days count\n",
    "print(\"Missing Days Count:\", missing_days_count)"
   ]
  },
  {
   "cell_type": "markdown",
   "id": "f27613af",
   "metadata": {},
   "source": [
    "### Outliers"
   ]
  },
  {
   "cell_type": "code",
   "execution_count": 27,
   "id": "e5f7a624",
   "metadata": {},
   "outputs": [
    {
     "name": "stderr",
     "output_type": "stream",
     "text": [
      "                                                                                \r"
     ]
    },
    {
     "data": {
      "image/png": "[encoded data removed]",
      "text/plain": [
       "<Figure size 720x432 with 1 Axes>"
      ]
     },
     "metadata": {
      "needs_background": "light"
     },
     "output_type": "display_data"
    }
   ],
   "source": [
    "import matplotlib.pyplot as plt\n",
    "from pyspark.sql.functions import to_date, count\n",
    "from pyspark.sql.window import Window\n",
    "\n",
    "# Group the data by the date without the hour\n",
    "data = data.withColumn(\"date_without_hour\", to_date(data[\"date\"]))\n",
    "date_counts = data.groupBy(\"date_without_hour\").agg(count(\"*\").alias(\"tweet_count\"))\n",
    "\n",
    "# Sort the data by date without hour\n",
    "date_counts = date_counts.orderBy(\"date_without_hour\")\n",
    "\n",
    "# Collect the data to the driver\n",
    "date_counts = date_counts.collect()\n",
    "\n",
    "# Extract tweet counts for plotting\n",
    "tweet_counts = [row.tweet_count for row in date_counts]\n",
    "\n",
    "# Create a box plot with outliers marked\n",
    "plt.figure(figsize=(10, 6))\n",
    "plt.boxplot(tweet_counts, vert=False, flierprops=dict(marker='o', markerfacecolor='red', markersize=8))\n",
    "plt.title(\"Box Plot of Tweet Counts by Date\")\n",
    "plt.xlabel(\"Tweet Counts\")\n",
    "plt.grid(True)\n",
    "\n",
    "plt.show()"
   ]
  },
  {
   "cell_type": "code",
   "execution_count": 28,
   "id": "37fa9086",
   "metadata": {},
   "outputs": [
    {
     "name": "stdout",
     "output_type": "stream",
     "text": [
      "Potential Outliers:\n",
      "Date: 2009-05-29, Tweet Count: 73827\n",
      "Date: 2009-05-30, Tweet Count: 103673\n",
      "Date: 2009-05-31, Tweet Count: 94588\n",
      "Date: 2009-06-01, Tweet Count: 110290\n",
      "Date: 2009-06-02, Tweet Count: 64192\n",
      "Date: 2009-06-05, Tweet Count: 58757\n",
      "Date: 2009-06-06, Tweet Count: 111676\n",
      "Date: 2009-06-07, Tweet Count: 96350\n",
      "Date: 2009-06-15, Tweet Count: 109781\n",
      "Date: 2009-06-16, Tweet Count: 67980\n",
      "Date: 2009-06-20, Tweet Count: 45364\n"
     ]
    }
   ],
   "source": [
    "# Display the potential outliers (if any) and print them\n",
    "outliers = []\n",
    "\n",
    "q1 = date_counts[0].tweet_count\n",
    "q3 = date_counts[-1].tweet_count\n",
    "iqr = q3 - q1\n",
    "lower_bound = q1 - 1.5 * iqr\n",
    "upper_bound = q3 + 1.5 * iqr\n",
    "\n",
    "for idx, tweet_count in enumerate(tweet_counts):\n",
    "    if tweet_count < lower_bound or tweet_count > upper_bound:\n",
    "        outliers.append((date_counts[idx].date_without_hour, tweet_count))\n",
    "\n",
    "# Print the potential outliers\n",
    "print(\"Potential Outliers:\")\n",
    "for date, count in outliers:\n",
    "    print(f\"Date: {date}, Tweet Count: {count}\")"
   ]
  },
  {
   "cell_type": "markdown",
   "id": "b5863cd0",
   "metadata": {},
   "source": [
    "### Initialize Spark Session with Cassandra database"
   ]
  },
  {
   "cell_type": "code",
   "execution_count": 29,
   "id": "ea7852ac",
   "metadata": {},
   "outputs": [],
   "source": [
    "# Create a Spark session with necessary configurations\n",
    "spark = SparkSession.builder \\\n",
    "    .appName('CassandraIntegration') \\\n",
    "    .config(\"spark.cassandra.connection.host\", \"127.0.0.1\") \\\n",
    "    .getOrCreate()"
   ]
  },
  {
   "cell_type": "markdown",
   "id": "6d24da40",
   "metadata": {},
   "source": [
    "### Read the Data from Cassandra"
   ]
  },
  {
   "cell_type": "code",
   "execution_count": 30,
   "id": "99c38d86",
   "metadata": {},
   "outputs": [
    {
     "name": "stderr",
     "output_type": "stream",
     "text": [
      "[Stage 88:=============================>                            (1 + 1) / 2]\r"
     ]
    },
    {
     "name": "stdout",
     "output_type": "stream",
     "text": [
      "+------+----------+--------------------+--------+---------------+--------------------+\n",
      "|number|  id_tweet|                date|   query|        user_id|               tweet|\n",
      "+------+----------+--------------------+--------+---------------+--------------------+\n",
      "|865612|1677490053|Sat May 02 02:21:...|NO_QUERY|    arthur01022|'@sarjalis I'm go...|\n",
      "|820293|1553677142|Sat Apr 18 14:54:...|NO_QUERY|       LONGMANX|'@xxandip how man...|\n",
      "| 14810|1553861618|Sat Apr 18 15:24:...|NO_QUERY|        a_paige|'I wish @Kimone_i...|\n",
      "|263293|1986487107|Sun May 31 18:54:...|NO_QUERY|       fredbohm|'Awesome, 2-1 to ...|\n",
      "|937429|1793224306|Thu May 14 01:51:...|NO_QUERY|princesslaurenn|'has eaten some c...|\n",
      "+------+----------+--------------------+--------+---------------+--------------------+\n",
      "only showing top 5 rows\n",
      "\n"
     ]
    },
    {
     "name": "stderr",
     "output_type": "stream",
     "text": [
      "\r",
      "                                                                                \r"
     ]
    }
   ],
   "source": [
    "# Load the data.csv file\n",
    "cassandraDF = spark.read.csv(\"file:///home/hduser/Desktop/CA2_SEM2/activity_from_cassandra.csv\", header=True, inferSchema=True)\n",
    "\n",
    "# Display the first 5 rows\n",
    "cassandraDF.show(5)"
   ]
  },
  {
   "cell_type": "code",
   "execution_count": 31,
   "id": "428d877c",
   "metadata": {},
   "outputs": [
    {
     "name": "stdout",
     "output_type": "stream",
     "text": [
      "root\n",
      " |-- number: integer (nullable = true)\n",
      " |-- id_tweet: long (nullable = true)\n",
      " |-- date: string (nullable = true)\n",
      " |-- query: string (nullable = true)\n",
      " |-- user_id: string (nullable = true)\n",
      " |-- tweet: string (nullable = true)\n",
      "\n"
     ]
    }
   ],
   "source": [
    "# Print the schema\n",
    "cassandraDF.printSchema()"
   ]
  },
  {
   "cell_type": "code",
   "execution_count": 32,
   "id": "e9a5ef5b",
   "metadata": {},
   "outputs": [
    {
     "name": "stdout",
     "output_type": "stream",
     "text": [
      "The size of the dataset is: 1036130 rows\n"
     ]
    }
   ],
   "source": [
    "# Check the size of the data\n",
    "cassandraDF_size = cassandraDF.count()\n",
    "print(f\"The size of the dataset is: {cassandraDF_size} rows\")"
   ]
  },
  {
   "cell_type": "markdown",
   "id": "dcff11d2",
   "metadata": {},
   "source": [
    "### Exploratory data analysis (EDA)"
   ]
  },
  {
   "cell_type": "code",
   "execution_count": 33,
   "id": "17143436",
   "metadata": {
    "scrolled": false
   },
   "outputs": [
    {
     "name": "stderr",
     "output_type": "stream",
     "text": [
      "[Stage 123:============================>                            (1 + 1) / 2]\r"
     ]
    },
    {
     "name": "stdout",
     "output_type": "stream",
     "text": [
      "Overall unique value counts:\n",
      "number: 1036130\n",
      "id_tweet: 1036130\n",
      "date: 657323\n",
      "query: 1\n",
      "user_id: 506785\n",
      "tweet: 1036130\n"
     ]
    },
    {
     "name": "stderr",
     "output_type": "stream",
     "text": [
      "\r",
      "                                                                                \r"
     ]
    }
   ],
   "source": [
    "# Import the necessary modules\n",
    "from pyspark.sql import SparkSession\n",
    "from pyspark.sql.functions import col\n",
    "\n",
    "# Initialize Spark session\n",
    "spark = SparkSession.builder.appName(\"CassandraUniqueValues\").getOrCreate()\n",
    "\n",
    "# List of column names\n",
    "column_names = [\"number\", \"id_tweet\", \"date\", \"query\", \"user_id\", \"tweet\"]\n",
    "\n",
    "# Dictionary to store unique value counts\n",
    "unique_counts = {}\n",
    "\n",
    "# Iterate through the columns and count unique values\n",
    "for column_name in column_names:\n",
    "    unique_values = cassandraDF.select(column_name).distinct()\n",
    "    unique_count = unique_values.count()\n",
    "    unique_counts[column_name] = unique_count\n",
    "\n",
    "# Print the overall count for each column\n",
    "print(\"Overall unique value counts:\")\n",
    "for column, count in unique_counts.items():\n",
    "    print(f\"{column}: {count}\")"
   ]
  },
  {
   "cell_type": "code",
   "execution_count": 34,
   "id": "16bc63d8",
   "metadata": {},
   "outputs": [
    {
     "name": "stdout",
     "output_type": "stream",
     "text": [
      "+--------------------+--------------------+\n",
      "|                date|               tweet|\n",
      "+--------------------+--------------------+\n",
      "|Sat May 02 02:21:...|'@sarjalis I'm go...|\n",
      "|Sat Apr 18 14:54:...|'@xxandip how man...|\n",
      "|Sat Apr 18 15:24:...|'I wish @Kimone_i...|\n",
      "|Sun May 31 18:54:...|'Awesome, 2-1 to ...|\n",
      "|Thu May 14 01:51:...|'has eaten some c...|\n",
      "+--------------------+--------------------+\n",
      "only showing top 5 rows\n",
      "\n"
     ]
    }
   ],
   "source": [
    "# Drop columns that are duplicates and other irrelevant data information\n",
    "cassandraDF = cassandraDF.drop('number', 'id_tweet', 'query', 'user_id')\n",
    "\n",
    "# Show the updated DataFrame\n",
    "cassandraDF.show(5)"
   ]
  },
  {
   "cell_type": "markdown",
   "id": "167eb33d",
   "metadata": {},
   "source": [
    "### Missing Values"
   ]
  },
  {
   "cell_type": "code",
   "execution_count": 35,
   "id": "c29d0980",
   "metadata": {},
   "outputs": [
    {
     "name": "stderr",
     "output_type": "stream",
     "text": [
      "                                                                                \r"
     ]
    },
    {
     "name": "stdout",
     "output_type": "stream",
     "text": [
      "Missing values in 'date': 0\n"
     ]
    },
    {
     "name": "stderr",
     "output_type": "stream",
     "text": [
      "\r",
      "[Stage 133:>                                                        (0 + 2) / 2]\r"
     ]
    },
    {
     "name": "stdout",
     "output_type": "stream",
     "text": [
      "Missing values in 'tweet': 0\n"
     ]
    },
    {
     "name": "stderr",
     "output_type": "stream",
     "text": [
      "\r",
      "[Stage 133:============================>                            (1 + 1) / 2]\r",
      "\r",
      "                                                                                \r"
     ]
    }
   ],
   "source": [
    "# Iterate through all columns and print missing value counts\n",
    "for column_name in cassandraDF.columns:\n",
    "    missing_count = cassandraDF.filter(cassandraDF[column_name].isNull()).count()\n",
    "    print(f\"Missing values in '{column_name}': {missing_count}\")"
   ]
  },
  {
   "cell_type": "code",
   "execution_count": 36,
   "id": "a38a4d44",
   "metadata": {},
   "outputs": [
    {
     "name": "stdout",
     "output_type": "stream",
     "text": [
      "root\n",
      " |-- date: string (nullable = true)\n",
      " |-- tweet: string (nullable = true)\n",
      "\n"
     ]
    }
   ],
   "source": [
    "# Print the schema\n",
    "cassandraDF.printSchema()"
   ]
  },
  {
   "cell_type": "code",
   "execution_count": 37,
   "id": "fc612f3e",
   "metadata": {},
   "outputs": [],
   "source": [
    "# Call the columns\n",
    "columns = [\"date\", \"tweet\"]\n",
    "\n",
    "# Set 'tweet' column as the index to convert it as label\n",
    "cassandraDF = cassandraDF.withColumn(\"label\", cassandraDF[\"tweet\"])"
   ]
  },
  {
   "cell_type": "markdown",
   "id": "6160a540",
   "metadata": {},
   "source": [
    "### Descriptive Statistics"
   ]
  },
  {
   "cell_type": "code",
   "execution_count": 38,
   "id": "f9e8704f",
   "metadata": {},
   "outputs": [
    {
     "name": "stderr",
     "output_type": "stream",
     "text": [
      "\r",
      "[Stage 136:>                                                        (0 + 2) / 2]\r"
     ]
    },
    {
     "name": "stdout",
     "output_type": "stream",
     "text": [
      "+-------+--------------------+--------------------+--------------------+\n",
      "|summary|                date|               tweet|               label|\n",
      "+-------+--------------------+--------------------+--------------------+\n",
      "|  count|             1036130|             1036130|             1036130|\n",
      "|   mean|                null|                null|                null|\n",
      "| stddev|                null|                null|                null|\n",
      "|    min|Fri Apr 17 20:30:...|'                ...|'                ...|\n",
      "|    max|Wed May 27 07:27:...|                test|                test|\n",
      "+-------+--------------------+--------------------+--------------------+\n",
      "\n"
     ]
    },
    {
     "name": "stderr",
     "output_type": "stream",
     "text": [
      "\r",
      "                                                                                \r"
     ]
    }
   ],
   "source": [
    "# Compute and interpret the mean, median, quartiles and standard deviation of the dataset\n",
    "cassandraDF.describe().show()"
   ]
  },
  {
   "cell_type": "markdown",
   "id": "c64351c7",
   "metadata": {},
   "source": [
    "### Create a configuration to convert string 'date' into timestamp"
   ]
  },
  {
   "cell_type": "code",
   "execution_count": 39,
   "id": "fbba8a12",
   "metadata": {},
   "outputs": [
    {
     "name": "stdout",
     "output_type": "stream",
     "text": [
      "+-------------------+\n",
      "|               date|\n",
      "+-------------------+\n",
      "|2009-05-02 02:21:12|\n",
      "|2009-04-18 14:54:53|\n",
      "|2009-04-18 15:24:48|\n",
      "|2009-05-31 18:54:07|\n",
      "|2009-05-14 01:51:35|\n",
      "+-------------------+\n",
      "only showing top 5 rows\n",
      "\n"
     ]
    }
   ],
   "source": [
    "# Config SparkSession from UTC to Pacific Day Time which is the same timezone as the original dataset\n",
    "spark.conf.set(\"spark.sql.legacy.timeParserPolicy\", \"LEGACY\")\n",
    "spark.conf.set(\"spark.sql.session.timeZone\", \"America/Los_Angeles\")\n",
    "\n",
    "# Import libraries to convert\n",
    "from pyspark.sql.functions import from_unixtime, unix_timestamp\n",
    "from pyspark.sql.types import TimestampType\n",
    "\n",
    "# Convert 'date' column in string format to the timestamp\n",
    "cassandraDF = cassandraDF.withColumn(\"date\", from_unixtime(unix_timestamp(cassandraDF[\"date\"], \"E MMM dd HH:mm:ss z yyyy\")).cast(TimestampType()))\n",
    "\n",
    "# Print the 'date' column with the new format\n",
    "cassandraDF.select(\"date\").show(5)"
   ]
  },
  {
   "cell_type": "markdown",
   "id": "a398ac29",
   "metadata": {},
   "source": [
    "### Groupby 'date'"
   ]
  },
  {
   "cell_type": "code",
   "execution_count": 40,
   "id": "96169872",
   "metadata": {},
   "outputs": [
    {
     "name": "stderr",
     "output_type": "stream",
     "text": [
      "                                                                                \r"
     ]
    }
   ],
   "source": [
    "import matplotlib.pyplot as plt\n",
    "from pyspark.sql.functions import to_date, count\n",
    "from pyspark.sql.window import Window\n",
    "\n",
    "# Group the data by the date without the hour\n",
    "cassandraDF = cassandraDF.withColumn(\"date_without_hour\", to_date(cassandraDF[\"date\"]))\n",
    "cassandraDF_counts = cassandraDF.groupBy(\"date_without_hour\").agg(count(\"*\").alias(\"tweet_count\"))\n",
    "\n",
    "# Sort the data by date without hour\n",
    "cassandraDF_counts = cassandraDF_counts.orderBy(\"date_without_hour\")\n",
    "\n",
    "# Collect the data to the driver\n",
    "cassandraDF_counts = cassandraDF_counts.collect()\n",
    "\n",
    "# Extract dates and tweet counts for plotting\n",
    "dates = [str(row.date_without_hour) for row in cassandraDF_counts]\n",
    "tweet_counts = [row.tweet_count for row in cassandraDF_counts]"
   ]
  },
  {
   "cell_type": "code",
   "execution_count": 41,
   "id": "0dfa96d0",
   "metadata": {},
   "outputs": [
    {
     "data": {
      "image/png": "[encoded data removed]",
      "text/plain": [
       "<Figure size 864x432 with 1 Axes>"
      ]
     },
     "metadata": {
      "needs_background": "light"
     },
     "output_type": "display_data"
    }
   ],
   "source": [
    "# Plot the tweet count with red bars\n",
    "plt.figure(figsize=(12, 6))\n",
    "plt.bar(dates, tweet_counts, color='red')  # Set color to red\n",
    "plt.title(\"Tweet Count Over Time (Aggregated by Date)\")\n",
    "plt.xlabel(\"Date\")\n",
    "plt.ylabel(\"Tweet Count\")\n",
    "plt.xticks(rotation=45)  # Rotate x-axis labels for readability\n",
    "plt.tight_layout()\n",
    "\n",
    "# Show the plot\n",
    "plt.show()"
   ]
  },
  {
   "cell_type": "code",
   "execution_count": 42,
   "id": "0677aec3",
   "metadata": {},
   "outputs": [
    {
     "name": "stderr",
     "output_type": "stream",
     "text": [
      "                                                                                \r"
     ]
    },
    {
     "name": "stdout",
     "output_type": "stream",
     "text": [
      "First Date: 2009-04-06\n",
      "Last Date: 2009-06-25\n"
     ]
    },
    {
     "name": "stderr",
     "output_type": "stream",
     "text": [
      "[Stage 154:============================>                            (1 + 1) / 2]\r"
     ]
    },
    {
     "name": "stdout",
     "output_type": "stream",
     "text": [
      "2009-04-08\n",
      "2009-04-09\n",
      "2009-04-10\n",
      "2009-04-11\n",
      "2009-04-12\n",
      "2009-04-13\n",
      "2009-04-14\n",
      "2009-04-15\n",
      "2009-04-16\n",
      "2009-04-22\n",
      "2009-04-23\n",
      "2009-04-24\n",
      "2009-04-25\n",
      "2009-04-26\n",
      "2009-04-27\n",
      "2009-04-28\n",
      "2009-04-29\n",
      "2009-04-30\n",
      "2009-05-05\n",
      "2009-05-06\n",
      "2009-05-07\n",
      "2009-05-08\n",
      "2009-05-12\n",
      "2009-05-15\n",
      "2009-05-19\n",
      "2009-05-20\n",
      "2009-05-24\n",
      "2009-06-08\n",
      "2009-06-09\n",
      "2009-06-10\n",
      "2009-06-11\n",
      "2009-06-12\n",
      "2009-06-13\n",
      "Missing Days Count: 33\n"
     ]
    },
    {
     "name": "stderr",
     "output_type": "stream",
     "text": [
      "\r",
      "                                                                                \r"
     ]
    }
   ],
   "source": [
    "from pyspark.sql.functions import col, date_add, datediff\n",
    "import pyspark.sql.functions as F\n",
    "from datetime import date, timedelta\n",
    "\n",
    "# Extract the date part from the 'date' column\n",
    "cassandraDF = cassandraDF.withColumn(\"date\", col(\"date\").cast(\"date\"))\n",
    "\n",
    "# Sort the DataFrame by date\n",
    "cassandraDF = cassandraDF.orderBy(\"date\")\n",
    "\n",
    "# Calculate the next date using the lead function\n",
    "cassandraDF = cassandraDF.withColumn(\"next_date\", date_add(col(\"date\"), 1))\n",
    "\n",
    "# Check if the next date is continuous (no break)\n",
    "cassandraDF = cassandraDF.withColumn(\"is_continuous\", datediff(col(\"next_date\"), col(\"date\")) == 1)\n",
    "\n",
    "# Create a window specification to order by date\n",
    "window_spec = Window.orderBy(\"date\")\n",
    "\n",
    "# Assign a group identifier to continuous sequences\n",
    "cassandraDF = cassandraDF.withColumn(\"group_id\", F.sum(col(\"is_continuous\").cast(\"int\")).over(window_spec))\n",
    "\n",
    "# Filter only the rows with continuous sequences\n",
    "continuous_dates = cassandraDF.filter(col(\"is_continuous\")).select(\"date\").distinct()\n",
    "\n",
    "# Sort the list in ascending order\n",
    "continuous_dates = continuous_dates.orderBy(\"date\")\n",
    "\n",
    "# Get the first and last dates in the DataFrame\n",
    "first_date = continuous_dates.first().date\n",
    "last_date = continuous_dates.orderBy(col(\"date\").desc()).first().date\n",
    "\n",
    "# Print the first and last dates\n",
    "print(\"First Date:\", first_date)\n",
    "print(\"Last Date:\", last_date)\n",
    "\n",
    "# Define the start and end date for the range\n",
    "start_date = first_date\n",
    "end_date = last_date\n",
    "\n",
    "# Generate a list of all dates in the range\n",
    "date_range = [start_date + timedelta(days=x) for x in range((end_date - start_date).days + 1)]\n",
    "\n",
    "# Convert the list of continuous dates to a Python list\n",
    "continuous_dates_list = [row.date for row in continuous_dates.collect()]\n",
    "\n",
    "# Find the dates not in the list\n",
    "missing_dates = [d for d in date_range if d not in continuous_dates_list]\n",
    "\n",
    "# Print the missing dates\n",
    "for missing_date in missing_dates:\n",
    "    print(missing_date)\n",
    "\n",
    "# Count the missing days\n",
    "missing_days_count = len(missing_dates)\n",
    "\n",
    "# Print the missing days count\n",
    "print(\"Missing Days Count:\", missing_days_count)"
   ]
  },
  {
   "cell_type": "markdown",
   "id": "7ef5b0d2",
   "metadata": {},
   "source": [
    "### Outliers"
   ]
  },
  {
   "cell_type": "code",
   "execution_count": 43,
   "id": "04295dbf",
   "metadata": {},
   "outputs": [
    {
     "name": "stderr",
     "output_type": "stream",
     "text": [
      "                                                                                \r"
     ]
    },
    {
     "data": {
      "image/png": "[encoded data removed]",
      "text/plain": [
       "<Figure size 720x432 with 1 Axes>"
      ]
     },
     "metadata": {
      "needs_background": "light"
     },
     "output_type": "display_data"
    }
   ],
   "source": [
    "import matplotlib.pyplot as plt\n",
    "from pyspark.sql.functions import to_date, count\n",
    "\n",
    "# Group the data by the date without the hour\n",
    "cassandraDF = cassandraDF.withColumn(\"date_without_hour\", to_date(cassandraDF[\"date\"]))\n",
    "cassandraDF_counts = cassandraDF.groupBy(\"date_without_hour\").agg(count(\"*\").alias(\"tweet_count\"))\n",
    "\n",
    "# Sort the data by date without hour\n",
    "cassandraDF_counts = cassandraDF_counts.orderBy(\"date_without_hour\")\n",
    "\n",
    "# Collect the data to the driver\n",
    "cassandraDF_counts = cassandraDF_counts.collect()\n",
    "\n",
    "# Extract tweet counts for plotting\n",
    "tweet_counts = [row.tweet_count for row in cassandraDF_counts]\n",
    "\n",
    "# Create a box plot with outliers marked\n",
    "plt.figure(figsize=(10, 6))\n",
    "plt.boxplot(tweet_counts, vert=False, flierprops=dict(marker='o', markerfacecolor='red', markersize=8))\n",
    "plt.title(\"Box Plot of Tweet Counts by Date for Cassandra\")\n",
    "plt.xlabel(\"Tweet Counts\")\n",
    "plt.grid(True)\n",
    "\n",
    "plt.show()"
   ]
  },
  {
   "cell_type": "code",
   "execution_count": 44,
   "id": "648155ce",
   "metadata": {},
   "outputs": [
    {
     "name": "stdout",
     "output_type": "stream",
     "text": [
      "Potential Outliers:\n",
      "Date: 2009-06-15, Tweet Count: 44818\n",
      "Date: 2009-06-20, Tweet Count: 44946\n"
     ]
    }
   ],
   "source": [
    "# Display the potential outliers (if any) and print them\n",
    "outliers = []\n",
    "\n",
    "q1 = date_counts[0].tweet_count\n",
    "q3 = date_counts[-1].tweet_count\n",
    "iqr = q3 - q1\n",
    "lower_bound = q1 - 1.5 * iqr\n",
    "upper_bound = q3 + 1.5 * iqr\n",
    "\n",
    "for idx, tweet_count in enumerate(tweet_counts):\n",
    "    if tweet_count < lower_bound or tweet_count > upper_bound:\n",
    "        outliers.append((date_counts[idx].date_without_hour, tweet_count))\n",
    "\n",
    "# Print the potential outliers\n",
    "print(\"Potential Outliers:\")\n",
    "for date, count in outliers:\n",
    "    print(f\"Date: {date}, Tweet Count: {count}\")"
   ]
  },
  {
   "cell_type": "markdown",
   "id": "54acc80c",
   "metadata": {},
   "source": [
    "### Comparison between Hive and Cassandra datasets"
   ]
  },
  {
   "cell_type": "code",
   "execution_count": 45,
   "id": "e125ddae",
   "metadata": {},
   "outputs": [
    {
     "name": "stdout",
     "output_type": "stream",
     "text": [
      "Hive Database Row Count: 1599999\n",
      "Cassandra Database Row Count: 1036130\n",
      "Total Difference: 563869\n"
     ]
    }
   ],
   "source": [
    "# Get the row count for 'data'\n",
    "hive_row_count = data.count()\n",
    "\n",
    "# Get the row count for 'cassandraDF'\n",
    "cassandra_row_count = cassandraDF.count()\n",
    "\n",
    "# Calculate the total difference\n",
    "total_difference = hive_row_count - cassandra_row_count\n",
    "\n",
    "# Print the row counts and total difference\n",
    "print(\"Hive Database Row Count:\", hive_row_count)\n",
    "print(\"Cassandra Database Row Count:\", cassandra_row_count)\n",
    "print(\"Total Difference:\", total_difference)"
   ]
  },
  {
   "cell_type": "code",
   "execution_count": 46,
   "id": "cc0ae0ae",
   "metadata": {},
   "outputs": [
    {
     "name": "stderr",
     "output_type": "stream",
     "text": [
      "[Stage 184:============================>                            (1 + 1) / 2]\r"
     ]
    },
    {
     "name": "stdout",
     "output_type": "stream",
     "text": [
      "Date: 2009-04-06, Hive Count: 3359, Cassandra Count: 3321, Total Difference: 38\n",
      "Date: 2009-04-07, Hive Count: 17311, Cassandra Count: 17119, Total Difference: 192\n",
      "Date: 2009-04-17, Hive Count: 3084, Cassandra Count: 3047, Total Difference: 37\n",
      "Date: 2009-04-18, Hive Count: 21754, Cassandra Count: 21506, Total Difference: 248\n",
      "Date: 2009-04-19, Hive Count: 27469, Cassandra Count: 27136, Total Difference: 333\n",
      "Date: 2009-04-20, Hive Count: 18460, Cassandra Count: 18128, Total Difference: 332\n",
      "Date: 2009-04-21, Hive Count: 8587, Cassandra Count: 8423, Total Difference: 164\n",
      "Date: 2009-05-01, Hive Count: 7716, Cassandra Count: 7568, Total Difference: 148\n",
      "Date: 2009-05-02, Hive Count: 27434, Cassandra Count: 27125, Total Difference: 309\n",
      "Date: 2009-05-03, Hive Count: 35333, Cassandra Count: 34902, Total Difference: 431\n",
      "Date: 2009-05-04, Hive Count: 15481, Cassandra Count: 15293, Total Difference: 188\n",
      "Date: 2009-05-09, Hive Count: 11739, Cassandra Count: 11588, Total Difference: 151\n",
      "Date: 2009-05-10, Hive Count: 26029, Cassandra Count: 25586, Total Difference: 443\n",
      "Date: 2009-05-11, Hive Count: 4186, Cassandra Count: 4160, Total Difference: 26\n",
      "Date: 2009-05-13, Hive Count: 4066, Cassandra Count: 4039, Total Difference: 27\n",
      "Date: 2009-05-14, Hive Count: 17460, Cassandra Count: 17244, Total Difference: 216\n",
      "Date: 2009-05-16, Hive Count: 9146, Cassandra Count: 8993, Total Difference: 153\n",
      "Date: 2009-05-17, Hive Count: 40154, Cassandra Count: 39632, Total Difference: 522\n",
      "Date: 2009-05-18, Hive Count: 36469, Cassandra Count: 36006, Total Difference: 463\n",
      "Date: 2009-05-21, Hive Count: 2132, Cassandra Count: 2099, Total Difference: 33\n",
      "Date: 2009-05-22, Hive Count: 39074, Cassandra Count: 38684, Total Difference: 390\n",
      "Date: 2009-05-23, Hive Count: 169, Cassandra Count: 169, Total Difference: 0\n",
      "Date: 2009-05-25, Hive Count: 169, Cassandra Count: 169, Total Difference: 0\n",
      "Date: 2009-05-26, Hive Count: 10778, Cassandra Count: 10706, Total Difference: 72\n",
      "Date: 2009-05-27, Hive Count: 841, Cassandra Count: 831, Total Difference: 10\n",
      "Date: 2009-05-28, Hive Count: 15903, Cassandra Count: 15799, Total Difference: 104\n",
      "Date: 2009-05-29, Hive Count: 73827, Cassandra Count: 34591, Total Difference: 39236\n",
      "Date: 2009-05-30, Hive Count: 103673, Cassandra Count: 38678, Total Difference: 64995\n",
      "Date: 2009-05-31, Hive Count: 94588, Cassandra Count: 35910, Total Difference: 58678\n",
      "Date: 2009-06-01, Hive Count: 110290, Cassandra Count: 43604, Total Difference: 66686\n",
      "Date: 2009-06-02, Hive Count: 64192, Cassandra Count: 25109, Total Difference: 39083\n",
      "Date: 2009-06-03, Hive Count: 41588, Cassandra Count: 15727, Total Difference: 25861\n",
      "Date: 2009-06-04, Hive Count: 7842, Cassandra Count: 3111, Total Difference: 4731\n",
      "Date: 2009-06-05, Hive Count: 58757, Cassandra Count: 23277, Total Difference: 35480\n",
      "Date: 2009-06-06, Hive Count: 111676, Cassandra Count: 43160, Total Difference: 68516\n",
      "Date: 2009-06-07, Hive Count: 96350, Cassandra Count: 37724, Total Difference: 58626\n",
      "Date: 2009-06-14, Hive Count: 8272, Cassandra Count: 3319, Total Difference: 4953\n",
      "Date: 2009-06-15, Hive Count: 109781, Cassandra Count: 44818, Total Difference: 64963\n",
      "Date: 2009-06-16, Hive Count: 67980, Cassandra Count: 43150, Total Difference: 24830\n",
      "Date: 2009-06-17, Hive Count: 44012, Cassandra Count: 43536, Total Difference: 476\n",
      "Date: 2009-06-18, Hive Count: 43004, Cassandra Count: 42539, Total Difference: 465\n",
      "Date: 2009-06-19, Hive Count: 43136, Cassandra Count: 42790, Total Difference: 346\n",
      "Date: 2009-06-20, Hive Count: 45364, Cassandra Count: 44946, Total Difference: 418\n",
      "Date: 2009-06-21, Hive Count: 16360, Cassandra Count: 16251, Total Difference: 109\n",
      "Date: 2009-06-22, Hive Count: 12009, Cassandra Count: 11911, Total Difference: 98\n",
      "Date: 2009-06-23, Hive Count: 17002, Cassandra Count: 16878, Total Difference: 124\n",
      "Date: 2009-06-24, Hive Count: 6299, Cassandra Count: 6243, Total Difference: 56\n",
      "Date: 2009-06-25, Hive Count: 19694, Cassandra Count: 19585, Total Difference: 109\n"
     ]
    },
    {
     "name": "stderr",
     "output_type": "stream",
     "text": [
      "\r",
      "                                                                                \r"
     ]
    }
   ],
   "source": [
    "from pyspark.sql.functions import to_date, count\n",
    "from pyspark.sql.window import Window\n",
    "\n",
    "# Group the 'data' by the date without the hour\n",
    "data = data.withColumn(\"date_without_hour\", to_date(data[\"date\"]))\n",
    "data_date_counts = data.groupBy(\"date_without_hour\").agg(count(\"*\").alias(\"data_tweet_count\"))\n",
    "\n",
    "# Group 'cassandraDF' by the date without the hour\n",
    "cassandraDF = cassandraDF.withColumn(\"date_without_hour\", to_date(cassandraDF[\"date\"]))\n",
    "cassandra_date_counts = cassandraDF.groupBy(\"date_without_hour\").agg(count(\"*\").alias(\"cassandra_tweet_count\"))\n",
    "\n",
    "# Sort the data by date without hour\n",
    "data_date_counts = data_date_counts.orderBy(\"date_without_hour\")\n",
    "cassandra_date_counts = cassandra_date_counts.orderBy(\"date_without_hour\")\n",
    "\n",
    "# Collect the data to the driver\n",
    "data_date_counts = data_date_counts.collect()\n",
    "cassandra_date_counts = cassandra_date_counts.collect()\n",
    "\n",
    "# Extract tweet counts and calculate the total difference per day\n",
    "data_tweet_counts = [row.data_tweet_count for row in data_date_counts]\n",
    "cassandra_tweet_counts = [row.cassandra_tweet_count for row in cassandra_date_counts]\n",
    "difference_per_day = [data - cassandra for data, cassandra in zip(data_tweet_counts, cassandra_tweet_counts)]\n",
    "\n",
    "# Print the tweet counts for both datasets and the total difference beside\n",
    "for date, data_count, cassandra_count, diff in zip(data_date_counts, data_tweet_counts, cassandra_tweet_counts, difference_per_day):\n",
    "    print(f\"Date: {date.date_without_hour}, Hive Count: {data_count}, Cassandra Count: {cassandra_count}, Total Difference: {diff}\")"
   ]
  },
  {
   "cell_type": "markdown",
   "id": "86a9b8a9",
   "metadata": {},
   "source": [
    "### Normal Distribution Comparison"
   ]
  },
  {
   "cell_type": "code",
   "execution_count": 47,
   "id": "b3056c0b",
   "metadata": {},
   "outputs": [
    {
     "name": "stdout",
     "output_type": "stream",
     "text": [
      "Shapiro-Wilk Test Results:\n",
      "Data dataset: p-value = 7.3197452366002835e-06, Not Normally Distributed\n",
      "CassandraDF dataset: p-value = 0.0011485544964671135, Not Normally Distributed\n"
     ]
    },
    {
     "data": {
      "image/png": "[encoded data removed]",
      "text/plain": [
       "<Figure size 720x432 with 1 Axes>"
      ]
     },
     "metadata": {
      "needs_background": "light"
     },
     "output_type": "display_data"
    }
   ],
   "source": [
    "import seaborn as sns\n",
    "from scipy.stats import shapiro\n",
    "import matplotlib.pyplot as plt\n",
    "\n",
    "# Extract the tweet counts for both datasets\n",
    "data_tweet_counts = [row.tweet_count for row in date_counts]\n",
    "cassandraDF_tweet_counts = [row.tweet_count for row in cassandraDF_counts]\n",
    "\n",
    "# Create a KDE plot to compare the distributions\n",
    "plt.figure(figsize=(10, 6))\n",
    "sns.kdeplot(data_tweet_counts, label='Data', color='blue', shade=True)\n",
    "sns.kdeplot(cassandraDF_tweet_counts, label='CassandraDF', color='red', shade=True)\n",
    "plt.title(\"Tweet Count Distribution Comparison\")\n",
    "plt.xlabel(\"Tweet Count\")\n",
    "plt.ylabel(\"Density\")\n",
    "plt.legend()\n",
    "plt.grid(True)\n",
    "\n",
    "# Perform the Shapiro-Wilk test to check for normal distribution\n",
    "data_sw_stat, data_sw_p_value = shapiro(data_tweet_counts)\n",
    "cassandraDF_sw_stat, cassandraDF_sw_p_value = shapiro(cassandraDF_tweet_counts)\n",
    "\n",
    "# Print the results of the Shapiro-Wilk test\n",
    "print(\"Shapiro-Wilk Test Results:\")\n",
    "print(f\"Data dataset: p-value = {data_sw_p_value}, {'Normally Distributed' if data_sw_p_value > 0.05 else 'Not Normally Distributed'}\")\n",
    "print(f\"CassandraDF dataset: p-value = {cassandraDF_sw_p_value}, {'Normally Distributed' if cassandraDF_sw_p_value > 0.05 else 'Not Normally Distributed'}\")\n",
    "\n",
    "# Show the plot\n",
    "plt.show()"
   ]
  },
  {
   "cell_type": "markdown",
   "id": "ea0434e5",
   "metadata": {},
   "source": [
    "#### Note: A Comparison of Datasets between Hive and Cassandra.\n",
    "\n",
    "- While these NoSQL datasets were generated from the original data provided as a study tool, a noticeable difference can be observed in the total number of rows between them:\n",
    "    - Hive Database Row Count: 1599999\n",
    "    - Cassandra Database Row Count: 1036130\n",
    "    - Total Difference: 563869.\n",
    "- The Hive database was created through HDFS, and was built using the original file, employing Spark commands in the Jupyter notebook. \n",
    "- In contrast, the Cassandra database was created within the Cassandra prompt using commands related to tables, keyspaces, and the COPY FROM function, where the original file was utilized."
   ]
  },
  {
   "cell_type": "code",
   "execution_count": 48,
   "id": "2fc9178e",
   "metadata": {},
   "outputs": [
    {
     "name": "stderr",
     "output_type": "stream",
     "text": [
      "2023-11-08 12:44:11,358 WARN window.WindowExec: No Partition Defined for Window operation! Moving all data to a single partition, this can cause serious performance degradation.\n",
      "2023-11-08 12:44:11,372 WARN window.WindowExec: No Partition Defined for Window operation! Moving all data to a single partition, this can cause serious performance degradation.\n",
      "2023-11-08 12:44:38,034 WARN window.WindowExec: No Partition Defined for Window operation! Moving all data to a single partition, this can cause serious performance degradation.\n",
      "2023-11-08 12:44:42,878 WARN window.WindowExec: No Partition Defined for Window operation! Moving all data to a single partition, this can cause serious performance degradation.\n",
      "[Stage 198:>                                                        (0 + 1) / 1]\r"
     ]
    },
    {
     "name": "stdout",
     "output_type": "stream",
     "text": [
      "+----------+--------------------+--------------------+-----------------+----------+-------------+--------+\n",
      "|      date|               tweet|               label|date_without_hour| next_date|is_continuous|group_id|\n",
      "+----------+--------------------+--------------------+-----------------+----------+-------------+--------+\n",
      "|2009-04-06|is upset that he ...|is upset that he ...|       2009-04-06|2009-04-07|         true|    3359|\n",
      "|2009-04-06|@Kenichan I dived...|@Kenichan I dived...|       2009-04-06|2009-04-07|         true|    3359|\n",
      "|2009-04-06|my whole body fee...|my whole body fee...|       2009-04-06|2009-04-07|         true|    3359|\n",
      "|2009-04-06|@nationwideclass ...|@nationwideclass ...|       2009-04-06|2009-04-07|         true|    3359|\n",
      "|2009-04-06|@Kwesidei not the...|@Kwesidei not the...|       2009-04-06|2009-04-07|         true|    3359|\n",
      "+----------+--------------------+--------------------+-----------------+----------+-------------+--------+\n",
      "only showing top 5 rows\n",
      "\n"
     ]
    },
    {
     "name": "stderr",
     "output_type": "stream",
     "text": [
      "\r",
      "                                                                                \r"
     ]
    }
   ],
   "source": [
    "# Check the DataFrame\n",
    "data.show(5)"
   ]
  },
  {
   "cell_type": "code",
   "execution_count": 49,
   "id": "c956874c",
   "metadata": {},
   "outputs": [
    {
     "name": "stderr",
     "output_type": "stream",
     "text": [
      "                                                                                \r"
     ]
    },
    {
     "name": "stdout",
     "output_type": "stream",
     "text": [
      "+----------+--------------------+\n",
      "|      date|               tweet|\n",
      "+----------+--------------------+\n",
      "|2009-04-06|\"is upset that he...|\n",
      "|2009-04-06|\"@Kenichan I dive...|\n",
      "|2009-04-06|\"my whole body fe...|\n",
      "|2009-04-06|\"@nationwideclass...|\n",
      "|2009-04-06|\"@Kwesidei not th...|\n",
      "|2009-04-06|       \"Need a hug \"|\n",
      "|2009-04-06|\"@LOLTrish hey  l...|\n",
      "|2009-04-06|\"@Tatiana_K nope ...|\n",
      "|2009-04-06|\"@twittera que me...|\n",
      "|2009-04-06|\"spring break in ...|\n",
      "|2009-04-06|\"I just re-pierce...|\n",
      "|2009-04-06|\"@caregiving I co...|\n",
      "|2009-04-06|\"@octolinz16 It i...|\n",
      "|2009-04-06|\"@smarrison i wou...|\n",
      "|2009-04-06|\"@iamjazzyfizzle ...|\n",
      "|2009-04-06|\"Hollis' death sc...|\n",
      "|2009-04-06|\"about to file ta...|\n",
      "|2009-04-06|\"@LettyA ahh ive ...|\n",
      "|2009-04-06|\"@FakerPattyPattz...|\n",
      "|2009-04-06|\"@alydesigns i wa...|\n",
      "+----------+--------------------+\n",
      "only showing top 20 rows\n",
      "\n"
     ]
    },
    {
     "name": "stderr",
     "output_type": "stream",
     "text": [
      "                                                                                \r"
     ]
    }
   ],
   "source": [
    "from pyspark.sql.functions import concat, lit\n",
    "\n",
    "# Initialize a Spark session\n",
    "spark = SparkSession.builder.appName(\"TweetPreprocessing\").getOrCreate()\n",
    "\n",
    "# Recall the HIVE DataFame \n",
    "# First, create a new column 'tweet' with the same data as 'label'\n",
    "data = data.withColumn(\"tweet\", data[\"label\"])\n",
    "\n",
    "# Drop the specified columns\n",
    "columns_to_drop = [\"date_without_hour\", \"next_date\", \"is_continuous\", \"group_id\"]\n",
    "data = data.drop(*columns_to_drop)\n",
    "\n",
    "# Now, remove the 'label' column and put the text in quotation marks\n",
    "data = data.drop(\"label\")\n",
    "data = data.withColumn(\"tweet\", concat(lit('\"'), data[\"tweet\"], lit('\"')))\n",
    "\n",
    "# Show the data\n",
    "data.show()\n",
    "\n",
    "# Save the DataFrame as TweetPreProcessing in a suitable format like Parquet\n",
    "data.write.mode(\"overwrite\").save(\"TweetPreProcessing\", format=\"parquet\")\n",
    "\n",
    "# Stop the Spark session\n",
    "spark.stop()"
   ]
  },
  {
   "cell_type": "markdown",
   "id": "6faced32",
   "metadata": {},
   "source": [
    "### Storing the resulting HIVE DataFrame to HBase database"
   ]
  },
  {
   "cell_type": "code",
   "execution_count": 53,
   "id": "7cd508c2",
   "metadata": {},
   "outputs": [
    {
     "ename": "IndentationError",
     "evalue": "unexpected indent (277125381.py, line 24)",
     "output_type": "error",
     "traceback": [
      "\u001b[0;36m  File \u001b[0;32m\"/tmp/ipykernel_7685/277125381.py\"\u001b[0;36m, line \u001b[0;32m24\u001b[0m\n\u001b[0;31m    .option(\"hbase.columns.mapping\", \"CF:tweet,CF:date\")  # Define column mapping\u001b[0m\n\u001b[0m    ^\u001b[0m\n\u001b[0;31mIndentationError\u001b[0m\u001b[0;31m:\u001b[0m unexpected indent\n"
     ]
    }
   ],
   "source": [
    "# Store resulting preprocessing Hive dataset to HBase database\n",
    "def save():\n",
    "    # Create a Spark session\n",
    "    spark = SparkSession.builder \\\n",
    "        .appName('HBaseIntegration') \\\n",
    "        .getOrCreate()\n",
    "\n",
    "    # Load data from Hive into a DataFrame\n",
    "    data = spark.table(\"ca2_projecttweets\")\n",
    "\n",
    "    # Define HBase configuration\n",
    "    hbase_host = \"localhost\"\n",
    "    hbase_port = \"2181\"  # Default ZooKeeper client port\n",
    "    hbaseConfig = {\n",
    "        \"hbase.zookeeper.quorum\": f\"{hbase_host}:{hbase_port}\",\n",
    "        \"hbase.mapreduce.inputtable\": \"Resulting_TweetDF\"  # Choose a table name\n",
    "    }\n",
    "\n",
    "    # Save the Hive dataset to HBase\n",
    "    data.write \\\n",
    "        .options(**hbaseConfig) \\\n",
    "        .format(\"org.apache.hadoop.hbase.spark\") \\\n",
    "        .option(\"ResultingData\", \"ProjectTweets\")  # Specify the HBase table name\n",
    "        .option(\"hbase.columns.mapping\", \"CF:tweet,CF:date\")  # Define column mapping\n",
    "\n",
    "    data.write.save()  # Save the data to HBase\n",
    "\n",
    "    # Stop the Spark session when done\n",
    "    spark.stop()\n",
    "\n",
    "# Call the save() function to execute the code\n",
    "save()"
   ]
  },
  {
   "cell_type": "markdown",
   "id": "7cd16c21",
   "metadata": {},
   "source": [
    "### Storing the resulting HIVE DataFrame to Cassandra database"
   ]
  },
  {
   "cell_type": "code",
   "execution_count": 56,
   "id": "d82c5523",
   "metadata": {},
   "outputs": [
    {
     "ename": "IndentationError",
     "evalue": "unexpected indent (265384168.py, line 9)",
     "output_type": "error",
     "traceback": [
      "\u001b[0;36m  File \u001b[0;32m\"/tmp/ipykernel_7685/265384168.py\"\u001b[0;36m, line \u001b[0;32m9\u001b[0m\n\u001b[0;31m    .getOrCreate()\u001b[0m\n\u001b[0m    ^\u001b[0m\n\u001b[0;31mIndentationError\u001b[0m\u001b[0;31m:\u001b[0m unexpected indent\n"
     ]
    }
   ],
   "source": [
    "from pyspark.sql import SparkSession\n",
    "\n",
    "# Create a Spark session\n",
    "spark = SparkSession.builder \\\n",
    "    .appName('HiveToCassandra') \\\n",
    "    .config(\"spark.cassandra.connection.host\", \"127.0.0.1\") \\\n",
    "    .config(\"spark.cassandra.output.consistency.level\", \"ONE\") \\\n",
    "    .enableHiveSupport()  # Enable Hive support\n",
    "    .getOrCreate()\n",
    "\n",
    "# Load data from Hive\n",
    "data = spark.sql(\"SELECT tweet, date FROM ca2_projecttweets\")\n",
    "\n",
    "# Save 'data' to Cassandra\n",
    "data.write \\\n",
    "    .format(\"org.apache.spark.sql.cassandra\") \\\n",
    "    .options(keyspace=\"ca2_sem2\", table=\"Resulting_TweetDF\") \\\n",
    "    .mode(\"append\")  # New data is added to the existing table or dataset. If the table or dataset does not exist, it will be created.\n",
    "    .save()"
   ]
  },
  {
   "cell_type": "code",
   "execution_count": null,
   "id": "ff36af78",
   "metadata": {},
   "outputs": [],
   "source": [
    "# compare the two 2 databases (hbase and cassandra) using ycsb \n",
    "# and call (read)sentiment analysis from one of the databases."
   ]
  },
  {
   "cell_type": "markdown",
   "id": "31b60871",
   "metadata": {},
   "source": [
    "### Sentiment Analysis on ProjectTweets"
   ]
  },
  {
   "cell_type": "code",
   "execution_count": null,
   "id": "4a739d64",
   "metadata": {},
   "outputs": [],
   "source": [
    "# !pip install pandas langdetect"
   ]
  },
  {
   "cell_type": "code",
   "execution_count": null,
   "id": "d3813f2f",
   "metadata": {},
   "outputs": [],
   "source": [
    "# Import the necessary libraries\n",
    "from pyspark.sql import SparkSession\n",
    "import pandas as pd\n",
    "from langdetect import detect\n",
    "\n",
    "# Initialize a Spark session\n",
    "spark = SparkSession.builder.appName(\"SentimentAnalysis\").getOrCreate()\n",
    "\n",
    "# Load dataset into a Spark DataFrame\n",
    "spark_df = spark.read.csv(\"hdfs://localhost:9000/user/hduser/CA2/ProjectTweets.csv\", header=True, inferSchema=True)\n",
    "\n",
    "# Check if the data was loaded successfully\n",
    "if spark_df is not None:\n",
    "    # Define column names\n",
    "    new_column_names = [\"number\", \"id_tweet\", \"date\", \"query\", \"user_id\", \"tweet\"]\n",
    "\n",
    "    # Rename the columns using the alias method\n",
    "    for i in range(len(new_column_names)):\n",
    "        spark_df = spark_df.withColumnRenamed(spark_df.columns[i], new_column_names[i])\n",
    "\n",
    "# Convert the Spark DataFrame to a Pandas DataFrame\n",
    "pandas_df = spark_df.toPandas()\n",
    "\n",
    "# Display the first 5 rows of the Pandas DataFrame\n",
    "pandas_df.head(5)"
   ]
  },
  {
   "cell_type": "code",
   "execution_count": null,
   "id": "3188a6b5",
   "metadata": {},
   "outputs": [],
   "source": [
    "# Check the shape of the Pandas DataFrame\n",
    "pandas_df.shape"
   ]
  },
  {
   "cell_type": "code",
   "execution_count": null,
   "id": "619ad90f",
   "metadata": {},
   "outputs": [],
   "source": [
    "import re\n",
    "\n",
    "# Remove duplicates (if necessary)\n",
    "pandas_df.drop_duplicates(inplace=True)\n",
    "\n",
    "# Preprocess text data\n",
    "# Lowercase the text\n",
    "pandas_df['cleaned_tweet'] = pandas_df['tweet'].str.lower()\n",
    "\n",
    "# Remove special characters and perform tokenization \n",
    "pandas_df['cleaned_tweet'] = pandas_df['cleaned_tweet'].apply(lambda text: re.sub(r'[^a-zA-Z0-9\\s]', '', text))\n",
    "pandas_df['tokenized_tweet'] = pandas_df['cleaned_tweet'].str.split()\n",
    "\n",
    "# Display the first few rows of the cleaned and tokenized data\n",
    "print(pandas_df[['tweet', 'tokenized_tweet']].head(5))"
   ]
  },
  {
   "cell_type": "markdown",
   "id": "7964b3f4",
   "metadata": {},
   "source": [
    "# Define a function to check if the tokenized text is in English\n",
    "def is_english(tokens):\n",
    "    try:\n",
    "        for token in tokens:\n",
    "            language = detect(token)\n",
    "            if language != 'en':\n",
    "                return False\n",
    "        return True\n",
    "    except:\n",
    "        return False\n",
    "\n",
    "# Calculate the number of rows in English and not in English\n",
    "english_count = 0\n",
    "non_english_count = 0\n",
    "\n",
    "for _, row in pandas_df.iterrows():\n",
    "    tokens = row['tokenized_tweet']\n",
    "    if is_english(tokens):\n",
    "        english_count += 1\n",
    "    else:\n",
    "        non_english_count += 1\n",
    "\n",
    "# Print the results\n",
    "print(f\"Number of rows in English: {english_count}\")\n",
    "print(f\"Number of rows not in English: {non_english_count}\")"
   ]
  },
  {
   "cell_type": "markdown",
   "id": "768b379b",
   "metadata": {},
   "source": [
    "# Define a function to check if the tokenized text is in English\n",
    "def is_english(tokens):\n",
    "    try:\n",
    "        for token in tokens:\n",
    "            language = detect(token)\n",
    "            if language != 'en':\n",
    "                return False\n",
    "        return True\n",
    "    except:\n",
    "        return False\n",
    "\n",
    "# Apply the language detection function to the \"tokenized_text\" column and create a new column \"is_english\"\n",
    "pandas_df['is_english'] = pandas_df['tokenized_tweet'].apply(is_english)\n",
    "\n",
    "# Calculate the number of rows in English and not in English\n",
    "english_counts = pandas_df['is_english'].value_counts()\n",
    "num_english_rows = english_counts.get(True, 0)\n",
    "num_non_english_rows = english_counts.get(False, 0)\n",
    "\n",
    "# Print the results\n",
    "print(f\"Number of rows in English: {num_english_rows}\")\n",
    "print(f\"Number of rows not in English: {num_non_english_rows}\")"
   ]
  },
  {
   "cell_type": "markdown",
   "id": "88011fac",
   "metadata": {},
   "source": [
    "### References:\n",
    "\n",
    "• https://github.com/apache/hive\n",
    "\n",
    "• https://cassandra.apache.org/doc/latest/cassandra/cql/ddl.html\n",
    "\n",
    "• Cassandra: The Definitive Guide, (Revised) Third Edition, 3rd Edition, Jeff Carpenter, Eben Hewitt,\n",
    "O'Reilly Media, Inc., January 2022."
   ]
  },
  {
   "cell_type": "code",
   "execution_count": null,
   "id": "779c2a55",
   "metadata": {},
   "outputs": [],
   "source": []
  }
 ],
 "metadata": {
  "kernelspec": {
   "display_name": "Python 3 (ipykernel)",
   "language": "python",
   "name": "python3"
  },
  "language_info": {
   "codemirror_mode": {
    "name": "ipython",
    "version": 3
   },
   "file_extension": ".py",
   "mimetype": "text/x-python",
   "name": "python",
   "nbconvert_exporter": "python",
   "pygments_lexer": "ipython3",
   "version": "3.10.12"
  }
 },
 "nbformat": 4,
 "nbformat_minor": 5
}
