{
 "cells": [
  {
   "cell_type": "markdown",
   "id": "5efbb14c",
   "metadata": {},
   "source": [
    "### Clelia Caetano 2023060 (CA2_SEM2)\n",
    "### MSc. in Data Analytics\n",
    "### Project Tweets\n",
    "\n",
    "- The objective of this study is to utilize a large dataset that will be stored in two NoSQL databases. The data will be processed in a Spark environment and Spark SQL language will be used. After eliminating unnecessary data, a comparative performance analysis of the databases will be conducted. \n",
    "- Additionally, a sentiment analysis will be performed on the texts extracted from Twitter. Lastly, a time series analysis will be carried out to identify any potential trends or patterns. In addition, projects a forecasts with 1 week, 1 month and 3 months."
   ]
  },
  {
   "cell_type": "code",
   "execution_count": 1,
   "id": "1eb91c6d",
   "metadata": {},
   "outputs": [
    {
     "data": {
      "text/plain": [
       "'local[*]'"
      ]
     },
     "execution_count": 1,
     "metadata": {},
     "output_type": "execute_result"
    }
   ],
   "source": [
    "sc.master"
   ]
  },
  {
   "cell_type": "code",
   "execution_count": 2,
   "id": "4f8b8fc6",
   "metadata": {},
   "outputs": [],
   "source": [
    "import warnings\n",
    "warnings.filterwarnings(\"ignore\")"
   ]
  },
  {
   "cell_type": "code",
   "execution_count": 3,
   "id": "334b3b23",
   "metadata": {},
   "outputs": [],
   "source": [
    "# Load the libraries\n",
    "import os\n",
    "from pyspark.sql import SparkSession"
   ]
  },
  {
   "cell_type": "markdown",
   "id": "8073afae",
   "metadata": {},
   "source": [
    "### Initialize Spark Session"
   ]
  },
  {
   "cell_type": "code",
   "execution_count": 4,
   "id": "3d8bdecf",
   "metadata": {},
   "outputs": [],
   "source": [
    "# Create a Spark session with necessary configurations\n",
    "spark = SparkSession.builder.appName('ProjectTweets') \\\n",
    "                    .config(\"spark.some_config_option\", \"config_value\") \\\n",
    "                    .getOrCreate()"
   ]
  },
  {
   "cell_type": "markdown",
   "id": "6d37eab8",
   "metadata": {},
   "source": [
    "### Read the Data from HDFS"
   ]
  },
  {
   "cell_type": "code",
   "execution_count": 5,
   "id": "739e385b",
   "metadata": {},
   "outputs": [
    {
     "name": "stderr",
     "output_type": "stream",
     "text": [
      "                                                                                \r"
     ]
    },
    {
     "name": "stdout",
     "output_type": "stream",
     "text": [
      "+------+----------+--------------------+--------+-------------+--------------------+\n",
      "|number|  id_tweet|                date|   query|      user_id|               tweet|\n",
      "+------+----------+--------------------+--------+-------------+--------------------+\n",
      "|     1|1467810672|Mon Apr 06 22:19:...|NO_QUERY|scotthamilton|is upset that he ...|\n",
      "|     2|1467810917|Mon Apr 06 22:19:...|NO_QUERY|     mattycus|@Kenichan I dived...|\n",
      "|     3|1467811184|Mon Apr 06 22:19:...|NO_QUERY|      ElleCTF|my whole body fee...|\n",
      "|     4|1467811193|Mon Apr 06 22:19:...|NO_QUERY|       Karoli|@nationwideclass ...|\n",
      "|     5|1467811372|Mon Apr 06 22:20:...|NO_QUERY|     joy_wolf|@Kwesidei not the...|\n",
      "+------+----------+--------------------+--------+-------------+--------------------+\n",
      "only showing top 5 rows\n",
      "\n"
     ]
    }
   ],
   "source": [
    "# Load the data and create a temporary view in Spark\n",
    "try:\n",
    "    # Read the data.csv into Hadoop from HDFS (Hadoop Distributed File System) storage\n",
    "    data = spark.read.option(\"header\", \"true\").csv(\"hdfs://localhost:9000/user/hduser/CA2/ProjectTweets.csv\")\n",
    "    \n",
    "    # Check if the data was loaded successfully\n",
    "    if data is not None:\n",
    "        # Define column names\n",
    "        new_column_names = [\"number\", \"id_tweet\", \"date\", \"query\", \"user_id\", \"tweet\"]\n",
    "\n",
    "        # Use the alias method to rename the columns\n",
    "        for i in range(len(new_column_names)):\n",
    "            data = data.withColumnRenamed(data.columns[i], new_column_names[i])\n",
    "\n",
    "        # Create a temporary table from the DataFrame\n",
    "        data.createOrReplaceTempView(\"CA2_ProjectTweets\")\n",
    "\n",
    "        # Run Spark SQL queries using the same SparkSession\n",
    "        data = spark.sql(\"SELECT * FROM CA2_ProjectTweets\") \n",
    "\n",
    "        # Display the first 5 rows\n",
    "        data.show(5)\n",
    "    else:\n",
    "        print(\"Data not loaded successfully.\")\n",
    "\n",
    "except Exception as e:\n",
    "    print(\"An error occurred:\", str(e))"
   ]
  },
  {
   "cell_type": "markdown",
   "id": "9d33efac",
   "metadata": {},
   "source": [
    "### Create a Hive database in Spark application"
   ]
  },
  {
   "cell_type": "code",
   "execution_count": 6,
   "id": "d657d50f",
   "metadata": {
    "scrolled": true
   },
   "outputs": [
    {
     "name": "stderr",
     "output_type": "stream",
     "text": [
      "2023-11-17 16:20:48,165 WARN conf.HiveConf: HiveConf of name hive.stats.jdbc.timeout does not exist\n",
      "2023-11-17 16:20:48,168 WARN conf.HiveConf: HiveConf of name hive.stats.retries.wait does not exist\n",
      "2023-11-17 16:20:52,651 WARN metastore.ObjectStore: Version information not found in metastore. hive.metastore.schema.verification is not enabled so recording the schema version 2.3.0\n",
      "2023-11-17 16:20:52,652 WARN metastore.ObjectStore: setMetaStoreSchemaVersion called but recording version is disabled: version = 2.3.0, comment = Set by MetaStore hduser@127.0.1.1\n",
      "2023-11-17 16:20:54,076 WARN metastore.ObjectStore: Failed to get database global_temp, returning NoSuchObjectException\n",
      "2023-11-17 16:21:08,089 WARN session.SessionState: METASTORE_FILTER_HOOK will be ignored, since hive.security.authorization.manager is set to instance of HiveAuthorizerFactory.\n",
      "2023-11-17 16:21:08,241 WARN conf.HiveConf: HiveConf of name hive.internal.ss.authz.settings.applied.marker does not exist\n",
      "2023-11-17 16:21:08,243 WARN conf.HiveConf: HiveConf of name hive.stats.jdbc.timeout does not exist\n",
      "2023-11-17 16:21:08,243 WARN conf.HiveConf: HiveConf of name hive.stats.retries.wait does not exist\n"
     ]
    }
   ],
   "source": [
    "# Save the DataFrame as a Hive table\n",
    "data.write.mode(\"overwrite\").saveAsTable(\"ca2_projecttweets\")"
   ]
  },
  {
   "cell_type": "code",
   "execution_count": 7,
   "id": "bea0892c",
   "metadata": {},
   "outputs": [],
   "source": [
    "import time\n",
    "from pyspark.sql import SparkSession\n",
    "\n",
    "# Create a Spark session with Hive configurations\n",
    "spark = SparkSession.builder \\\n",
    "    .appName(\"HiveAnalysis\") \\\n",
    "    .config(\"spark.sql.adaptive.enabled\", \"true\") \\\n",
    "    .config(\"spark.hadoop.hive.execution.engine\", \"tez\") \\\n",
    "    .config(\"spark.hadoop.hive.stats.autogather\", \"true\") \\\n",
    "    .config(\"spark.hadoop.hive.optimize.ppd\", \"true\") \\\n",
    "    .getOrCreate()\n",
    "\n",
    "# Start measuring time\n",
    "start_time = time.time()"
   ]
  },
  {
   "cell_type": "code",
   "execution_count": 8,
   "id": "697d6d85",
   "metadata": {},
   "outputs": [
    {
     "data": {
      "text/plain": [
       "DataFrame[]"
      ]
     },
     "execution_count": 8,
     "metadata": {},
     "output_type": "execute_result"
    }
   ],
   "source": [
    "# Set the current database\n",
    "spark.sql(\"USE ca2_projecttweets\")"
   ]
  },
  {
   "cell_type": "code",
   "execution_count": 9,
   "id": "60af3923",
   "metadata": {},
   "outputs": [
    {
     "name": "stdout",
     "output_type": "stream",
     "text": [
      "+------+----------+--------------------+--------+-------------+--------------------+\n",
      "|number|  id_tweet|                date|   query|      user_id|               tweet|\n",
      "+------+----------+--------------------+--------+-------------+--------------------+\n",
      "|     1|1467810672|Mon Apr 06 22:19:...|NO_QUERY|scotthamilton|is upset that he ...|\n",
      "|     2|1467810917|Mon Apr 06 22:19:...|NO_QUERY|     mattycus|@Kenichan I dived...|\n",
      "|     3|1467811184|Mon Apr 06 22:19:...|NO_QUERY|      ElleCTF|my whole body fee...|\n",
      "|     4|1467811193|Mon Apr 06 22:19:...|NO_QUERY|       Karoli|@nationwideclass ...|\n",
      "|     5|1467811372|Mon Apr 06 22:20:...|NO_QUERY|     joy_wolf|@Kwesidei not the...|\n",
      "+------+----------+--------------------+--------+-------------+--------------------+\n",
      "only showing top 5 rows\n",
      "\n"
     ]
    }
   ],
   "source": [
    "# Run a SQL query to select all rows from the table\n",
    "result = spark.sql(\"SELECT `number`, `id_tweet`, `date`, `query`, `user_id`, `tweet` FROM ca2_projecttweets\")\n",
    "\n",
    "# Show the first 5 rows\n",
    "result.show(5)"
   ]
  },
  {
   "cell_type": "code",
   "execution_count": 10,
   "id": "3f3ea44d",
   "metadata": {},
   "outputs": [
    {
     "name": "stderr",
     "output_type": "stream",
     "text": [
      "                                                                                \r"
     ]
    }
   ],
   "source": [
    "# Save the preprocessed data as a new table if needed\n",
    "result.write.mode(\"overwrite\").saveAsTable(\"preprocessed_ca2_projecttweets\")"
   ]
  },
  {
   "cell_type": "code",
   "execution_count": 11,
   "id": "811dcc55",
   "metadata": {},
   "outputs": [
    {
     "name": "stdout",
     "output_type": "stream",
     "text": [
      "root\n",
      " |-- number: string (nullable = true)\n",
      " |-- id_tweet: string (nullable = true)\n",
      " |-- date: string (nullable = true)\n",
      " |-- query: string (nullable = true)\n",
      " |-- user_id: string (nullable = true)\n",
      " |-- tweet: string (nullable = true)\n",
      "\n"
     ]
    }
   ],
   "source": [
    "# Access the Hive table and create a DataFrame\n",
    "data = spark.table(\"preprocessed_ca2_projecttweets\")\n",
    "\n",
    "# Print the schema\n",
    "data.printSchema()"
   ]
  },
  {
   "cell_type": "code",
   "execution_count": 12,
   "id": "df25ce67",
   "metadata": {},
   "outputs": [
    {
     "name": "stdout",
     "output_type": "stream",
     "text": [
      "The size of the dataset is: 1599999 rows\n"
     ]
    }
   ],
   "source": [
    "# Check the size of the data\n",
    "data_size = data.count()\n",
    "print(f\"The size of the dataset is: {data_size} rows\")"
   ]
  },
  {
   "cell_type": "markdown",
   "id": "bb792364",
   "metadata": {},
   "source": [
    "### Exploratory data analysis (EDA)"
   ]
  },
  {
   "cell_type": "code",
   "execution_count": 13,
   "id": "03f29f88",
   "metadata": {},
   "outputs": [
    {
     "name": "stderr",
     "output_type": "stream",
     "text": [
      "[Stage 40:>                                                         (0 + 2) / 2]\r"
     ]
    },
    {
     "name": "stdout",
     "output_type": "stream",
     "text": [
      "Overall unique value counts:\n",
      "number: 1599999\n",
      "id_tweet: 1598314\n",
      "date: 774362\n",
      "query: 1\n",
      "user_id: 659775\n",
      "tweet: 1581465\n"
     ]
    },
    {
     "name": "stderr",
     "output_type": "stream",
     "text": [
      "\r",
      "                                                                                \r"
     ]
    }
   ],
   "source": [
    "# Calculate the number of unique values in each column.\n",
    "# List of column names\n",
    "column_names = [\"number\", \"id_tweet\", \"date\", \"query\", \"user_id\", \"tweet\"]\n",
    "\n",
    "# Dictionary to store unique value counts\n",
    "unique_counts = {}\n",
    "\n",
    "# Iterate through the columns and count unique values\n",
    "for column_name in column_names:\n",
    "    unique_values = data.select(column_name).distinct()\n",
    "    unique_count = unique_values.count()\n",
    "    unique_counts[column_name] = unique_count\n",
    "\n",
    "# Print the overall count for each column\n",
    "print(\"Overall unique value counts:\")\n",
    "for column, count in unique_counts.items():\n",
    "    print(f\"{column}: {count}\")"
   ]
  },
  {
   "cell_type": "code",
   "execution_count": 14,
   "id": "eec1a022",
   "metadata": {},
   "outputs": [
    {
     "name": "stdout",
     "output_type": "stream",
     "text": [
      "+--------------------+--------------------+\n",
      "|                date|               tweet|\n",
      "+--------------------+--------------------+\n",
      "|Mon Apr 06 22:19:...|is upset that he ...|\n",
      "|Mon Apr 06 22:19:...|@Kenichan I dived...|\n",
      "|Mon Apr 06 22:19:...|my whole body fee...|\n",
      "|Mon Apr 06 22:19:...|@nationwideclass ...|\n",
      "|Mon Apr 06 22:20:...|@Kwesidei not the...|\n",
      "+--------------------+--------------------+\n",
      "only showing top 5 rows\n",
      "\n"
     ]
    }
   ],
   "source": [
    "# Drop columns that are duplicates and other irrelevant data information\n",
    "data = data.drop('number', 'id_tweet', 'query', 'user_id')\n",
    "\n",
    "# Show the updated DataFrame\n",
    "data.show(5)"
   ]
  },
  {
   "cell_type": "markdown",
   "id": "be0c7954",
   "metadata": {},
   "source": [
    "### Missing Values"
   ]
  },
  {
   "cell_type": "code",
   "execution_count": 15,
   "id": "61b25cd3",
   "metadata": {},
   "outputs": [
    {
     "name": "stdout",
     "output_type": "stream",
     "text": [
      "Missing values in 'date': 0\n",
      "Missing values in 'tweet': 0\n"
     ]
    }
   ],
   "source": [
    "# Iterate through all columns and print missing value counts\n",
    "for column_name in data.columns:\n",
    "    missing_count = data.filter(data[column_name].isNull()).count()\n",
    "    print(f\"Missing values in '{column_name}': {missing_count}\")"
   ]
  },
  {
   "cell_type": "code",
   "execution_count": 16,
   "id": "c3d7bf51",
   "metadata": {},
   "outputs": [
    {
     "name": "stdout",
     "output_type": "stream",
     "text": [
      "root\n",
      " |-- date: string (nullable = true)\n",
      " |-- tweet: string (nullable = true)\n",
      "\n"
     ]
    }
   ],
   "source": [
    "# Print the schema\n",
    "data.printSchema()"
   ]
  },
  {
   "cell_type": "code",
   "execution_count": 17,
   "id": "62bc20ce",
   "metadata": {},
   "outputs": [],
   "source": [
    "# Call the columns\n",
    "columns = [\"date\", \"tweet\"]\n",
    "\n",
    "# Set 'tweet' column as the index to convert it as label\n",
    "data = data.withColumn(\"label\", data[\"tweet\"])"
   ]
  },
  {
   "cell_type": "markdown",
   "id": "7bbec1a4",
   "metadata": {},
   "source": [
    "### Descriptive Statistics"
   ]
  },
  {
   "cell_type": "code",
   "execution_count": 18,
   "id": "20cf08ac",
   "metadata": {},
   "outputs": [
    {
     "name": "stderr",
     "output_type": "stream",
     "text": [
      "[Stage 51:=============================>                            (1 + 1) / 2]\r"
     ]
    },
    {
     "name": "stdout",
     "output_type": "stream",
     "text": [
      "+-------+--------------------+\n",
      "|summary|                date|\n",
      "+-------+--------------------+\n",
      "|  count|             1599999|\n",
      "|   mean|                null|\n",
      "| stddev|                null|\n",
      "|    min|Fri Apr 17 20:30:...|\n",
      "|    max|Wed May 27 07:27:...|\n",
      "+-------+--------------------+\n",
      "\n"
     ]
    },
    {
     "name": "stderr",
     "output_type": "stream",
     "text": [
      "\r",
      "                                                                                \r"
     ]
    }
   ],
   "source": [
    "# Compute and interpret the mean, median, quartiles, and standard deviation for \"date\" and \"tweet count\"\n",
    "data.describe([\"date\"]).show()"
   ]
  },
  {
   "cell_type": "markdown",
   "id": "760501a6",
   "metadata": {},
   "source": [
    "### Create a configuration to convert string 'date' into timestamp"
   ]
  },
  {
   "cell_type": "code",
   "execution_count": 19,
   "id": "19e78a55",
   "metadata": {},
   "outputs": [
    {
     "name": "stdout",
     "output_type": "stream",
     "text": [
      "+-------------------+\n",
      "|               date|\n",
      "+-------------------+\n",
      "|2009-04-06 22:19:49|\n",
      "|2009-04-06 22:19:53|\n",
      "|2009-04-06 22:19:57|\n",
      "|2009-04-06 22:19:57|\n",
      "|2009-04-06 22:20:00|\n",
      "+-------------------+\n",
      "only showing top 5 rows\n",
      "\n"
     ]
    }
   ],
   "source": [
    "# Config SparkSession from UTC to Pacific Day Time which is the same timezone as the original dataset\n",
    "spark.conf.set(\"spark.sql.legacy.timeParserPolicy\", \"LEGACY\")\n",
    "spark.conf.set(\"spark.sql.session.timeZone\", \"America/Los_Angeles\")\n",
    "\n",
    "# Import libraries to convert\n",
    "from pyspark.sql.functions import from_unixtime, unix_timestamp\n",
    "from pyspark.sql.types import TimestampType\n",
    "\n",
    "# Convert 'date' column in string format to the timestamp\n",
    "data = data.withColumn(\"date\", from_unixtime(unix_timestamp(data[\"date\"], \"E MMM dd HH:mm:ss z yyyy\")).cast(TimestampType()))\n",
    "\n",
    "# Print the 'date' column with the new format\n",
    "data.select(\"date\").show(5)"
   ]
  },
  {
   "cell_type": "markdown",
   "id": "5043321f",
   "metadata": {},
   "source": [
    "### Groupby 'date'"
   ]
  },
  {
   "cell_type": "code",
   "execution_count": 20,
   "id": "b03a7e25",
   "metadata": {},
   "outputs": [
    {
     "name": "stderr",
     "output_type": "stream",
     "text": [
      "                                                                                \r"
     ]
    }
   ],
   "source": [
    "import matplotlib.pyplot as plt\n",
    "from pyspark.sql.functions import to_date, count\n",
    "from pyspark.sql.window import Window\n",
    "\n",
    "# Group the data by the date without the hour\n",
    "data = data.withColumn(\"date_without_hour\", to_date(data[\"date\"]))\n",
    "date_counts = data.groupBy(\"date_without_hour\").agg(count(\"*\").alias(\"tweet_count\"))\n",
    "\n",
    "# Sort the data by date without hour\n",
    "date_counts = date_counts.orderBy(\"date_without_hour\")\n",
    "\n",
    "# Collect the data to the driver\n",
    "date_counts = date_counts.collect()\n",
    "\n",
    "# Extract dates and tweet counts for plotting\n",
    "dates = [str(row.date_without_hour) for row in date_counts]\n",
    "tweet_counts = [row.tweet_count for row in date_counts]"
   ]
  },
  {
   "cell_type": "code",
   "execution_count": 21,
   "id": "0c332e4d",
   "metadata": {},
   "outputs": [
    {
     "data": {
      "image/png": "[encoded data removed]",
      "text/plain": [
       "<Figure size 864x432 with 1 Axes>"
      ]
     },
     "metadata": {
      "needs_background": "light"
     },
     "output_type": "display_data"
    }
   ],
   "source": [
    "# Plot the tweet count\n",
    "plt.figure(figsize=(12, 6))\n",
    "plt.bar(dates, tweet_counts)\n",
    "plt.title(\"Tweet Count Over Time (Aggregated by Date)\")\n",
    "plt.xlabel(\"Date\")\n",
    "plt.ylabel(\"Tweet Count\")\n",
    "plt.xticks(rotation=45)  # Rotate x-axis labels for readability\n",
    "plt.tight_layout()\n",
    "\n",
    "# Show the plot\n",
    "plt.show()"
   ]
  },
  {
   "cell_type": "code",
   "execution_count": 22,
   "id": "5bd61c64",
   "metadata": {},
   "outputs": [
    {
     "name": "stderr",
     "output_type": "stream",
     "text": [
      "                                                                                \r"
     ]
    },
    {
     "name": "stdout",
     "output_type": "stream",
     "text": [
      "First Date: 2009-04-06\n",
      "Last Date: 2009-06-25\n"
     ]
    },
    {
     "name": "stderr",
     "output_type": "stream",
     "text": [
      "[Stage 69:=============================>                            (1 + 1) / 2]\r"
     ]
    },
    {
     "name": "stdout",
     "output_type": "stream",
     "text": [
      "2009-04-08\n",
      "2009-04-09\n",
      "2009-04-10\n",
      "2009-04-11\n",
      "2009-04-12\n",
      "2009-04-13\n",
      "2009-04-14\n",
      "2009-04-15\n",
      "2009-04-16\n",
      "2009-04-22\n",
      "2009-04-23\n",
      "2009-04-24\n",
      "2009-04-25\n",
      "2009-04-26\n",
      "2009-04-27\n",
      "2009-04-28\n",
      "2009-04-29\n",
      "2009-04-30\n",
      "2009-05-05\n",
      "2009-05-06\n",
      "2009-05-07\n",
      "2009-05-08\n",
      "2009-05-12\n",
      "2009-05-15\n",
      "2009-05-19\n",
      "2009-05-20\n",
      "2009-05-24\n",
      "2009-06-08\n",
      "2009-06-09\n",
      "2009-06-10\n",
      "2009-06-11\n",
      "2009-06-12\n",
      "2009-06-13\n",
      "Missing Days Count: 33\n"
     ]
    },
    {
     "name": "stderr",
     "output_type": "stream",
     "text": [
      "\r",
      "                                                                                \r"
     ]
    }
   ],
   "source": [
    "from pyspark.sql.functions import col, date_add, datediff\n",
    "import pyspark.sql.functions as F\n",
    "from datetime import date, timedelta\n",
    "\n",
    "# Extract the date part from the 'date' column\n",
    "data = data.withColumn(\"date\", col(\"date\").cast(\"date\"))\n",
    "\n",
    "# Sort the DataFrame by date\n",
    "data = data.orderBy(\"date\")\n",
    "\n",
    "# Calculate the next date using the lead function\n",
    "data = data.withColumn(\"next_date\", date_add(col(\"date\"), 1))\n",
    "\n",
    "# Check if the next date is continuous (no break)\n",
    "data = data.withColumn(\"is_continuous\", datediff(col(\"next_date\"), col(\"date\")) == 1)\n",
    "\n",
    "# Create a window specification to order by date\n",
    "window_spec = Window.orderBy(\"date\")\n",
    "\n",
    "# Assign a group identifier to continuous sequences\n",
    "data = data.withColumn(\"group_id\", F.sum(col(\"is_continuous\").cast(\"int\")).over(window_spec))\n",
    "\n",
    "# Filter only the rows with continuous sequences\n",
    "continuous_dates = data.filter(col(\"is_continuous\")).select(\"date\").distinct()\n",
    "\n",
    "# Sort the list in ascending order\n",
    "continuous_dates = continuous_dates.orderBy(\"date\")\n",
    "\n",
    "# Get the first and last dates in the DataFrame\n",
    "first_date = continuous_dates.first().date\n",
    "last_date = continuous_dates.orderBy(col(\"date\").desc()).first().date\n",
    "\n",
    "# Print the first and last dates\n",
    "print(\"First Date:\", first_date)\n",
    "print(\"Last Date:\", last_date)\n",
    "\n",
    "# Define the start and end date for the range\n",
    "start_date = first_date\n",
    "end_date = last_date\n",
    "\n",
    "# Generate a list of all dates in the range\n",
    "date_range = [start_date + timedelta(days=x) for x in range((end_date - start_date).days + 1)]\n",
    "\n",
    "# Convert the list of continuous dates to a Python list\n",
    "continuous_dates_list = [row.date for row in continuous_dates.collect()]\n",
    "\n",
    "# Find the dates not in the list\n",
    "missing_dates = [d for d in date_range if d not in continuous_dates_list]\n",
    "\n",
    "# Print the missing dates\n",
    "for missing_date in missing_dates:\n",
    "    print(missing_date)\n",
    "\n",
    "# Count the missing days\n",
    "missing_days_count = len(missing_dates)\n",
    "\n",
    "# Print the missing days count\n",
    "print(\"Missing Days Count:\", missing_days_count)"
   ]
  },
  {
   "cell_type": "markdown",
   "id": "f27613af",
   "metadata": {},
   "source": [
    "### Outliers"
   ]
  },
  {
   "cell_type": "code",
   "execution_count": 23,
   "id": "e5f7a624",
   "metadata": {},
   "outputs": [
    {
     "name": "stderr",
     "output_type": "stream",
     "text": [
      "                                                                                \r"
     ]
    },
    {
     "data": {
      "image/png": "[encoded data removed]",
      "text/plain": [
       "<Figure size 720x432 with 1 Axes>"
      ]
     },
     "metadata": {
      "needs_background": "light"
     },
     "output_type": "display_data"
    }
   ],
   "source": [
    "import matplotlib.pyplot as plt\n",
    "from pyspark.sql.functions import to_date, count\n",
    "from pyspark.sql.window import Window\n",
    "\n",
    "# Group the data by the date without the hour\n",
    "data = data.withColumn(\"date_without_hour\", to_date(data[\"date\"]))\n",
    "date_counts = data.groupBy(\"date_without_hour\").agg(count(\"*\").alias(\"tweet_count\"))\n",
    "\n",
    "# Sort the data by date without hour\n",
    "date_counts = date_counts.orderBy(\"date_without_hour\")\n",
    "\n",
    "# Collect the data to the driver\n",
    "date_counts = date_counts.collect()\n",
    "\n",
    "# Extract tweet counts for plotting\n",
    "tweet_counts = [row.tweet_count for row in date_counts]\n",
    "\n",
    "# Create a box plot with outliers marked\n",
    "plt.figure(figsize=(10, 6))\n",
    "plt.boxplot(tweet_counts, vert=False, flierprops=dict(marker='o', markerfacecolor='red', markersize=8))\n",
    "plt.title(\"Box Plot of Tweet Counts by Date\")\n",
    "plt.xlabel(\"Tweet Counts\")\n",
    "plt.grid(True)\n",
    "\n",
    "plt.show()"
   ]
  },
  {
   "cell_type": "code",
   "execution_count": 24,
   "id": "37fa9086",
   "metadata": {},
   "outputs": [
    {
     "name": "stdout",
     "output_type": "stream",
     "text": [
      "Potential Outliers:\n",
      "Date: 2009-05-29, Tweet Count: 73827\n",
      "Date: 2009-05-30, Tweet Count: 103673\n",
      "Date: 2009-05-31, Tweet Count: 94588\n",
      "Date: 2009-06-01, Tweet Count: 110290\n",
      "Date: 2009-06-02, Tweet Count: 64192\n",
      "Date: 2009-06-05, Tweet Count: 58757\n",
      "Date: 2009-06-06, Tweet Count: 111676\n",
      "Date: 2009-06-07, Tweet Count: 96350\n",
      "Date: 2009-06-15, Tweet Count: 109781\n",
      "Date: 2009-06-16, Tweet Count: 67980\n",
      "Date: 2009-06-20, Tweet Count: 45364\n"
     ]
    }
   ],
   "source": [
    "# Display the potential outliers (if any) and print them\n",
    "outliers = []\n",
    "\n",
    "q1 = date_counts[0].tweet_count\n",
    "q3 = date_counts[-1].tweet_count\n",
    "iqr = q3 - q1\n",
    "lower_bound = q1 - 1.5 * iqr\n",
    "upper_bound = q3 + 1.5 * iqr\n",
    "\n",
    "for idx, tweet_count in enumerate(tweet_counts):\n",
    "    if tweet_count < lower_bound or tweet_count > upper_bound:\n",
    "        outliers.append((date_counts[idx].date_without_hour, tweet_count))\n",
    "\n",
    "# Print the potential outliers\n",
    "print(\"Potential Outliers:\")\n",
    "for date, count in outliers:\n",
    "    print(f\"Date: {date}, Tweet Count: {count}\")"
   ]
  },
  {
   "cell_type": "markdown",
   "id": "b5863cd0",
   "metadata": {},
   "source": [
    "### Initialize Spark Session with Cassandra database"
   ]
  },
  {
   "cell_type": "code",
   "execution_count": 25,
   "id": "ea7852ac",
   "metadata": {},
   "outputs": [],
   "source": [
    "# Create a Spark session with necessary configurations\n",
    "spark = SparkSession.builder \\\n",
    "    .appName('CassandraIntegration') \\\n",
    "    .config(\"spark.cassandra.connection.host\", \"127.0.0.1\") \\\n",
    "    .getOrCreate()"
   ]
  },
  {
   "cell_type": "markdown",
   "id": "6d24da40",
   "metadata": {},
   "source": [
    "### Read the Data from Cassandra"
   ]
  },
  {
   "cell_type": "code",
   "execution_count": 26,
   "id": "99c38d86",
   "metadata": {},
   "outputs": [
    {
     "name": "stderr",
     "output_type": "stream",
     "text": [
      "[Stage 86:=============================>                            (1 + 1) / 2]\r"
     ]
    },
    {
     "name": "stdout",
     "output_type": "stream",
     "text": [
      "+------+----------+--------------------+--------+---------------+--------------------+\n",
      "|number|  id_tweet|                date|   query|        user_id|               tweet|\n",
      "+------+----------+--------------------+--------+---------------+--------------------+\n",
      "|865612|1677490053|Sat May 02 02:21:...|NO_QUERY|    arthur01022|'@sarjalis I'm go...|\n",
      "|820293|1553677142|Sat Apr 18 14:54:...|NO_QUERY|       LONGMANX|'@xxandip how man...|\n",
      "| 14810|1553861618|Sat Apr 18 15:24:...|NO_QUERY|        a_paige|'I wish @Kimone_i...|\n",
      "|263293|1986487107|Sun May 31 18:54:...|NO_QUERY|       fredbohm|'Awesome, 2-1 to ...|\n",
      "|937429|1793224306|Thu May 14 01:51:...|NO_QUERY|princesslaurenn|'has eaten some c...|\n",
      "+------+----------+--------------------+--------+---------------+--------------------+\n",
      "only showing top 5 rows\n",
      "\n"
     ]
    },
    {
     "name": "stderr",
     "output_type": "stream",
     "text": [
      "\r",
      "                                                                                \r"
     ]
    }
   ],
   "source": [
    "# Load the data.csv file\n",
    "cassandraDF = spark.read.csv(\"file:///home/hduser/Desktop/CA2_SEM2/activity_from_cassandra.csv\", header=True, inferSchema=True)\n",
    "\n",
    "# Display the first 5 rows\n",
    "cassandraDF.show(5)\n",
    "\n",
    "# Measure execution time\n",
    "start_time = time.time()"
   ]
  },
  {
   "cell_type": "code",
   "execution_count": 27,
   "id": "428d877c",
   "metadata": {},
   "outputs": [
    {
     "name": "stdout",
     "output_type": "stream",
     "text": [
      "root\n",
      " |-- number: integer (nullable = true)\n",
      " |-- id_tweet: long (nullable = true)\n",
      " |-- date: string (nullable = true)\n",
      " |-- query: string (nullable = true)\n",
      " |-- user_id: string (nullable = true)\n",
      " |-- tweet: string (nullable = true)\n",
      "\n"
     ]
    }
   ],
   "source": [
    "# Print the schema\n",
    "cassandraDF.printSchema()"
   ]
  },
  {
   "cell_type": "code",
   "execution_count": 28,
   "id": "e9a5ef5b",
   "metadata": {},
   "outputs": [
    {
     "name": "stdout",
     "output_type": "stream",
     "text": [
      "The size of the dataset is: 1036130 rows\n"
     ]
    },
    {
     "name": "stderr",
     "output_type": "stream",
     "text": [
      "\r",
      "[Stage 88:=============================>                            (1 + 1) / 2]\r",
      "\r",
      "                                                                                \r"
     ]
    }
   ],
   "source": [
    "# Check the size of the data\n",
    "cassandraDF_size = cassandraDF.count()\n",
    "print(f\"The size of the dataset is: {cassandraDF_size} rows\")"
   ]
  },
  {
   "cell_type": "markdown",
   "id": "dcff11d2",
   "metadata": {},
   "source": [
    "### Exploratory data analysis (EDA)"
   ]
  },
  {
   "cell_type": "code",
   "execution_count": 29,
   "id": "17143436",
   "metadata": {
    "scrolled": false
   },
   "outputs": [
    {
     "name": "stderr",
     "output_type": "stream",
     "text": [
      "[Stage 121:============================>                            (1 + 1) / 2]\r"
     ]
    },
    {
     "name": "stdout",
     "output_type": "stream",
     "text": [
      "Overall unique value counts:\n",
      "number: 1036130\n",
      "id_tweet: 1036130\n",
      "date: 657323\n",
      "query: 1\n",
      "user_id: 506785\n",
      "tweet: 1036130\n"
     ]
    },
    {
     "name": "stderr",
     "output_type": "stream",
     "text": [
      "\r",
      "                                                                                \r"
     ]
    }
   ],
   "source": [
    "# Import the necessary modules\n",
    "from pyspark.sql import SparkSession\n",
    "from pyspark.sql.functions import col\n",
    "\n",
    "# Initialize Spark session\n",
    "spark = SparkSession.builder.appName(\"CassandraUniqueValues\").getOrCreate()\n",
    "\n",
    "# List of column names\n",
    "column_names = [\"number\", \"id_tweet\", \"date\", \"query\", \"user_id\", \"tweet\"]\n",
    "\n",
    "# Dictionary to store unique value counts\n",
    "unique_counts = {}\n",
    "\n",
    "# Iterate through the columns and count unique values\n",
    "for column_name in column_names:\n",
    "    unique_values = cassandraDF.select(column_name).distinct()\n",
    "    unique_count = unique_values.count()\n",
    "    unique_counts[column_name] = unique_count\n",
    "\n",
    "# Print the overall count for each column\n",
    "print(\"Overall unique value counts:\")\n",
    "for column, count in unique_counts.items():\n",
    "    print(f\"{column}: {count}\")"
   ]
  },
  {
   "cell_type": "code",
   "execution_count": 30,
   "id": "16bc63d8",
   "metadata": {},
   "outputs": [
    {
     "name": "stdout",
     "output_type": "stream",
     "text": [
      "+--------------------+--------------------+\n",
      "|                date|               tweet|\n",
      "+--------------------+--------------------+\n",
      "|Sat May 02 02:21:...|'@sarjalis I'm go...|\n",
      "|Sat Apr 18 14:54:...|'@xxandip how man...|\n",
      "|Sat Apr 18 15:24:...|'I wish @Kimone_i...|\n",
      "|Sun May 31 18:54:...|'Awesome, 2-1 to ...|\n",
      "|Thu May 14 01:51:...|'has eaten some c...|\n",
      "+--------------------+--------------------+\n",
      "only showing top 5 rows\n",
      "\n"
     ]
    }
   ],
   "source": [
    "# Drop columns that are duplicates and other irrelevant data information\n",
    "cassandraDF = cassandraDF.drop('number', 'id_tweet', 'query', 'user_id')\n",
    "\n",
    "# Show the updated DataFrame\n",
    "cassandraDF.show(5)"
   ]
  },
  {
   "cell_type": "markdown",
   "id": "167eb33d",
   "metadata": {},
   "source": [
    "### Missing Values"
   ]
  },
  {
   "cell_type": "code",
   "execution_count": 31,
   "id": "c29d0980",
   "metadata": {},
   "outputs": [
    {
     "name": "stderr",
     "output_type": "stream",
     "text": [
      "                                                                                \r"
     ]
    },
    {
     "name": "stdout",
     "output_type": "stream",
     "text": [
      "Missing values in 'date': 0\n"
     ]
    },
    {
     "name": "stderr",
     "output_type": "stream",
     "text": [
      "\r",
      "[Stage 131:>                                                        (0 + 2) / 2]\r"
     ]
    },
    {
     "name": "stdout",
     "output_type": "stream",
     "text": [
      "Missing values in 'tweet': 0\n"
     ]
    },
    {
     "name": "stderr",
     "output_type": "stream",
     "text": [
      "\r",
      "[Stage 131:============================>                            (1 + 1) / 2]\r",
      "\r",
      "                                                                                \r"
     ]
    }
   ],
   "source": [
    "# Iterate through all columns and print missing value counts\n",
    "for column_name in cassandraDF.columns:\n",
    "    missing_count = cassandraDF.filter(cassandraDF[column_name].isNull()).count()\n",
    "    print(f\"Missing values in '{column_name}': {missing_count}\")"
   ]
  },
  {
   "cell_type": "code",
   "execution_count": 32,
   "id": "a38a4d44",
   "metadata": {},
   "outputs": [
    {
     "name": "stdout",
     "output_type": "stream",
     "text": [
      "root\n",
      " |-- date: string (nullable = true)\n",
      " |-- tweet: string (nullable = true)\n",
      "\n"
     ]
    }
   ],
   "source": [
    "# Print the schema\n",
    "cassandraDF.printSchema()"
   ]
  },
  {
   "cell_type": "code",
   "execution_count": 33,
   "id": "fc612f3e",
   "metadata": {},
   "outputs": [],
   "source": [
    "# Call the columns\n",
    "columns = [\"date\", \"tweet\"]\n",
    "\n",
    "# Set 'tweet' column as the index to convert it as label\n",
    "cassandraDF = cassandraDF.withColumn(\"label\", cassandraDF[\"tweet\"])"
   ]
  },
  {
   "cell_type": "markdown",
   "id": "6160a540",
   "metadata": {},
   "source": [
    "### Descriptive Statistics"
   ]
  },
  {
   "cell_type": "code",
   "execution_count": 34,
   "id": "f9e8704f",
   "metadata": {},
   "outputs": [
    {
     "name": "stderr",
     "output_type": "stream",
     "text": [
      "[Stage 134:============================>                            (1 + 1) / 2]\r"
     ]
    },
    {
     "name": "stdout",
     "output_type": "stream",
     "text": [
      "+-------+--------------------+--------------------+--------------------+\n",
      "|summary|                date|               tweet|               label|\n",
      "+-------+--------------------+--------------------+--------------------+\n",
      "|  count|             1036130|             1036130|             1036130|\n",
      "|   mean|                null|                null|                null|\n",
      "| stddev|                null|                null|                null|\n",
      "|    min|Fri Apr 17 20:30:...|'                ...|'                ...|\n",
      "|    max|Wed May 27 07:27:...|                test|                test|\n",
      "+-------+--------------------+--------------------+--------------------+\n",
      "\n"
     ]
    },
    {
     "name": "stderr",
     "output_type": "stream",
     "text": [
      "\r",
      "                                                                                \r"
     ]
    }
   ],
   "source": [
    "# Compute and interpret the mean, median, quartiles and standard deviation of the dataset\n",
    "cassandraDF.describe().show()"
   ]
  },
  {
   "cell_type": "markdown",
   "id": "c64351c7",
   "metadata": {},
   "source": [
    "### Create a configuration to convert string 'date' into timestamp"
   ]
  },
  {
   "cell_type": "code",
   "execution_count": 35,
   "id": "fbba8a12",
   "metadata": {},
   "outputs": [
    {
     "name": "stdout",
     "output_type": "stream",
     "text": [
      "+-------------------+\n",
      "|               date|\n",
      "+-------------------+\n",
      "|2009-05-02 02:21:12|\n",
      "|2009-04-18 14:54:53|\n",
      "|2009-04-18 15:24:48|\n",
      "|2009-05-31 18:54:07|\n",
      "|2009-05-14 01:51:35|\n",
      "+-------------------+\n",
      "only showing top 5 rows\n",
      "\n"
     ]
    }
   ],
   "source": [
    "# Config SparkSession from UTC to Pacific Day Time which is the same timezone as the original dataset\n",
    "spark.conf.set(\"spark.sql.legacy.timeParserPolicy\", \"LEGACY\")\n",
    "spark.conf.set(\"spark.sql.session.timeZone\", \"America/Los_Angeles\")\n",
    "\n",
    "# Import libraries to convert\n",
    "from pyspark.sql.functions import from_unixtime, unix_timestamp\n",
    "from pyspark.sql.types import TimestampType\n",
    "\n",
    "# Convert 'date' column in string format to the timestamp\n",
    "cassandraDF = cassandraDF.withColumn(\"date\", from_unixtime(unix_timestamp(cassandraDF[\"date\"], \"E MMM dd HH:mm:ss z yyyy\")).cast(TimestampType()))\n",
    "\n",
    "# Print the 'date' column with the new format\n",
    "cassandraDF.select(\"date\").show(5)"
   ]
  },
  {
   "cell_type": "markdown",
   "id": "a398ac29",
   "metadata": {},
   "source": [
    "### Groupby 'date'"
   ]
  },
  {
   "cell_type": "code",
   "execution_count": 36,
   "id": "96169872",
   "metadata": {},
   "outputs": [
    {
     "name": "stderr",
     "output_type": "stream",
     "text": [
      "                                                                                \r"
     ]
    }
   ],
   "source": [
    "import matplotlib.pyplot as plt\n",
    "from pyspark.sql.functions import to_date, count\n",
    "from pyspark.sql.window import Window\n",
    "\n",
    "# Group the data by the date without the hour\n",
    "cassandraDF = cassandraDF.withColumn(\"date_without_hour\", to_date(cassandraDF[\"date\"]))\n",
    "cassandraDF_counts = cassandraDF.groupBy(\"date_without_hour\").agg(count(\"*\").alias(\"tweet_count\"))\n",
    "\n",
    "# Sort the data by date without hour\n",
    "cassandraDF_counts = cassandraDF_counts.orderBy(\"date_without_hour\")\n",
    "\n",
    "# Collect the data to the driver\n",
    "cassandraDF_counts = cassandraDF_counts.collect()\n",
    "\n",
    "# Extract dates and tweet counts for plotting\n",
    "dates = [str(row.date_without_hour) for row in cassandraDF_counts]\n",
    "tweet_counts = [row.tweet_count for row in cassandraDF_counts]"
   ]
  },
  {
   "cell_type": "code",
   "execution_count": 37,
   "id": "0dfa96d0",
   "metadata": {},
   "outputs": [
    {
     "data": {
      "image/png": "[encoded data removed]",
      "text/plain": [
       "<Figure size 864x432 with 1 Axes>"
      ]
     },
     "metadata": {
      "needs_background": "light"
     },
     "output_type": "display_data"
    }
   ],
   "source": [
    "# Plot the tweet count with red bars\n",
    "plt.figure(figsize=(12, 6))\n",
    "plt.bar(dates, tweet_counts, color='red')  # Set color to red\n",
    "plt.title(\"Tweet Count Over Time (Aggregated by Date)\")\n",
    "plt.xlabel(\"Date\")\n",
    "plt.ylabel(\"Tweet Count\")\n",
    "plt.xticks(rotation=45)  # Rotate x-axis labels for readability\n",
    "plt.tight_layout()\n",
    "\n",
    "# Show the plot\n",
    "plt.show()"
   ]
  },
  {
   "cell_type": "code",
   "execution_count": 38,
   "id": "0677aec3",
   "metadata": {},
   "outputs": [
    {
     "name": "stderr",
     "output_type": "stream",
     "text": [
      "                                                                                \r"
     ]
    },
    {
     "name": "stdout",
     "output_type": "stream",
     "text": [
      "First Date: 2009-04-06\n",
      "Last Date: 2009-06-25\n"
     ]
    },
    {
     "name": "stderr",
     "output_type": "stream",
     "text": [
      "[Stage 152:============================>                            (1 + 1) / 2]\r"
     ]
    },
    {
     "name": "stdout",
     "output_type": "stream",
     "text": [
      "2009-04-08\n",
      "2009-04-09\n",
      "2009-04-10\n",
      "2009-04-11\n",
      "2009-04-12\n",
      "2009-04-13\n",
      "2009-04-14\n",
      "2009-04-15\n",
      "2009-04-16\n",
      "2009-04-22\n",
      "2009-04-23\n",
      "2009-04-24\n",
      "2009-04-25\n",
      "2009-04-26\n",
      "2009-04-27\n",
      "2009-04-28\n",
      "2009-04-29\n",
      "2009-04-30\n",
      "2009-05-05\n",
      "2009-05-06\n",
      "2009-05-07\n",
      "2009-05-08\n",
      "2009-05-12\n",
      "2009-05-15\n",
      "2009-05-19\n",
      "2009-05-20\n",
      "2009-05-24\n",
      "2009-06-08\n",
      "2009-06-09\n",
      "2009-06-10\n",
      "2009-06-11\n",
      "2009-06-12\n",
      "2009-06-13\n",
      "Missing Days Count: 33\n"
     ]
    },
    {
     "name": "stderr",
     "output_type": "stream",
     "text": [
      "\r",
      "                                                                                \r"
     ]
    }
   ],
   "source": [
    "from pyspark.sql.functions import col, date_add, datediff\n",
    "import pyspark.sql.functions as F\n",
    "from datetime import date, timedelta\n",
    "\n",
    "# Extract the date part from the 'date' column\n",
    "cassandraDF = cassandraDF.withColumn(\"date\", col(\"date\").cast(\"date\"))\n",
    "\n",
    "# Sort the DataFrame by date\n",
    "cassandraDF = cassandraDF.orderBy(\"date\")\n",
    "\n",
    "# Calculate the next date using the lead function\n",
    "cassandraDF = cassandraDF.withColumn(\"next_date\", date_add(col(\"date\"), 1))\n",
    "\n",
    "# Check if the next date is continuous (no break)\n",
    "cassandraDF = cassandraDF.withColumn(\"is_continuous\", datediff(col(\"next_date\"), col(\"date\")) == 1)\n",
    "\n",
    "# Create a window specification to order by date\n",
    "window_spec = Window.orderBy(\"date\")\n",
    "\n",
    "# Assign a group identifier to continuous sequences\n",
    "cassandraDF = cassandraDF.withColumn(\"group_id\", F.sum(col(\"is_continuous\").cast(\"int\")).over(window_spec))\n",
    "\n",
    "# Filter only the rows with continuous sequences\n",
    "continuous_dates = cassandraDF.filter(col(\"is_continuous\")).select(\"date\").distinct()\n",
    "\n",
    "# Sort the list in ascending order\n",
    "continuous_dates = continuous_dates.orderBy(\"date\")\n",
    "\n",
    "# Get the first and last dates in the DataFrame\n",
    "first_date = continuous_dates.first().date\n",
    "last_date = continuous_dates.orderBy(col(\"date\").desc()).first().date\n",
    "\n",
    "# Print the first and last dates\n",
    "print(\"First Date:\", first_date)\n",
    "print(\"Last Date:\", last_date)\n",
    "\n",
    "# Define the start and end date for the range\n",
    "start_date = first_date\n",
    "end_date = last_date\n",
    "\n",
    "# Generate a list of all dates in the range\n",
    "date_range = [start_date + timedelta(days=x) for x in range((end_date - start_date).days + 1)]\n",
    "\n",
    "# Convert the list of continuous dates to a Python list\n",
    "continuous_dates_list = [row.date for row in continuous_dates.collect()]\n",
    "\n",
    "# Find the dates not in the list\n",
    "missing_dates = [d for d in date_range if d not in continuous_dates_list]\n",
    "\n",
    "# Print the missing dates\n",
    "for missing_date in missing_dates:\n",
    "    print(missing_date)\n",
    "\n",
    "# Count the missing days\n",
    "missing_days_count = len(missing_dates)\n",
    "\n",
    "# Print the missing days count\n",
    "print(\"Missing Days Count:\", missing_days_count)"
   ]
  },
  {
   "cell_type": "markdown",
   "id": "7ef5b0d2",
   "metadata": {},
   "source": [
    "### Outliers"
   ]
  },
  {
   "cell_type": "code",
   "execution_count": 39,
   "id": "04295dbf",
   "metadata": {},
   "outputs": [
    {
     "name": "stderr",
     "output_type": "stream",
     "text": [
      "                                                                                \r"
     ]
    },
    {
     "data": {
      "image/png": "[encoded data removed]",
      "text/plain": [
       "<Figure size 720x432 with 1 Axes>"
      ]
     },
     "metadata": {
      "needs_background": "light"
     },
     "output_type": "display_data"
    }
   ],
   "source": [
    "import matplotlib.pyplot as plt\n",
    "from pyspark.sql.functions import to_date, count\n",
    "\n",
    "# Group the data by the date without the hour\n",
    "cassandraDF = cassandraDF.withColumn(\"date_without_hour\", to_date(cassandraDF[\"date\"]))\n",
    "cassandraDF_counts = cassandraDF.groupBy(\"date_without_hour\").agg(count(\"*\").alias(\"tweet_count\"))\n",
    "\n",
    "# Sort the data by date without hour\n",
    "cassandraDF_counts = cassandraDF_counts.orderBy(\"date_without_hour\")\n",
    "\n",
    "# Collect the data to the driver\n",
    "cassandraDF_counts = cassandraDF_counts.collect()\n",
    "\n",
    "# Extract tweet counts for plotting\n",
    "tweet_counts = [row.tweet_count for row in cassandraDF_counts]\n",
    "\n",
    "# Create a box plot with outliers marked\n",
    "plt.figure(figsize=(10, 6))\n",
    "plt.boxplot(tweet_counts, vert=False, flierprops=dict(marker='o', markerfacecolor='red', markersize=8))\n",
    "plt.title(\"Box Plot of Tweet Counts by Date for Cassandra\")\n",
    "plt.xlabel(\"Tweet Counts\")\n",
    "plt.grid(True)\n",
    "\n",
    "plt.show()"
   ]
  },
  {
   "cell_type": "code",
   "execution_count": 40,
   "id": "648155ce",
   "metadata": {},
   "outputs": [
    {
     "name": "stdout",
     "output_type": "stream",
     "text": [
      "Potential Outliers:\n",
      "Date: 2009-06-15, Tweet Count: 44818\n",
      "Date: 2009-06-20, Tweet Count: 44946\n"
     ]
    }
   ],
   "source": [
    "# Display the potential outliers (if any) and print them\n",
    "outliers = []\n",
    "\n",
    "q1 = date_counts[0].tweet_count\n",
    "q3 = date_counts[-1].tweet_count\n",
    "iqr = q3 - q1\n",
    "lower_bound = q1 - 1.5 * iqr\n",
    "upper_bound = q3 + 1.5 * iqr\n",
    "\n",
    "for idx, tweet_count in enumerate(tweet_counts):\n",
    "    if tweet_count < lower_bound or tweet_count > upper_bound:\n",
    "        outliers.append((date_counts[idx].date_without_hour, tweet_count))\n",
    "\n",
    "# Print the potential outliers\n",
    "print(\"Potential Outliers:\")\n",
    "for date, count in outliers:\n",
    "    print(f\"Date: {date}, Tweet Count: {count}\")"
   ]
  },
  {
   "cell_type": "markdown",
   "id": "54acc80c",
   "metadata": {},
   "source": [
    "### Comparison between Hive and Cassandra datasets"
   ]
  },
  {
   "cell_type": "code",
   "execution_count": 41,
   "id": "e125ddae",
   "metadata": {},
   "outputs": [
    {
     "name": "stdout",
     "output_type": "stream",
     "text": [
      "Hive Database Row Count: 1599999\n",
      "Cassandra Database Row Count: 1036130\n",
      "Total Difference: 563869\n"
     ]
    }
   ],
   "source": [
    "# Get the row count for 'data'\n",
    "hive_row_count = data.count()\n",
    "\n",
    "# Get the row count for 'cassandraDF'\n",
    "cassandra_row_count = cassandraDF.count()\n",
    "\n",
    "# Calculate the total difference\n",
    "total_difference = hive_row_count - cassandra_row_count\n",
    "\n",
    "# Print the row counts and total difference\n",
    "print(\"Hive Database Row Count:\", hive_row_count)\n",
    "print(\"Cassandra Database Row Count:\", cassandra_row_count)\n",
    "print(\"Total Difference:\", total_difference)"
   ]
  },
  {
   "cell_type": "code",
   "execution_count": 42,
   "id": "cc0ae0ae",
   "metadata": {},
   "outputs": [
    {
     "name": "stderr",
     "output_type": "stream",
     "text": [
      "[Stage 182:============================>                            (1 + 1) / 2]\r"
     ]
    },
    {
     "name": "stdout",
     "output_type": "stream",
     "text": [
      "Date: 2009-04-06, Hive Count: 3359, Cassandra Count: 3321, Total Difference: 38\n",
      "Date: 2009-04-07, Hive Count: 17311, Cassandra Count: 17119, Total Difference: 192\n",
      "Date: 2009-04-17, Hive Count: 3084, Cassandra Count: 3047, Total Difference: 37\n",
      "Date: 2009-04-18, Hive Count: 21754, Cassandra Count: 21506, Total Difference: 248\n",
      "Date: 2009-04-19, Hive Count: 27469, Cassandra Count: 27136, Total Difference: 333\n",
      "Date: 2009-04-20, Hive Count: 18460, Cassandra Count: 18128, Total Difference: 332\n",
      "Date: 2009-04-21, Hive Count: 8587, Cassandra Count: 8423, Total Difference: 164\n",
      "Date: 2009-05-01, Hive Count: 7716, Cassandra Count: 7568, Total Difference: 148\n",
      "Date: 2009-05-02, Hive Count: 27434, Cassandra Count: 27125, Total Difference: 309\n",
      "Date: 2009-05-03, Hive Count: 35333, Cassandra Count: 34902, Total Difference: 431\n",
      "Date: 2009-05-04, Hive Count: 15481, Cassandra Count: 15293, Total Difference: 188\n",
      "Date: 2009-05-09, Hive Count: 11739, Cassandra Count: 11588, Total Difference: 151\n",
      "Date: 2009-05-10, Hive Count: 26029, Cassandra Count: 25586, Total Difference: 443\n",
      "Date: 2009-05-11, Hive Count: 4186, Cassandra Count: 4160, Total Difference: 26\n",
      "Date: 2009-05-13, Hive Count: 4066, Cassandra Count: 4039, Total Difference: 27\n",
      "Date: 2009-05-14, Hive Count: 17460, Cassandra Count: 17244, Total Difference: 216\n",
      "Date: 2009-05-16, Hive Count: 9146, Cassandra Count: 8993, Total Difference: 153\n",
      "Date: 2009-05-17, Hive Count: 40154, Cassandra Count: 39632, Total Difference: 522\n",
      "Date: 2009-05-18, Hive Count: 36469, Cassandra Count: 36006, Total Difference: 463\n",
      "Date: 2009-05-21, Hive Count: 2132, Cassandra Count: 2099, Total Difference: 33\n",
      "Date: 2009-05-22, Hive Count: 39074, Cassandra Count: 38684, Total Difference: 390\n",
      "Date: 2009-05-23, Hive Count: 169, Cassandra Count: 169, Total Difference: 0\n",
      "Date: 2009-05-25, Hive Count: 169, Cassandra Count: 169, Total Difference: 0\n",
      "Date: 2009-05-26, Hive Count: 10778, Cassandra Count: 10706, Total Difference: 72\n",
      "Date: 2009-05-27, Hive Count: 841, Cassandra Count: 831, Total Difference: 10\n",
      "Date: 2009-05-28, Hive Count: 15903, Cassandra Count: 15799, Total Difference: 104\n",
      "Date: 2009-05-29, Hive Count: 73827, Cassandra Count: 34591, Total Difference: 39236\n",
      "Date: 2009-05-30, Hive Count: 103673, Cassandra Count: 38678, Total Difference: 64995\n",
      "Date: 2009-05-31, Hive Count: 94588, Cassandra Count: 35910, Total Difference: 58678\n",
      "Date: 2009-06-01, Hive Count: 110290, Cassandra Count: 43604, Total Difference: 66686\n",
      "Date: 2009-06-02, Hive Count: 64192, Cassandra Count: 25109, Total Difference: 39083\n",
      "Date: 2009-06-03, Hive Count: 41588, Cassandra Count: 15727, Total Difference: 25861\n",
      "Date: 2009-06-04, Hive Count: 7842, Cassandra Count: 3111, Total Difference: 4731\n",
      "Date: 2009-06-05, Hive Count: 58757, Cassandra Count: 23277, Total Difference: 35480\n",
      "Date: 2009-06-06, Hive Count: 111676, Cassandra Count: 43160, Total Difference: 68516\n",
      "Date: 2009-06-07, Hive Count: 96350, Cassandra Count: 37724, Total Difference: 58626\n",
      "Date: 2009-06-14, Hive Count: 8272, Cassandra Count: 3319, Total Difference: 4953\n",
      "Date: 2009-06-15, Hive Count: 109781, Cassandra Count: 44818, Total Difference: 64963\n",
      "Date: 2009-06-16, Hive Count: 67980, Cassandra Count: 43150, Total Difference: 24830\n",
      "Date: 2009-06-17, Hive Count: 44012, Cassandra Count: 43536, Total Difference: 476\n",
      "Date: 2009-06-18, Hive Count: 43004, Cassandra Count: 42539, Total Difference: 465\n",
      "Date: 2009-06-19, Hive Count: 43136, Cassandra Count: 42790, Total Difference: 346\n",
      "Date: 2009-06-20, Hive Count: 45364, Cassandra Count: 44946, Total Difference: 418\n",
      "Date: 2009-06-21, Hive Count: 16360, Cassandra Count: 16251, Total Difference: 109\n",
      "Date: 2009-06-22, Hive Count: 12009, Cassandra Count: 11911, Total Difference: 98\n",
      "Date: 2009-06-23, Hive Count: 17002, Cassandra Count: 16878, Total Difference: 124\n",
      "Date: 2009-06-24, Hive Count: 6299, Cassandra Count: 6243, Total Difference: 56\n",
      "Date: 2009-06-25, Hive Count: 19694, Cassandra Count: 19585, Total Difference: 109\n"
     ]
    },
    {
     "name": "stderr",
     "output_type": "stream",
     "text": [
      "\r",
      "                                                                                \r"
     ]
    }
   ],
   "source": [
    "from pyspark.sql.functions import to_date, count\n",
    "from pyspark.sql.window import Window\n",
    "\n",
    "# Group the 'data' by the date without the hour\n",
    "data = data.withColumn(\"date_without_hour\", to_date(data[\"date\"]))\n",
    "data_date_counts = data.groupBy(\"date_without_hour\").agg(count(\"*\").alias(\"data_tweet_count\"))\n",
    "\n",
    "# Group 'cassandraDF' by the date without the hour\n",
    "cassandraDF = cassandraDF.withColumn(\"date_without_hour\", to_date(cassandraDF[\"date\"]))\n",
    "cassandra_date_counts = cassandraDF.groupBy(\"date_without_hour\").agg(count(\"*\").alias(\"cassandra_tweet_count\"))\n",
    "\n",
    "# Sort the data by date without hour\n",
    "data_date_counts = data_date_counts.orderBy(\"date_without_hour\")\n",
    "cassandra_date_counts = cassandra_date_counts.orderBy(\"date_without_hour\")\n",
    "\n",
    "# Collect the data to the driver\n",
    "data_date_counts = data_date_counts.collect()\n",
    "cassandra_date_counts = cassandra_date_counts.collect()\n",
    "\n",
    "# Extract tweet counts and calculate the total difference per day\n",
    "data_tweet_counts = [row.data_tweet_count for row in data_date_counts]\n",
    "cassandra_tweet_counts = [row.cassandra_tweet_count for row in cassandra_date_counts]\n",
    "difference_per_day = [data - cassandra for data, cassandra in zip(data_tweet_counts, cassandra_tweet_counts)]\n",
    "\n",
    "# Print the tweet counts for both datasets and the total difference beside\n",
    "for date, data_count, cassandra_count, diff in zip(data_date_counts, data_tweet_counts, cassandra_tweet_counts, difference_per_day):\n",
    "    print(f\"Date: {date.date_without_hour}, Hive Count: {data_count}, Cassandra Count: {cassandra_count}, Total Difference: {diff}\")"
   ]
  },
  {
   "cell_type": "markdown",
   "id": "86a9b8a9",
   "metadata": {},
   "source": [
    "### Normal Distribution Comparison"
   ]
  },
  {
   "cell_type": "code",
   "execution_count": 43,
   "id": "b3056c0b",
   "metadata": {},
   "outputs": [
    {
     "name": "stdout",
     "output_type": "stream",
     "text": [
      "Shapiro-Wilk Test Results:\n",
      "Data dataset: p-value = 7.3197452366002835e-06, Not Normally Distributed\n",
      "CassandraDF dataset: p-value = 0.0011485718423500657, Not Normally Distributed\n"
     ]
    },
    {
     "data": {
      "image/png": "[encoded data removed]",
      "text/plain": [
       "<Figure size 720x432 with 1 Axes>"
      ]
     },
     "metadata": {
      "needs_background": "light"
     },
     "output_type": "display_data"
    }
   ],
   "source": [
    "import seaborn as sns\n",
    "from scipy.stats import shapiro\n",
    "import matplotlib.pyplot as plt\n",
    "\n",
    "# Extract the tweet counts for both datasets\n",
    "data_tweet_counts = [row.tweet_count for row in date_counts]\n",
    "cassandraDF_tweet_counts = [row.tweet_count for row in cassandraDF_counts]\n",
    "\n",
    "# Create a KDE plot to compare the distributions\n",
    "plt.figure(figsize=(10, 6))\n",
    "sns.kdeplot(data_tweet_counts, label='Data', color='blue', shade=True)\n",
    "sns.kdeplot(cassandraDF_tweet_counts, label='CassandraDF', color='red', shade=True)\n",
    "plt.title(\"Tweet Count Distribution Comparison\")\n",
    "plt.xlabel(\"Tweet Count\")\n",
    "plt.ylabel(\"Density\")\n",
    "plt.legend()\n",
    "plt.grid(True)\n",
    "\n",
    "# Perform the Shapiro-Wilk test to check for normal distribution\n",
    "data_sw_stat, data_sw_p_value = shapiro(data_tweet_counts)\n",
    "cassandraDF_sw_stat, cassandraDF_sw_p_value = shapiro(cassandraDF_tweet_counts)\n",
    "\n",
    "# Print the results of the Shapiro-Wilk test\n",
    "print(\"Shapiro-Wilk Test Results:\")\n",
    "print(f\"Data dataset: p-value = {data_sw_p_value}, {'Normally Distributed' if data_sw_p_value > 0.05 else 'Not Normally Distributed'}\")\n",
    "print(f\"CassandraDF dataset: p-value = {cassandraDF_sw_p_value}, {'Normally Distributed' if cassandraDF_sw_p_value > 0.05 else 'Not Normally Distributed'}\")\n",
    "\n",
    "# Show the plot\n",
    "plt.show()"
   ]
  },
  {
   "cell_type": "markdown",
   "id": "f723bb4d",
   "metadata": {},
   "source": [
    "### Time execution comparison"
   ]
  },
  {
   "cell_type": "code",
   "execution_count": 44,
   "id": "eb0b5c76",
   "metadata": {},
   "outputs": [
    {
     "name": "stdout",
     "output_type": "stream",
     "text": [
      "Hive Execution Time: 124.78572082519531 seconds\n"
     ]
    }
   ],
   "source": [
    "# Stop measuring time\n",
    "end_time = time.time()\n",
    "execution_time = end_time - start_time\n",
    "\n",
    "print(f\"Hive Execution Time: {execution_time} seconds\")"
   ]
  },
  {
   "cell_type": "code",
   "execution_count": 45,
   "id": "67250674",
   "metadata": {},
   "outputs": [
    {
     "name": "stdout",
     "output_type": "stream",
     "text": [
      "Cassandra Execution Time: 124.81566286087036 seconds\n"
     ]
    }
   ],
   "source": [
    "# Stop measuring time\n",
    "end_time = time.time()\n",
    "execution_time = end_time - start_time\n",
    "\n",
    "print(f\"Cassandra Execution Time: {execution_time} seconds\")"
   ]
  },
  {
   "cell_type": "markdown",
   "id": "ea0434e5",
   "metadata": {},
   "source": [
    "#### Note: A dataset comparison between Hive and Cassandra.\n",
    "\n",
    "- While these NoSQL datasets were generated from the original data provided as a study tool, a notable difference can be observed in the total number of rows between them:\n",
    "    - Hive database row count: 1599999\n",
    "    - Cassandra database row count: 1036130\n",
    "    - Total Difference: 563869.\n",
    "- The Hive database was created through HDFS and built using the original file, employing Spark commands in the Jupyter Notebook.\n",
    "- In contrast, the Cassandra database was created within the Cassandra prompt using commands related to tables, keyspaces and the COPY FROM function, where the original file was used.\n",
    "- Although the Cassandra dataset did not import the entire original dataset, resulting in a smaller number of rows, its time performance is less efficient than Hive. In other words, Hive performed better every time the commands were restarted and run."
   ]
  },
  {
   "cell_type": "markdown",
   "id": "36ca9862",
   "metadata": {},
   "source": [
    "### Modelling "
   ]
  },
  {
   "cell_type": "code",
   "execution_count": 46,
   "id": "2fc9178e",
   "metadata": {},
   "outputs": [
    {
     "name": "stderr",
     "output_type": "stream",
     "text": [
      "2023-11-17 16:25:40,394 WARN window.WindowExec: No Partition Defined for Window operation! Moving all data to a single partition, this can cause serious performance degradation.\n",
      "2023-11-17 16:25:40,396 WARN window.WindowExec: No Partition Defined for Window operation! Moving all data to a single partition, this can cause serious performance degradation.\n",
      "2023-11-17 16:26:01,820 WARN window.WindowExec: No Partition Defined for Window operation! Moving all data to a single partition, this can cause serious performance degradation.\n",
      "2023-11-17 16:26:05,904 WARN window.WindowExec: No Partition Defined for Window operation! Moving all data to a single partition, this can cause serious performance degradation.\n",
      "[Stage 196:>                                                        (0 + 1) / 1]\r"
     ]
    },
    {
     "name": "stdout",
     "output_type": "stream",
     "text": [
      "+----------+--------------------+--------------------+-----------------+----------+-------------+--------+\n",
      "|      date|               tweet|               label|date_without_hour| next_date|is_continuous|group_id|\n",
      "+----------+--------------------+--------------------+-----------------+----------+-------------+--------+\n",
      "|2009-04-06|is upset that he ...|is upset that he ...|       2009-04-06|2009-04-07|         true|    3359|\n",
      "|2009-04-06|@Kenichan I dived...|@Kenichan I dived...|       2009-04-06|2009-04-07|         true|    3359|\n",
      "|2009-04-06|my whole body fee...|my whole body fee...|       2009-04-06|2009-04-07|         true|    3359|\n",
      "|2009-04-06|@nationwideclass ...|@nationwideclass ...|       2009-04-06|2009-04-07|         true|    3359|\n",
      "|2009-04-06|@Kwesidei not the...|@Kwesidei not the...|       2009-04-06|2009-04-07|         true|    3359|\n",
      "+----------+--------------------+--------------------+-----------------+----------+-------------+--------+\n",
      "only showing top 5 rows\n",
      "\n"
     ]
    },
    {
     "name": "stderr",
     "output_type": "stream",
     "text": [
      "\r",
      "                                                                                \r"
     ]
    }
   ],
   "source": [
    "# Check the DataFrame\n",
    "data.show(5)"
   ]
  },
  {
   "cell_type": "code",
   "execution_count": 47,
   "id": "64b17cf9",
   "metadata": {},
   "outputs": [
    {
     "name": "stderr",
     "output_type": "stream",
     "text": [
      "                                                                                \r"
     ]
    },
    {
     "name": "stdout",
     "output_type": "stream",
     "text": [
      "+----------+--------------------+\n",
      "|      date|               tweet|\n",
      "+----------+--------------------+\n",
      "|2009-04-06|\"@Kwesidei not th...|\n",
      "|2009-04-06|\"my whole body fe...|\n",
      "|2009-04-06|\"@nationwideclass...|\n",
      "|2009-04-06|\"is upset that he...|\n",
      "|2009-04-06|\"@Kenichan I dive...|\n",
      "+----------+--------------------+\n",
      "only showing top 5 rows\n",
      "\n"
     ]
    },
    {
     "name": "stderr",
     "output_type": "stream",
     "text": [
      "                                                                                \r"
     ]
    }
   ],
   "source": [
    "import pandas as pd\n",
    "from pyspark.sql.functions import concat, lit\n",
    "\n",
    "# Initialize a Spark session\n",
    "spark = SparkSession.builder.appName(\"TweetPreprocessing\").getOrCreate()\n",
    "\n",
    "# Recall the HIVE DataFrame \n",
    "\n",
    "# First, create a new column 'tweet' with the same data as 'label'\n",
    "data = data.withColumn(\"tweet\", data[\"label\"])\n",
    "\n",
    "# Drop the specified columns\n",
    "columns_to_drop = [\"date_without_hour\", \"next_date\", \"is_continuous\", \"group_id\"]\n",
    "data = data.drop(*columns_to_drop)\n",
    "\n",
    "# Now, remove the 'label' column and put the text in quotation marks\n",
    "data = data.drop(\"label\")\n",
    "data = data.withColumn(\"tweet\", concat(lit('\"'), data[\"tweet\"], lit('\"')))\n",
    "\n",
    "# Show the data\n",
    "data.show(5)\n",
    "\n",
    "# Save the DataFrame as TweetPreProcessing in Parquet format\n",
    "data.write.mode(\"overwrite\").save(\"TweetPreProcessing\", format=\"parquet\")\n",
    "\n",
    "# Convert the Spark DataFrame to a Pandas DataFrame and name it 'df'\n",
    "df = spark.read.parquet(\"TweetPreProcessing\").toPandas()\n",
    "\n",
    "# Save the Pandas DataFrame to a CSV file\n",
    "df.to_csv('processed_data.csv', index=False)\n",
    "\n",
    "# Stop the Spark session when it is done\n",
    "spark.stop()"
   ]
  },
  {
   "cell_type": "markdown",
   "id": "fed618ef",
   "metadata": {},
   "source": [
    "### Sentiment Analysis on ProjectTweets"
   ]
  },
  {
   "cell_type": "code",
   "execution_count": 48,
   "id": "4a739d64",
   "metadata": {},
   "outputs": [],
   "source": [
    "# !pip install pandas langdetect"
   ]
  },
  {
   "cell_type": "code",
   "execution_count": 49,
   "id": "d3813f2f",
   "metadata": {},
   "outputs": [
    {
     "name": "stderr",
     "output_type": "stream",
     "text": [
      "2023-11-17 16:27:09,458 WARN util.Utils: Service 'SparkUI' could not bind on port 4040. Attempting port 4041.\n"
     ]
    },
    {
     "data": {
      "text/html": [
       "<div>\n",
       "<style scoped>\n",
       "    .dataframe tbody tr th:only-of-type {\n",
       "        vertical-align: middle;\n",
       "    }\n",
       "\n",
       "    .dataframe tbody tr th {\n",
       "        vertical-align: top;\n",
       "    }\n",
       "\n",
       "    .dataframe thead th {\n",
       "        text-align: right;\n",
       "    }\n",
       "</style>\n",
       "<table border=\"1\" class=\"dataframe\">\n",
       "  <thead>\n",
       "    <tr style=\"text-align: right;\">\n",
       "      <th></th>\n",
       "      <th>date</th>\n",
       "      <th>tweet</th>\n",
       "    </tr>\n",
       "  </thead>\n",
       "  <tbody>\n",
       "    <tr>\n",
       "      <th>0</th>\n",
       "      <td>2009-06-02</td>\n",
       "      <td>\"English exam today heh cba with it \"</td>\n",
       "    </tr>\n",
       "    <tr>\n",
       "      <th>1</th>\n",
       "      <td>2009-06-02</td>\n",
       "      <td>\"is at the doctors  lets hope i havent done an...</td>\n",
       "    </tr>\n",
       "    <tr>\n",
       "      <th>2</th>\n",
       "      <td>2009-06-02</td>\n",
       "      <td>\"Still terribly upsetting but actually not as ...</td>\n",
       "    </tr>\n",
       "    <tr>\n",
       "      <th>3</th>\n",
       "      <td>2009-06-02</td>\n",
       "      <td>\"@SdPriceless yea. sus. \"</td>\n",
       "    </tr>\n",
       "    <tr>\n",
       "      <th>4</th>\n",
       "      <td>2009-06-02</td>\n",
       "      <td>\"@JGDerron Sounds like we are on the same page...</td>\n",
       "    </tr>\n",
       "  </tbody>\n",
       "</table>\n",
       "</div>"
      ],
      "text/plain": [
       "         date                                              tweet\n",
       "0  2009-06-02              \"English exam today heh cba with it \"\n",
       "1  2009-06-02  \"is at the doctors  lets hope i havent done an...\n",
       "2  2009-06-02  \"Still terribly upsetting but actually not as ...\n",
       "3  2009-06-02                          \"@SdPriceless yea. sus. \"\n",
       "4  2009-06-02  \"@JGDerron Sounds like we are on the same page..."
      ]
     },
     "execution_count": 49,
     "metadata": {},
     "output_type": "execute_result"
    }
   ],
   "source": [
    "# Import the necessary libraries\n",
    "from langdetect import detect\n",
    "\n",
    "# Initialize a Spark session\n",
    "spark = SparkSession.builder.appName(\"SentimentAnalysis\").getOrCreate()\n",
    "\n",
    "# Display the first 5 rows of the Pandas DataFrame\n",
    "df.head(5)"
   ]
  },
  {
   "cell_type": "code",
   "execution_count": 50,
   "id": "3188a6b5",
   "metadata": {},
   "outputs": [
    {
     "data": {
      "text/plain": [
       "(1599999, 2)"
      ]
     },
     "execution_count": 50,
     "metadata": {},
     "output_type": "execute_result"
    }
   ],
   "source": [
    "# Check the shape of the Pandas DataFrame\n",
    "df.shape"
   ]
  },
  {
   "cell_type": "markdown",
   "id": "3bfbc427",
   "metadata": {},
   "source": [
    "### Convert tweets into sentiments"
   ]
  },
  {
   "cell_type": "code",
   "execution_count": 51,
   "id": "84789d1e",
   "metadata": {},
   "outputs": [],
   "source": [
    "#!pip install vaderSentiment"
   ]
  },
  {
   "cell_type": "code",
   "execution_count": 52,
   "id": "1beddd9d",
   "metadata": {},
   "outputs": [],
   "source": [
    "import pandas as pd\n",
    "import seaborn as sns\n",
    "import numpy as np\n",
    "import matplotlib.pyplot as plt\n",
    "import warnings\n",
    "warnings.filterwarnings(\"ignore\")"
   ]
  },
  {
   "cell_type": "code",
   "execution_count": 53,
   "id": "b9c3c1a7",
   "metadata": {},
   "outputs": [
    {
     "name": "stdout",
     "output_type": "stream",
     "text": [
      "         date                                              tweet  sentiment\n",
      "0  2009-06-02              \"English exam today heh cba with it \"    -0.1531\n",
      "1  2009-06-02  \"is at the doctors  lets hope i havent done an...     0.4805\n",
      "2  2009-06-02  \"Still terribly upsetting but actually not as ...     0.5529\n",
      "3  2009-06-02                          \"@SdPriceless yea. sus. \"     0.0000\n",
      "4  2009-06-02  \"@JGDerron Sounds like we are on the same page...     0.3612\n"
     ]
    }
   ],
   "source": [
    "#!pip install vaderSentiment\n",
    "from vaderSentiment.vaderSentiment import SentimentIntensityAnalyzer\n",
    "\n",
    "# Check if the file exists before reading\n",
    "file_path = '/home/hduser/Desktop/CA2_SEM2/processed_data.csv'\n",
    "\n",
    "if os.path.exists(file_path):\n",
    "    df = pd.read_csv(file_path)\n",
    "else:\n",
    "    print(f\"Error: '{file_path}' not found.\")\n",
    "    # Exit the script or handle the error as needed\n",
    "\n",
    "# Initialize the VADER sentiment analyzer\n",
    "analyzer = SentimentIntensityAnalyzer()\n",
    "\n",
    "# Function to get sentiment polarity\n",
    "def get_sentiment(text):\n",
    "    compound_score = analyzer.polarity_scores(text)['compound']\n",
    "    return compound_score\n",
    "    \n",
    "# Apply the function to the 'tweet' column\n",
    "df['sentiment'] = df['tweet'].apply(get_sentiment)\n",
    "# Display the first 5 rows of the DataFrame with sentiment\n",
    "print(df.head(5))"
   ]
  },
  {
   "cell_type": "code",
   "execution_count": 54,
   "id": "70f47181",
   "metadata": {},
   "outputs": [
    {
     "name": "stdout",
     "output_type": "stream",
     "text": [
      "               date  sentiment\n",
      "0        2009-06-02    -0.1531\n",
      "1        2009-06-02     0.4805\n",
      "2        2009-06-02     0.5529\n",
      "3        2009-06-02     0.0000\n",
      "4        2009-06-02     0.3612\n",
      "...             ...        ...\n",
      "1599994  2009-06-25    -0.5106\n",
      "1599995  2009-06-25     0.0000\n",
      "1599996  2009-06-25     0.1025\n",
      "1599997  2009-06-25     0.3612\n",
      "1599998  2009-06-25     0.1531\n",
      "\n",
      "[1599999 rows x 2 columns]\n"
     ]
    }
   ],
   "source": [
    "# Drop the 'tweet' column\n",
    "df.drop('tweet', axis=1, inplace=True)\n",
    "\n",
    "# Display the DataFrame with sentiment and without the 'tweet' column\n",
    "print(df)"
   ]
  },
  {
   "cell_type": "markdown",
   "id": "7f606d2b",
   "metadata": {},
   "source": [
    "### Correlation Matrix"
   ]
  },
  {
   "cell_type": "code",
   "execution_count": 55,
   "id": "778c458d",
   "metadata": {},
   "outputs": [
    {
     "data": {
      "image/png": "[encoded data removed]",
      "text/plain": [
       "<Figure size 432x288 with 2 Axes>"
      ]
     },
     "metadata": {
      "needs_background": "light"
     },
     "output_type": "display_data"
    }
   ],
   "source": [
    "# Convert the 'date' column to datetime\n",
    "df['date'] = pd.to_datetime(df['date'])\n",
    "\n",
    "# Calculate the correlation matrix\n",
    "correlation_matrix = df.corr()\n",
    "\n",
    "# Visualize the correlation matrix as a heatmap\n",
    "sns.heatmap(correlation_matrix, annot=True, cmap='coolwarm', fmt=\".2f\")\n",
    "\n",
    "# Add a title to the heatmap\n",
    "plt.title('Correlation Heatmap between Date and Sentiment')\n",
    "\n",
    "# Show the plot\n",
    "plt.show()"
   ]
  },
  {
   "cell_type": "markdown",
   "id": "a666a810",
   "metadata": {},
   "source": [
    "Observation:\n",
    "- As can be seen, there is no correlation between the features ‘date’ and ‘sentiment’."
   ]
  },
  {
   "cell_type": "code",
   "execution_count": 56,
   "id": "c3c7bb75",
   "metadata": {},
   "outputs": [
    {
     "data": {
      "text/plain": [
       "(1599999, 1)"
      ]
     },
     "execution_count": 56,
     "metadata": {},
     "output_type": "execute_result"
    }
   ],
   "source": [
    "# Set the 'datetime' column as the index\n",
    "df.set_index('date', inplace=True)\n",
    "\n",
    "# Check the data shape\n",
    "df.shape"
   ]
  },
  {
   "cell_type": "code",
   "execution_count": 57,
   "id": "d989c479",
   "metadata": {},
   "outputs": [
    {
     "data": {
      "text/html": [
       "<div>\n",
       "<style scoped>\n",
       "    .dataframe tbody tr th:only-of-type {\n",
       "        vertical-align: middle;\n",
       "    }\n",
       "\n",
       "    .dataframe tbody tr th {\n",
       "        vertical-align: top;\n",
       "    }\n",
       "\n",
       "    .dataframe thead th {\n",
       "        text-align: right;\n",
       "    }\n",
       "</style>\n",
       "<table border=\"1\" class=\"dataframe\">\n",
       "  <thead>\n",
       "    <tr style=\"text-align: right;\">\n",
       "      <th></th>\n",
       "      <th>sentiment</th>\n",
       "    </tr>\n",
       "    <tr>\n",
       "      <th>date</th>\n",
       "      <th></th>\n",
       "    </tr>\n",
       "  </thead>\n",
       "  <tbody>\n",
       "    <tr>\n",
       "      <th>2009-06-02</th>\n",
       "      <td>-0.1531</td>\n",
       "    </tr>\n",
       "    <tr>\n",
       "      <th>2009-06-02</th>\n",
       "      <td>0.4805</td>\n",
       "    </tr>\n",
       "    <tr>\n",
       "      <th>2009-06-02</th>\n",
       "      <td>0.5529</td>\n",
       "    </tr>\n",
       "    <tr>\n",
       "      <th>2009-06-02</th>\n",
       "      <td>0.0000</td>\n",
       "    </tr>\n",
       "    <tr>\n",
       "      <th>2009-06-02</th>\n",
       "      <td>0.3612</td>\n",
       "    </tr>\n",
       "  </tbody>\n",
       "</table>\n",
       "</div>"
      ],
      "text/plain": [
       "            sentiment\n",
       "date                 \n",
       "2009-06-02    -0.1531\n",
       "2009-06-02     0.4805\n",
       "2009-06-02     0.5529\n",
       "2009-06-02     0.0000\n",
       "2009-06-02     0.3612"
      ]
     },
     "execution_count": 57,
     "metadata": {},
     "output_type": "execute_result"
    }
   ],
   "source": [
    "df.head(5)"
   ]
  },
  {
   "cell_type": "code",
   "execution_count": 58,
   "id": "d95a8a6a",
   "metadata": {},
   "outputs": [
    {
     "name": "stdout",
     "output_type": "stream",
     "text": [
      "         date  sentiment\n",
      "0  2009-04-06   0.150036\n",
      "1  2009-04-07   0.166612\n",
      "2  2009-04-08        NaN\n",
      "3  2009-04-09        NaN\n",
      "4  2009-04-10        NaN\n",
      "..        ...        ...\n",
      "76 2009-06-21  -0.026057\n",
      "77 2009-06-22  -0.066730\n",
      "78 2009-06-23  -0.055286\n",
      "79 2009-06-24  -0.047146\n",
      "80 2009-06-25  -0.055777\n",
      "\n",
      "[81 rows x 2 columns]\n"
     ]
    }
   ],
   "source": [
    "# Convert the index to DatetimeIndex\n",
    "df.index = pd.to_datetime(df.index)\n",
    "\n",
    "# Resample to daily frequency and aggregate sentiments using mean\n",
    "df_daily = df.resample('D').mean()\n",
    "\n",
    "# Resetting the index to have 'date' as a column again\n",
    "df_daily.reset_index(inplace=True)\n",
    "\n",
    "# Display the resulting DataFrame\n",
    "print(df_daily)"
   ]
  },
  {
   "cell_type": "markdown",
   "id": "355608f6",
   "metadata": {},
   "source": [
    "### Missing Values"
   ]
  },
  {
   "cell_type": "code",
   "execution_count": 59,
   "id": "5a0d70c5",
   "metadata": {},
   "outputs": [
    {
     "data": {
      "text/html": [
       "<div>\n",
       "<style scoped>\n",
       "    .dataframe tbody tr th:only-of-type {\n",
       "        vertical-align: middle;\n",
       "    }\n",
       "\n",
       "    .dataframe tbody tr th {\n",
       "        vertical-align: top;\n",
       "    }\n",
       "\n",
       "    .dataframe thead th {\n",
       "        text-align: right;\n",
       "    }\n",
       "</style>\n",
       "<table border=\"1\" class=\"dataframe\">\n",
       "  <thead>\n",
       "    <tr style=\"text-align: right;\">\n",
       "      <th></th>\n",
       "      <th>sentiment</th>\n",
       "    </tr>\n",
       "    <tr>\n",
       "      <th>date</th>\n",
       "      <th></th>\n",
       "    </tr>\n",
       "  </thead>\n",
       "  <tbody>\n",
       "  </tbody>\n",
       "</table>\n",
       "</div>"
      ],
      "text/plain": [
       "Empty DataFrame\n",
       "Columns: [sentiment]\n",
       "Index: []"
      ]
     },
     "execution_count": 59,
     "metadata": {},
     "output_type": "execute_result"
    }
   ],
   "source": [
    "# Create series True or False for NaN data and present data respectively. \n",
    "nul_df = pd.isnull(df['sentiment']) \n",
    "    \n",
    "# Print only the data, sentiment = NaN \n",
    "df[nul_df]"
   ]
  },
  {
   "cell_type": "code",
   "execution_count": 60,
   "id": "f0804fd3",
   "metadata": {},
   "outputs": [
    {
     "data": {
      "image/png": "[encoded data removed]",
      "text/plain": [
       "<Figure size 576x288 with 1 Axes>"
      ]
     },
     "metadata": {
      "needs_background": "light"
     },
     "output_type": "display_data"
    }
   ],
   "source": [
    "# Set the size of the plot\n",
    "plt.rcParams['figure.figsize'] = (8, 4)\n",
    "\n",
    "# Convert index and 'sentiment' column to numpy arrays before plotting\n",
    "date_values = df_daily.index.to_numpy()\n",
    "sentiment_values = df_daily['sentiment'].to_numpy()\n",
    "\n",
    "# Plot the sentiment \n",
    "plt.plot(date_values, sentiment_values, color='blue')\n",
    "\n",
    "# Add title to the time series plot\n",
    "plt.title('Daily Sentiment in time series')\n",
    "\n",
    "# Add grid lines\n",
    "plt.grid(color='darkgray', linestyle='--', linewidth=0.5)\n",
    "\n",
    "# Show the plot\n",
    "plt.show()"
   ]
  },
  {
   "cell_type": "code",
   "execution_count": 61,
   "id": "659824f6",
   "metadata": {},
   "outputs": [],
   "source": [
    "#!pip install --upgrade scipy"
   ]
  },
  {
   "cell_type": "markdown",
   "id": "9dcd2877",
   "metadata": {},
   "source": [
    "### Imputing the missing values\n",
    "- Before applying time series, it is important to check the missing values, so that there is no disruption between the values that will probably impact the results. \n",
    "- For this, in this particular study, Linear interpolation was chosen to deal with missing values, in which it calculates the linear relationship of the data range and thus estimates the missing values, fitting these gaps."
   ]
  },
  {
   "cell_type": "code",
   "execution_count": 62,
   "id": "353a59e6",
   "metadata": {},
   "outputs": [
    {
     "data": {
      "image/png": "[encoded data removed]",
      "text/plain": [
       "<Figure size 576x288 with 1 Axes>"
      ]
     },
     "metadata": {
      "needs_background": "light"
     },
     "output_type": "display_data"
    }
   ],
   "source": [
    "# Linear interpolation\n",
    "# Set the size of the plot\n",
    "plt.rcParams['figure.figsize'] = (8, 4)\n",
    "\n",
    "# Impute the missing values in the \"sentiment\" column using linear interpolation\n",
    "df_daily['sentiment'].interpolate(method='linear', inplace=True)\n",
    "\n",
    "# Plot the complete dataset\n",
    "plt.plot(df_daily['sentiment'], color='blue')\n",
    "\n",
    "# Add the title of the plot as Linear Interpolation\n",
    "plt.title('Linear Interpolation')\n",
    "\n",
    "# Add grid lines\n",
    "plt.grid(color='darkgray', linestyle='--', linewidth=0.5)\n",
    "\n",
    "# Show the plot\n",
    "plt.show()"
   ]
  },
  {
   "cell_type": "markdown",
   "id": "cd1239e9",
   "metadata": {},
   "source": [
    "### Outliers"
   ]
  },
  {
   "cell_type": "code",
   "execution_count": 63,
   "id": "7895741d",
   "metadata": {},
   "outputs": [
    {
     "data": {
      "image/png": "[encoded data removed]",
      "text/plain": [
       "<Figure size 576x288 with 1 Axes>"
      ]
     },
     "metadata": {
      "needs_background": "light"
     },
     "output_type": "display_data"
    }
   ],
   "source": [
    "# Create box plots for 'sentiment'\n",
    "sns.boxplot(df_daily['sentiment'])\n",
    "\n",
    "# Create a figure \n",
    "plt.plot(figsize=(8, 6))\n",
    "\n",
    "# Show the plot\n",
    "plt.show()"
   ]
  },
  {
   "cell_type": "markdown",
   "id": "71cbcf4d",
   "metadata": {},
   "source": [
    "### Applying Winzorization for Outliers"
   ]
  },
  {
   "cell_type": "code",
   "execution_count": 64,
   "id": "f32de483",
   "metadata": {},
   "outputs": [
    {
     "data": {
      "image/png": "[encoded data removed]",
      "text/plain": [
       "<Figure size 576x432 with 1 Axes>"
      ]
     },
     "metadata": {
      "needs_background": "light"
     },
     "output_type": "display_data"
    }
   ],
   "source": [
    "from scipy.stats.mstats import winsorize\n",
    "\n",
    "# Reduce the impact of extreme outliers (noise) on the data\n",
    "plt.figure(figsize=(8, 6))\n",
    "\n",
    "# Replace the bottom 1% of the lowest value and the top 1% of the highest value\n",
    "winsorized_VALUE = winsorize(df_daily['sentiment'], limits=0.01)\n",
    "plt.boxplot(winsorized_VALUE)\n",
    "plt.title('Winsorized Sentiment Values')\n",
    "\n",
    "# Store the updated values in the dataframe\n",
    "df_daily['sentiment'] = winsorized_VALUE"
   ]
  },
  {
   "cell_type": "code",
   "execution_count": 65,
   "id": "557102ad",
   "metadata": {},
   "outputs": [
    {
     "data": {
      "text/html": [
       "<div>\n",
       "<style scoped>\n",
       "    .dataframe tbody tr th:only-of-type {\n",
       "        vertical-align: middle;\n",
       "    }\n",
       "\n",
       "    .dataframe tbody tr th {\n",
       "        vertical-align: top;\n",
       "    }\n",
       "\n",
       "    .dataframe thead th {\n",
       "        text-align: right;\n",
       "    }\n",
       "</style>\n",
       "<table border=\"1\" class=\"dataframe\">\n",
       "  <thead>\n",
       "    <tr style=\"text-align: right;\">\n",
       "      <th></th>\n",
       "      <th>date</th>\n",
       "      <th>sentiment</th>\n",
       "    </tr>\n",
       "  </thead>\n",
       "  <tbody>\n",
       "    <tr>\n",
       "      <th>count</th>\n",
       "      <td>81</td>\n",
       "      <td>81.000000</td>\n",
       "    </tr>\n",
       "    <tr>\n",
       "      <th>mean</th>\n",
       "      <td>2009-05-16 00:00:00</td>\n",
       "      <td>0.153722</td>\n",
       "    </tr>\n",
       "    <tr>\n",
       "      <th>min</th>\n",
       "      <td>2009-04-06 00:00:00</td>\n",
       "      <td>-0.066730</td>\n",
       "    </tr>\n",
       "    <tr>\n",
       "      <th>25%</th>\n",
       "      <td>2009-04-26 00:00:00</td>\n",
       "      <td>0.170682</td>\n",
       "    </tr>\n",
       "    <tr>\n",
       "      <th>50%</th>\n",
       "      <td>2009-05-16 00:00:00</td>\n",
       "      <td>0.179289</td>\n",
       "    </tr>\n",
       "    <tr>\n",
       "      <th>75%</th>\n",
       "      <td>2009-06-05 00:00:00</td>\n",
       "      <td>0.184681</td>\n",
       "    </tr>\n",
       "    <tr>\n",
       "      <th>max</th>\n",
       "      <td>2009-06-25 00:00:00</td>\n",
       "      <td>0.216152</td>\n",
       "    </tr>\n",
       "    <tr>\n",
       "      <th>std</th>\n",
       "      <td>NaN</td>\n",
       "      <td>0.073995</td>\n",
       "    </tr>\n",
       "  </tbody>\n",
       "</table>\n",
       "</div>"
      ],
      "text/plain": [
       "                      date  sentiment\n",
       "count                   81  81.000000\n",
       "mean   2009-05-16 00:00:00   0.153722\n",
       "min    2009-04-06 00:00:00  -0.066730\n",
       "25%    2009-04-26 00:00:00   0.170682\n",
       "50%    2009-05-16 00:00:00   0.179289\n",
       "75%    2009-06-05 00:00:00   0.184681\n",
       "max    2009-06-25 00:00:00   0.216152\n",
       "std                    NaN   0.073995"
      ]
     },
     "execution_count": 65,
     "metadata": {},
     "output_type": "execute_result"
    }
   ],
   "source": [
    "df_daily.describe()"
   ]
  },
  {
   "cell_type": "markdown",
   "id": "5c72520c",
   "metadata": {},
   "source": [
    "### Seasonality"
   ]
  },
  {
   "cell_type": "code",
   "execution_count": 66,
   "id": "65aef990",
   "metadata": {},
   "outputs": [
    {
     "data": {
      "image/png": "[encoded data removed]",
      "text/plain": [
       "<Figure size 576x288 with 4 Axes>"
      ]
     },
     "metadata": {
      "needs_background": "light"
     },
     "output_type": "display_data"
    }
   ],
   "source": [
    "from statsmodels.tsa.seasonal import seasonal_decompose\n",
    "\n",
    "# Call the 'date' column \n",
    "df_daily['date'] = pd.to_datetime(df_daily['date'])\n",
    "df_daily.set_index('date', inplace=True)\n",
    "\n",
    "# Linear interpolation for missing values\n",
    "df_daily['sentiment'] = df_daily['sentiment'].interpolate(method='linear')\n",
    "\n",
    "# Seasonal decomposition\n",
    "result = seasonal_decompose(df_daily['sentiment'], model='additive', period=1)  # Adjust period based on the expected seasonality\n",
    "\n",
    "# Plot the decomposition\n",
    "result.plot()\n",
    "plt.show()"
   ]
  },
  {
   "cell_type": "code",
   "execution_count": 67,
   "id": "b6f563c0",
   "metadata": {},
   "outputs": [
    {
     "data": {
      "image/png": "[encoded data removed]",
      "text/plain": [
       "<Figure size 576x288 with 1 Axes>"
      ]
     },
     "metadata": {
      "needs_background": "light"
     },
     "output_type": "display_data"
    }
   ],
   "source": [
    "from statsmodels.graphics.tsaplots import plot_acf\n",
    "\n",
    "# Autocorrelation Function (ACF)\n",
    "plot_acf(df_daily['sentiment'], lags=30)\n",
    "plt.show()"
   ]
  },
  {
   "cell_type": "code",
   "execution_count": 68,
   "id": "db9eff03",
   "metadata": {},
   "outputs": [
    {
     "name": "stdout",
     "output_type": "stream",
     "text": [
      "ADF Statistic: -0.3834829330758491\n",
      "p-value: 0.9128202244524831\n",
      "The time series is non-stationary (fail to reject the null hypothesis)\n"
     ]
    }
   ],
   "source": [
    "from statsmodels.tsa.stattools import adfuller\n",
    "\n",
    "# Statistical Tests\n",
    "result_adf = adfuller(df_daily['sentiment'])\n",
    "print('ADF Statistic:', result_adf[0])\n",
    "print('p-value:', result_adf[1])\n",
    "\n",
    "# Interpret the results\n",
    "if result_adf[1] <= 0.05:\n",
    "    print(\"The time series is stationary (reject the null hypothesis)\")\n",
    "else:\n",
    "    print(\"The time series is non-stationary (fail to reject the null hypothesis)\")"
   ]
  },
  {
   "cell_type": "markdown",
   "id": "a3d3943e",
   "metadata": {},
   "source": [
    "### Observation:\n",
    "- Autocorrelation Function (ACF) plot, indicates a positive values at the beginning that gradually drop below 0 as it move further back in time. it suggests a weakening correlation with past observations. It suggest that there might not be a strong seasonality in the data.\n",
    "- The p-value associated with the ADF statistic is 0.9128, suggesting that 'fail to reject the null hypothesis of a unit root'. In other words, indicates that the data is non-stationary and the time series may have a unit root or exhibit a trend."
   ]
  },
  {
   "cell_type": "code",
   "execution_count": 69,
   "id": "581baa04",
   "metadata": {},
   "outputs": [
    {
     "name": "stdout",
     "output_type": "stream",
     "text": [
      "ADF Statistic: -7.227043546632276\n",
      "p-value: 2.0402194026983683e-10\n",
      "The time series is stationary (reject the null hypothesis)\n"
     ]
    },
    {
     "data": {
      "image/png": "[encoded data removed]",
      "text/plain": [
       "<Figure size 576x288 with 1 Axes>"
      ]
     },
     "metadata": {
      "needs_background": "light"
     },
     "output_type": "display_data"
    }
   ],
   "source": [
    "# Perform differenced directly on the \"sentiment\" column\n",
    "df_daily['sentiment'] = df_daily['sentiment'].diff().dropna()\n",
    "\n",
    "# Check for stationarity using ADF test on the differenced data\n",
    "result_adf = adfuller(df_daily['sentiment'].dropna())\n",
    "print('ADF Statistic:', result_adf[0])\n",
    "print('p-value:', result_adf[1])\n",
    "\n",
    "# Interpret the results\n",
    "if result_adf[1] <= 0.05:\n",
    "    print(\"The time series is stationary (reject the null hypothesis)\")\n",
    "else:\n",
    "    print(\"The time series is non-stationary (fail to reject the null hypothesis)\")\n",
    "\n",
    "# Visualize the differenced time series\n",
    "plt.plot(df_daily['sentiment'])\n",
    "plt.title(\"Differenced Time Series\")\n",
    "plt.grid(color='darkgray', linestyle='--', linewidth=0.5)\n",
    "plt.show()"
   ]
  },
  {
   "cell_type": "markdown",
   "id": "ce4e9d70",
   "metadata": {},
   "source": [
    "### Normal Distribution"
   ]
  },
  {
   "cell_type": "code",
   "execution_count": 70,
   "id": "7e797be0",
   "metadata": {},
   "outputs": [
    {
     "data": {
      "image/png": "[encoded data removed]",
      "text/plain": [
       "<Figure size 576x288 with 1 Axes>"
      ]
     },
     "metadata": {
      "needs_background": "light"
     },
     "output_type": "display_data"
    }
   ],
   "source": [
    "import matplotlib.pyplot as plt\n",
    "from scipy.stats import norm\n",
    "\n",
    "# Perform differencing directly on the \"sentiment\" column\n",
    "df_daily['sentiment'] = df_daily['sentiment'].diff().dropna()\n",
    "\n",
    "# Plot histogram of the differenced time series\n",
    "plt.hist(df_daily['sentiment'].dropna(), bins='auto', color='blue', alpha=0.7, density=True)\n",
    "\n",
    "# Fit a normal distribution to the data\n",
    "mu, std = df_daily['sentiment'].mean(), df_daily['sentiment'].std()\n",
    "xmin, xmax = plt.xlim()\n",
    "x = np.linspace(xmin, xmax, 100)\n",
    "p = norm.pdf(x, mu, std)\n",
    "\n",
    "# Plot the normal distribution curve in red\n",
    "plt.plot(x, p, 'r', linewidth=2, label='Normal Distribution')\n",
    "\n",
    "plt.title(\"Histogram with Normal Distribution Curve\")\n",
    "plt.xlabel(\"Sentiment Difference\")\n",
    "plt.ylabel(\"Density\")\n",
    "plt.grid(color='darkgray', linestyle='--', linewidth=0.5)\n",
    "plt.legend()\n",
    "plt.show()"
   ]
  },
  {
   "cell_type": "code",
   "execution_count": 71,
   "id": "8b74a839",
   "metadata": {},
   "outputs": [
    {
     "name": "stdout",
     "output_type": "stream",
     "text": [
      "First Date: 2009-04-06 00:00:00\n",
      "Last Date: 2009-06-25 00:00:00\n",
      "Total Dates: 81\n"
     ]
    }
   ],
   "source": [
    "# Print the first and last date\n",
    "first_date = df_daily.index[0]\n",
    "last_date = df_daily.index[-1]\n",
    "\n",
    "print(\"First Date:\", first_date)\n",
    "print(\"Last Date:\", last_date)\n",
    "\n",
    "# Print the total count of dates\n",
    "total_dates = len(df_daily)\n",
    "print(\"Total Dates:\", total_dates)"
   ]
  },
  {
   "cell_type": "markdown",
   "id": "fa39bf6a",
   "metadata": {},
   "source": [
    "### Splitting the dataset into test and train"
   ]
  },
  {
   "cell_type": "code",
   "execution_count": 72,
   "id": "2de70b44",
   "metadata": {},
   "outputs": [
    {
     "name": "stdout",
     "output_type": "stream",
     "text": [
      "Count of values in training set: 56\n",
      "Count of values in testing set: 25\n",
      "               sentiment\n",
      "date                    \n",
      "2009-06-01 -2.097260e-02\n",
      "2009-06-02  2.070569e-02\n",
      "2009-06-03 -2.901288e-03\n",
      "2009-06-04 -1.083862e-02\n",
      "2009-06-05  3.440027e-02\n",
      "2009-06-06 -2.336571e-02\n",
      "2009-06-07  2.397025e-03\n",
      "2009-06-08 -2.026733e-03\n",
      "2009-06-09  2.775558e-17\n",
      "2009-06-10 -2.775558e-17\n",
      "2009-06-11  2.775558e-17\n",
      "2009-06-12 -2.775558e-17\n",
      "2009-06-13  2.775558e-17\n",
      "2009-06-14 -2.775558e-17\n",
      "2009-06-15 -7.743943e-03\n",
      "2009-06-16 -7.871804e-02\n",
      "2009-06-17 -4.278670e-02\n",
      "2009-06-18  1.276488e-01\n",
      "2009-06-19  8.319162e-03\n",
      "2009-06-20  1.812048e-03\n",
      "2009-06-21  6.151536e-03\n",
      "2009-06-22 -5.424046e-02\n",
      "2009-06-23  5.211725e-02\n",
      "2009-06-24 -3.303951e-03\n",
      "2009-06-25 -1.677116e-02\n"
     ]
    }
   ],
   "source": [
    "# Calculate the percentage split\n",
    "percentage_train = 0.7\n",
    "total_days = len(df_daily)\n",
    "split_index = int(percentage_train * total_days)\n",
    "\n",
    "# Extract the split date\n",
    "split_date = df_daily.index[split_index]\n",
    "\n",
    "# Create training and testing sets\n",
    "train = df_daily[df_daily.index < split_date]\n",
    "test = df_daily[df_daily.index >= split_date]\n",
    "\n",
    "# Print the count of values in the training and testing sets\n",
    "print(f\"Count of values in training set: {len(train)}\")\n",
    "print(f\"Count of values in testing set: {len(test)}\")\n",
    "\n",
    "# Print the testing set\n",
    "print(test)"
   ]
  },
  {
   "cell_type": "code",
   "execution_count": 73,
   "id": "78ca14bd",
   "metadata": {},
   "outputs": [
    {
     "data": {
      "image/png": "[encoded data removed]",
      "text/plain": [
       "<Figure size 576x288 with 1 Axes>"
      ]
     },
     "metadata": {
      "needs_background": "light"
     },
     "output_type": "display_data"
    }
   ],
   "source": [
    "plt.plot(train, color = \"black\", label = 'Training')\n",
    "plt.plot(test, color = \"red\", label = 'Testing')\n",
    "plt.ylabel('sentiment')\n",
    "plt.xlabel('date')\n",
    "plt.xticks(rotation=45)\n",
    "plt.title(\"Train/Test split for Sentiment\")\n",
    "plt.grid(color='darkgray', linestyle='--', linewidth=0.5)\n",
    "plt.show()"
   ]
  },
  {
   "cell_type": "markdown",
   "id": "b6b9a894",
   "metadata": {},
   "source": [
    "### Model 1: Autoregressive Integrated Moving Average (ARIMA) "
   ]
  },
  {
   "cell_type": "code",
   "execution_count": 74,
   "id": "8a1faf35",
   "metadata": {
    "scrolled": false
   },
   "outputs": [
    {
     "name": "stdout",
     "output_type": "stream",
     "text": [
      "Best Order (p, d, q): (1, 0, 1) with AIC: -295.91479979933854\n"
     ]
    }
   ],
   "source": [
    "import itertools\n",
    "from statsmodels.tsa.arima.model import ARIMA\n",
    "from sklearn.metrics import mean_squared_error\n",
    "from math import sqrt\n",
    "import warnings\n",
    "warnings.filterwarnings(\"ignore\")\n",
    "\n",
    "# Split the data into training and testing sets\n",
    "train_size = int(len(df_daily) * 0.7)\n",
    "train, test = df_daily.iloc[:train_size], df_daily.iloc[train_size:]\n",
    "\n",
    "# Determine the range for p, d, q \n",
    "p = d = q = range(0, 3)  # Example: Considering values up to 3 for simplicity\n",
    "\n",
    "# Use the Grid Search Hyperparameter\n",
    "# Generate all possible combinations of p, d, q parameters \n",
    "pdq = list(itertools.product(p, d, q))\n",
    "\n",
    "# Fit ARIMA models and select the one with the lowest AIC\n",
    "best_aic = float('inf')\n",
    "best_order = None\n",
    "\n",
    "for order in pdq:\n",
    "    try:\n",
    "        model = ARIMA(train['sentiment'], order=order, freq='D')  # Specify frequency\n",
    "        fit_model = model.fit()\n",
    "        current_aic = fit_model.aic\n",
    "        if current_aic < best_aic:\n",
    "            best_aic = current_aic\n",
    "            best_order = order\n",
    "    except:\n",
    "        continue\n",
    "\n",
    "print(f'Best Order (p, d, q): {best_order} with AIC: {best_aic}')"
   ]
  },
  {
   "cell_type": "code",
   "execution_count": 75,
   "id": "cf5017b6",
   "metadata": {},
   "outputs": [
    {
     "name": "stdout",
     "output_type": "stream",
     "text": [
      "Root Mean Squared Error (RMSE): 0.03696263651409014\n"
     ]
    },
    {
     "data": {
      "image/png": "[encoded data removed]",
      "text/plain": [
       "<Figure size 576x288 with 1 Axes>"
      ]
     },
     "metadata": {
      "needs_background": "light"
     },
     "output_type": "display_data"
    }
   ],
   "source": [
    "# Use the best_order to fit your final ARIMA model\n",
    "final_model = ARIMA(df_daily['sentiment'], order=best_order)\n",
    "final_fit_model = final_model.fit()\n",
    "\n",
    "# Forecast\n",
    "predictions = fit_model.predict(start=len(train), end=len(train) + len(test) - 1, typ='levels')\n",
    "\n",
    "# Evaluate the model\n",
    "rmse = sqrt(mean_squared_error(test['sentiment'], predictions))\n",
    "print(f'Root Mean Squared Error (RMSE): {rmse}')\n",
    "\n",
    "# Apply the ARIMA model to the test set\n",
    "predictions = final_fit_model.predict(start=len(train), end=len(train) + len(test) - 1, typ='levels')\n",
    "\n",
    "# Plot the predictions\n",
    "predictions = final_fit_model.predict(start=len(train), end=len(train) + len(test) - 1, typ='levels')\n",
    "plt.plot(df_daily.index, df_daily['sentiment'], label='Actual Data')\n",
    "plt.plot(test.index, predictions, label='ARIMA Predictions', color='red')\n",
    "plt.title('ARIMA Forecasting with Best Order')\n",
    "plt.legend()\n",
    "plt.show()"
   ]
  },
  {
   "cell_type": "markdown",
   "id": "dbef9d72",
   "metadata": {},
   "source": [
    "### Model 2: LSTM (Long Short-Term Memory) "
   ]
  },
  {
   "cell_type": "markdown",
   "id": "035df58d",
   "metadata": {},
   "source": [
    "### Training and Testing Data"
   ]
  },
  {
   "cell_type": "code",
   "execution_count": 76,
   "id": "2c64b27e",
   "metadata": {},
   "outputs": [
    {
     "name": "stdout",
     "output_type": "stream",
     "text": [
      "(56, 1)\n",
      "(25, 1)\n"
     ]
    }
   ],
   "source": [
    "# Training Data\n",
    "# Selecting sentiment\n",
    "dataset_train = train['sentiment']  # Use 'train' instead of 'train_data'\n",
    "\n",
    "# Reshaping 1D to 2D array\n",
    "dataset_train = np.reshape(dataset_train.values, (-1, 1))  # Convert to values and then reshape\n",
    "print(dataset_train.shape)\n",
    "\n",
    "# Testing Data\n",
    "# Selecting sentiment\n",
    "dataset_test = test['sentiment']  # Use 'test' instead of 'test_data'\n",
    "\n",
    "# Reshaping 1D to 2D array\n",
    "dataset_test = np.reshape(dataset_test.values, (-1, 1))  # Convert to values and then reshape\n",
    "print(dataset_test.shape)"
   ]
  },
  {
   "cell_type": "markdown",
   "id": "bf17d408",
   "metadata": {},
   "source": [
    "### Normalization"
   ]
  },
  {
   "cell_type": "code",
   "execution_count": 77,
   "id": "d8a4ce5b",
   "metadata": {},
   "outputs": [
    {
     "name": "stdout",
     "output_type": "stream",
     "text": [
      "[[0.44214245]\n",
      " [0.44214245]\n",
      " [0.3687859 ]\n",
      " [0.44214245]\n",
      " [0.44214245]]\n",
      "[[0.32143052]\n",
      " [0.56131812]\n",
      " [0.42544351]\n",
      " [0.37975865]\n",
      " [0.64013995]]\n"
     ]
    }
   ],
   "source": [
    "from sklearn.preprocessing import MinMaxScaler\n",
    "import numpy as np\n",
    "\n",
    "# Handle missing values (replace NaN with a specific value or impute)\n",
    "train = np.nan_to_num(train)\n",
    "test = np.nan_to_num(test)\n",
    "\n",
    "# Create a scaler and fit it on the training data\n",
    "scaler = MinMaxScaler(feature_range=(0, 1))\n",
    "scaled_train = scaler.fit_transform(train)\n",
    "print(scaled_train[:5])\n",
    "\n",
    "# Use the same scaler to transform the test data\n",
    "scaled_test = scaler.transform(test)\n",
    "print(scaled_test[:5])"
   ]
  },
  {
   "cell_type": "markdown",
   "id": "eb3b71b8",
   "metadata": {},
   "source": [
    "### Transforming the data into Sequence"
   ]
  },
  {
   "cell_type": "code",
   "execution_count": 78,
   "id": "f8c073fb",
   "metadata": {
    "scrolled": false
   },
   "outputs": [
    {
     "data": {
      "text/plain": [
       "(torch.Size([15, 10, 1]), torch.Size([15, 1, 1]))"
      ]
     },
     "execution_count": 78,
     "metadata": {},
     "output_type": "execute_result"
    }
   ],
   "source": [
    "import torch\n",
    "\n",
    "# Create sequences and labels for training data\n",
    "sequence_length_train = 50\n",
    "X_train, y_train = [], []\n",
    "for i in range(len(scaled_train) - sequence_length_train):\n",
    "    X_train.append(scaled_train[i:i + sequence_length_train])\n",
    "    y_train.append(scaled_train[i + sequence_length_train:i + sequence_length_train + 1])\n",
    "\n",
    "X_train, y_train = np.array(X_train), np.array(y_train)\n",
    "\n",
    "# Convert data to PyTorch tensors\n",
    "X_train = torch.tensor(X_train, dtype=torch.float32)\n",
    "y_train = torch.tensor(y_train, dtype=torch.float32)\n",
    "\n",
    "# Create sequences and labels for testing data\n",
    "sequence_length_test = 10\n",
    "X_test, y_test = [], []\n",
    "for i in range(len(scaled_test) - sequence_length_test):\n",
    "    X_test.append(scaled_test[i:i + sequence_length_test])\n",
    "    y_test.append(scaled_test[i + sequence_length_test:i + sequence_length_test + 1])\n",
    "\n",
    "X_test, y_test = np.array(X_test), np.array(y_test)\n",
    "\n",
    "# Convert data to PyTorch tensors\n",
    "X_test = torch.tensor(X_test, dtype=torch.float32)\n",
    "y_test = torch.tensor(y_test, dtype=torch.float32)\n",
    "\n",
    "\n",
    "X_train.shape,y_train.shape\n",
    "X_test.shape, y_test.shape"
   ]
  },
  {
   "cell_type": "markdown",
   "id": "0b6cefa4",
   "metadata": {},
   "source": [
    "### Define LSTM class model"
   ]
  },
  {
   "cell_type": "code",
   "execution_count": 79,
   "id": "f3502a60",
   "metadata": {},
   "outputs": [],
   "source": [
    "import torch.nn as nn\n",
    "\n",
    "class LSTMModel(nn.Module):\n",
    "      # input_size : number of features in input at each time step\n",
    "      # hidden_size : Number of LSTM units \n",
    "      # num_layers : number of LSTM layers \n",
    "    def __init__(self, input_size, hidden_size, num_layers): \n",
    "        super(LSTMModel, self).__init__() #initializes the parent class nn.Module\n",
    "        self.lstm = nn.LSTM(input_size, hidden_size, num_layers, batch_first=True)\n",
    "        self.linear = nn.Linear(hidden_size, 1)\n",
    " \n",
    "    def forward(self, x): # defines forward pass of the neural network\n",
    "        out, _ = self.lstm(x)\n",
    "        out = self.linear(out)\n",
    "        return out"
   ]
  },
  {
   "cell_type": "markdown",
   "id": "ceb87baf",
   "metadata": {},
   "source": [
    "### Check Hardware Availability"
   ]
  },
  {
   "cell_type": "code",
   "execution_count": 80,
   "id": "6d50de5c",
   "metadata": {},
   "outputs": [
    {
     "name": "stdout",
     "output_type": "stream",
     "text": [
      "cpu\n"
     ]
    }
   ],
   "source": [
    "device = torch.device('cuda' if torch.cuda.is_available() else 'cpu')\n",
    "print(device)"
   ]
  },
  {
   "cell_type": "markdown",
   "id": "5e83719e",
   "metadata": {},
   "source": [
    "### Defining the model"
   ]
  },
  {
   "cell_type": "code",
   "execution_count": 81,
   "id": "bf9bfa30",
   "metadata": {},
   "outputs": [
    {
     "name": "stdout",
     "output_type": "stream",
     "text": [
      "LSTMModel(\n",
      "  (lstm): LSTM(1, 10, num_layers=2, batch_first=True)\n",
      "  (linear): Linear(in_features=10, out_features=1, bias=True)\n",
      ")\n"
     ]
    }
   ],
   "source": [
    "input_size = 1\n",
    "num_layers = 2\n",
    "hidden_size = 10\n",
    "output_size = 1\n",
    " \n",
    "# Define the model, loss function, and optimizer\n",
    "model = LSTMModel(input_size, hidden_size, num_layers).to(device)\n",
    "\n",
    "loss_fn = torch.nn.MSELoss(reduction='mean')\n",
    "\n",
    "# Define the optimizer here\n",
    "optimizer = torch.optim.Adam(model.parameters(), lr=1e-3)  # Adjust the learning rate as needed\n",
    "\n",
    "print(model)"
   ]
  },
  {
   "cell_type": "markdown",
   "id": "9627292a",
   "metadata": {},
   "source": [
    "### Creating Data Loader for batch training"
   ]
  },
  {
   "cell_type": "code",
   "execution_count": 82,
   "id": "7bf68451",
   "metadata": {},
   "outputs": [],
   "source": [
    "from torch.utils.data import DataLoader\n",
    "\n",
    "batch_size = 15\n",
    "# Create DataLoader for batch training\n",
    "train_dataset = torch.utils.data.TensorDataset(X_train, y_train)\n",
    "train_loader = torch.utils.data.DataLoader(train_dataset, batch_size=batch_size, shuffle=True)\n",
    " \n",
    "# Create DataLoader for batch training\n",
    "test_dataset = torch.utils.data.TensorDataset(X_test, y_test)\n",
    "test_loader = torch.utils.data.DataLoader(test_dataset, batch_size=batch_size, shuffle=False)"
   ]
  },
  {
   "cell_type": "markdown",
   "id": "90913e80",
   "metadata": {},
   "source": [
    "### Model Training & Evaluations"
   ]
  },
  {
   "cell_type": "code",
   "execution_count": 83,
   "id": "5791c2e3",
   "metadata": {},
   "outputs": [
    {
     "name": "stdout",
     "output_type": "stream",
     "text": [
      "Epoch [10/50] - Training Loss: 0.0821, Test Loss: 0.0706\n",
      "Epoch [20/50] - Training Loss: 0.0805, Test Loss: 0.0690\n",
      "Epoch [30/50] - Training Loss: 0.0804, Test Loss: 0.0689\n",
      "Epoch [40/50] - Training Loss: 0.0802, Test Loss: 0.0689\n",
      "Epoch [50/50] - Training Loss: 0.0802, Test Loss: 0.0688\n"
     ]
    }
   ],
   "source": [
    "# Training loop\n",
    "num_epochs = 50\n",
    "train_hist = []\n",
    "test_hist = []\n",
    "\n",
    "for epoch in range(num_epochs):\n",
    "    total_loss = 0.0\n",
    "\n",
    "    # Training\n",
    "    model.train()\n",
    "    for batch_X, batch_y in train_loader:\n",
    "        batch_X, batch_y = batch_X.to(device), batch_y.to(device)\n",
    "        predictions = model(batch_X)\n",
    "        loss = loss_fn(predictions, batch_y)\n",
    "\n",
    "        optimizer.zero_grad()\n",
    "        loss.backward()\n",
    "        optimizer.step()\n",
    "\n",
    "        total_loss += loss.item()\n",
    "\n",
    "    # Calculate average training loss\n",
    "    average_loss = total_loss / len(train_loader)\n",
    "    train_hist.append(average_loss)\n",
    "\n",
    "    # Validation on test data\n",
    "    model.eval()\n",
    "    with torch.no_grad():\n",
    "        total_test_loss = 0.0\n",
    "        num_batches = len(test_loader)\n",
    "\n",
    "        if num_batches > 0:\n",
    "            for batch_X_test, batch_y_test in test_loader:\n",
    "                batch_X_test, batch_y_test = batch_X_test.to(device), batch_y_test.to(device)\n",
    "                predictions_test = model(batch_X_test)\n",
    "                test_loss = loss_fn(predictions_test, batch_y_test)\n",
    "\n",
    "                total_test_loss += test_loss.item()\n",
    "\n",
    "            # Calculate average test loss\n",
    "            average_test_loss = total_test_loss / num_batches\n",
    "            test_hist.append(average_test_loss)\n",
    "\n",
    "            if (epoch + 1) % 10 == 0:\n",
    "                print(f'Epoch [{epoch + 1}/{num_epochs}] - Training Loss: {average_loss:.4f}, Test Loss: {average_test_loss:.4f}')\n",
    "        else:\n",
    "            print(f'Warning: Empty test loader at epoch {epoch + 1}')"
   ]
  },
  {
   "cell_type": "code",
   "execution_count": 84,
   "id": "92c303da",
   "metadata": {},
   "outputs": [
    {
     "name": "stdout",
     "output_type": "stream",
     "text": [
      "Root Mean Squared Error (RMSE): 0.2594221532344818\n"
     ]
    }
   ],
   "source": [
    "# Calculate predictions on the test set\n",
    "model.eval()\n",
    "y_true_test = []\n",
    "y_pred_test = []\n",
    "\n",
    "with torch.no_grad():\n",
    "    for batch_X_test, batch_y_test in test_loader:\n",
    "        batch_X_test, batch_y_test = batch_X_test.to(device), batch_y_test.to(device)\n",
    "        predictions_test = model(batch_X_test)\n",
    "\n",
    "        # Assuming predictions have shape [batch_size, sequence_length, 1]\n",
    "        predictions_test = predictions_test[:, -1, :]  # Extract the last time step\n",
    "        predictions_test = predictions_test.view(-1)  # Flatten to 1D\n",
    "\n",
    "        y_true_test.extend(batch_y_test.cpu().numpy().ravel())\n",
    "        y_pred_test.extend(predictions_test.cpu().numpy().ravel())\n",
    "\n",
    "y_true_test = np.array(y_true_test)\n",
    "y_pred_test = np.array(y_pred_test)\n",
    "\n",
    "# Ensure the lengths of y_true_test and y_pred_test match\n",
    "if len(y_true_test) != len(y_pred_test):\n",
    "    raise ValueError(\"Inconsistent number of samples between y_true_test and y_pred_test\")\n",
    "\n",
    "# Calculate Mean Squared Error (MSE) and Root Mean Squared Error (RMSE)\n",
    "mse = mean_squared_error(y_true_test, y_pred_test)\n",
    "rmse = np.sqrt(mse)\n",
    "\n",
    "print(f\"Root Mean Squared Error (RMSE): {rmse}\")"
   ]
  },
  {
   "cell_type": "markdown",
   "id": "46022664",
   "metadata": {},
   "source": [
    "### Plotting the Learning Curve"
   ]
  },
  {
   "cell_type": "code",
   "execution_count": 85,
   "id": "c0df8596",
   "metadata": {},
   "outputs": [
    {
     "data": {
      "image/png": "[encoded data removed]",
      "text/plain": [
       "<Figure size 576x288 with 1 Axes>"
      ]
     },
     "metadata": {
      "needs_background": "light"
     },
     "output_type": "display_data"
    }
   ],
   "source": [
    "x = np.linspace(1,num_epochs,num_epochs)\n",
    "plt.plot(x,train_hist,scalex=True, label=\"Training loss\")\n",
    "plt.plot(x, test_hist, label=\"Test loss\")\n",
    "plt.legend()\n",
    "plt.grid(color='darkgray', linestyle='--', linewidth=0.5)\n",
    "plt.show()"
   ]
  },
  {
   "cell_type": "markdown",
   "id": "d276743b",
   "metadata": {},
   "source": [
    "### Forecasting"
   ]
  },
  {
   "cell_type": "code",
   "execution_count": 86,
   "id": "432c39e0",
   "metadata": {},
   "outputs": [
    {
     "name": "stdout",
     "output_type": "stream",
     "text": [
      "(10,)\n"
     ]
    }
   ],
   "source": [
    "# Convert it to a Pandas DataFrame with an appropriate index\n",
    "test_df = pd.DataFrame(data=test, index=pd.date_range(start='2009-04-06', periods=len(test)))\n",
    "\n",
    "# Define the number of future time steps to forecast\n",
    "num_forecast_steps = 30\n",
    "\n",
    "# Convert to NumPy and remove singleton dimensions\n",
    "sequence_to_plot = X_test.squeeze().cpu().numpy()\n",
    "\n",
    "# Use the last 30 data points as the starting point\n",
    "historical_data = sequence_to_plot[-1]\n",
    "print(historical_data.shape)\n",
    "\n",
    "# Initialize a list to store the forecasted values\n",
    "forecasted_values = []\n",
    "\n",
    "# Use the trained model to forecast future values\n",
    "with torch.no_grad():\n",
    "    for _ in range(num_forecast_steps):\n",
    "        # Prepare the historical_data tensor\n",
    "        historical_data_tensor = torch.as_tensor(historical_data).view(1, -1, 1).float().to(device)\n",
    "        # Use the model to predict the next value\n",
    "        predicted_value = model(historical_data_tensor).cpu().numpy()[0, 0]\n",
    "\n",
    "        # Append the predicted value to the forecasted_values list\n",
    "        forecasted_values.append(predicted_value)\n",
    "\n",
    "        # Update the historical_data sequence by removing the oldest value and adding the predicted value\n",
    "        historical_data = np.roll(historical_data, shift=-1)\n",
    "        historical_data[-1] = predicted_value\n",
    "\n",
    "# Get the last date from the DataFrame index\n",
    "last_date = test_df.index[-1]\n",
    "\n",
    "# Generate the next 30 dates\n",
    "future_dates = pd.date_range(start=last_date + pd.DateOffset(1), periods=num_forecast_steps)\n",
    "\n",
    "# Concatenate the original index with the future dates\n",
    "combined_index = test_df.index.append(future_dates)"
   ]
  },
  {
   "cell_type": "markdown",
   "id": "b672d9a7",
   "metadata": {},
   "source": [
    "### Prediction Graph"
   ]
  },
  {
   "cell_type": "code",
   "execution_count": 87,
   "id": "986aa30b",
   "metadata": {},
   "outputs": [
    {
     "data": {
      "image/png": "[encoded data removed]",
      "text/plain": [
       "<Figure size 1008x288 with 1 Axes>"
      ]
     },
     "metadata": {
      "needs_background": "light"
     },
     "output_type": "display_data"
    }
   ],
   "source": [
    "# Set the size of the plot \n",
    "plt.rcParams['figure.figsize'] = [14, 4] \n",
    "\n",
    "# Reverse the scaling transformation for actual values\n",
    "original_cases = scaler.inverse_transform(np.expand_dims(sequence_to_plot[-1], axis=0)).flatten()\n",
    "\n",
    "# The historical data used as input for forecasting\n",
    "plt.plot(test_df.index[-10:], original_cases[-10:], label='actual values', color='blue')\n",
    "\n",
    "# Forecasted Values\n",
    "# Manually scale back the forecasted values to their original range\n",
    "data_max = scaler.data_max_[0]\n",
    "data_min = scaler.data_min_[0]\n",
    "forecasted_cases = np.array(forecasted_values[-10:]) * (data_max - data_min) + data_min\n",
    "\n",
    "# Create a common time index for both actual and forecasted values\n",
    "common_index = test_df.index[-10:]\n",
    "\n",
    "# Plotting the forecasted values\n",
    "forecasted_cases = forecasted_cases.flatten()  # Ensure it's a 1D array\n",
    "plt.plot(common_index, forecasted_cases, label='forecasted values', color='red')\n",
    "\n",
    "plt.xlabel('Time Step')\n",
    "plt.ylabel('sentiment')\n",
    "plt.legend()\n",
    "plt.title('Time Series Forecasting')\n",
    "plt.grid(color='darkgray', linestyle='--', linewidth=0.5)"
   ]
  },
  {
   "cell_type": "markdown",
   "id": "141e5d34",
   "metadata": {},
   "source": [
    "### Cross-Validation"
   ]
  },
  {
   "cell_type": "code",
   "execution_count": 88,
   "id": "d129c8cd",
   "metadata": {},
   "outputs": [],
   "source": [
    "# !pip install tabulate"
   ]
  },
  {
   "cell_type": "code",
   "execution_count": 89,
   "id": "b6efccc5",
   "metadata": {
    "scrolled": true
   },
   "outputs": [
    {
     "name": "stdout",
     "output_type": "stream",
     "text": [
      "+---------------------+------------------------+---------------------+\n",
      "|        Date         |   ARIMA Predictions    |  LSTM Predictions   |\n",
      "+---------------------+------------------------+---------------------+\n",
      "| 2009-04-06 00:00:00 | -0.005358239910518859  | 0.34170982241630554 |\n",
      "| 2009-04-07 00:00:00 |  0.011490567560283398  | 0.3748956620693207  |\n",
      "| 2009-04-08 00:00:00 | -0.005599777164522292  | 0.3996616005897522  |\n",
      "| 2009-04-09 00:00:00 | -0.0033332255445573593 | 0.41727831959724426 |\n",
      "| 2009-04-10 00:00:00 | 0.0053074964045331935  | 0.4291527271270752  |\n",
      "| 2009-04-11 00:00:00 | -0.022757009769417663  | 0.4375118017196655  |\n",
      "| 2009-04-12 00:00:00 | -0.003667347901855806  | 0.4429683983325958  |\n",
      "| 2009-04-13 00:00:00 | -0.0057198891953244265 |  0.44654381275177   |\n",
      "| 2009-04-14 00:00:00 | -0.004162620944128838  | 0.44885554909706116 |\n",
      "| 2009-04-15 00:00:00 | -0.004270631230179077  | 0.45035064220428467 |\n",
      "| 2009-04-16 00:00:00 | -0.004377975799231808  | 0.34176021814346313 |\n",
      "| 2009-04-17 00:00:00 | -0.004484684608498426  | 0.37523549795150757 |\n",
      "| 2009-04-18 00:00:00 | -0.004590785836316741  | 0.40004464983940125 |\n",
      "| 2009-04-19 00:00:00 | -0.004696306012139013  | 0.4173540472984314  |\n",
      "| 2009-04-20 00:00:00 | -0.004801270135285167  | 0.42957955598831177 |\n",
      "| 2009-04-21 00:00:00 | 0.0013714999680929977  | 0.4377102255821228  |\n",
      "| 2009-04-22 00:00:00 |  0.06500368744552718   | 0.4430946707725525  |\n",
      "| 2009-04-23 00:00:00 |   0.0986319276603363   | 0.4466116428375244  |\n",
      "| 2009-04-24 00:00:00 | -0.006431024516920082  | 0.44889992475509644 |\n",
      "| 2009-04-25 00:00:00 | -0.013267005751144893  | 0.4503837823867798  |\n",
      "| 2009-04-26 00:00:00 |  -0.01473411720397272  | 0.3417353630065918  |\n",
      "| 2009-04-27 00:00:00 |  -0.01970702024505751  | 0.3750784397125244  |\n",
      "| 2009-04-28 00:00:00 |  0.024411754950057853  | 0.3996182680130005  |\n",
      "| 2009-04-29 00:00:00 | -0.018393988194109395  |  0.417331337928772  |\n",
      "| 2009-04-30 00:00:00 |  -0.01565129201068974  | 0.4294138550758362  |\n",
      "| 2009-05-01 00:00:00 |          nan           |    [0.34172904]     |\n",
      "| 2009-05-02 00:00:00 |          nan           |    [0.34159508]     |\n",
      "| 2009-05-03 00:00:00 |          nan           |     [0.3416721]     |\n",
      "| 2009-05-04 00:00:00 |          nan           |    [0.34173387]     |\n",
      "| 2009-05-05 00:00:00 |          nan           |    [0.34174842]     |\n",
      "| 2009-05-06 00:00:00 |          nan           |    [0.34174109]     |\n",
      "| 2009-05-07 00:00:00 |          nan           |    [0.34174606]     |\n",
      "| 2009-05-08 00:00:00 |          nan           |    [0.34164944]     |\n",
      "| 2009-05-09 00:00:00 |          nan           |     [0.3417772]     |\n",
      "| 2009-05-10 00:00:00 |          nan           |    [0.34173483]     |\n",
      "| 2009-05-11 00:00:00 |          nan           |    [0.34171522]     |\n",
      "| 2009-05-12 00:00:00 |          nan           |     [0.3417152]     |\n",
      "| 2009-05-13 00:00:00 |          nan           |    [0.34171522]     |\n",
      "| 2009-05-14 00:00:00 |          nan           |    [0.34171525]     |\n",
      "| 2009-05-15 00:00:00 |          nan           |    [0.34171525]     |\n",
      "| 2009-05-16 00:00:00 |          nan           |    [0.34171522]     |\n",
      "| 2009-05-17 00:00:00 |          nan           |    [0.34171525]     |\n",
      "| 2009-05-18 00:00:00 |          nan           |    [0.34171522]     |\n",
      "| 2009-05-19 00:00:00 |          nan           |    [0.34171525]     |\n",
      "| 2009-05-20 00:00:00 |          nan           |    [0.34171525]     |\n",
      "| 2009-05-21 00:00:00 |          nan           |    [0.34171522]     |\n",
      "| 2009-05-22 00:00:00 |          nan           |    [0.34171522]     |\n",
      "| 2009-05-23 00:00:00 |          nan           |    [0.34171522]     |\n",
      "| 2009-05-24 00:00:00 |          nan           |    [0.34171522]     |\n",
      "| 2009-05-25 00:00:00 |          nan           |    [0.34171522]     |\n",
      "| 2009-05-26 00:00:00 |          nan           |    [0.34171522]     |\n",
      "| 2009-05-27 00:00:00 |          nan           |    [0.34171522]     |\n",
      "| 2009-05-28 00:00:00 |          nan           |    [0.34171522]     |\n",
      "| 2009-05-29 00:00:00 |          nan           |    [0.34171522]     |\n",
      "| 2009-05-30 00:00:00 |          nan           |    [0.34171522]     |\n",
      "+---------------------+------------------------+---------------------+\n"
     ]
    }
   ],
   "source": [
    "from tabulate import tabulate\n",
    "\n",
    "# Make predictions on your test data\n",
    "arima_predictions = final_fit_model.predict(start=len(train), end=len(train) + len(test) - 1, typ='levels')\n",
    "lstm_predictions = model(X_test).detach().cpu().numpy().flatten()\n",
    "\n",
    "# Ensure that arima_predictions and lstm_predictions have the same length\n",
    "min_length = min(len(arima_predictions), len(lstm_predictions))\n",
    "arima_predictions = arima_predictions[:min_length]\n",
    "lstm_predictions = lstm_predictions[:min_length]\n",
    "\n",
    "# Create a DataFrame for initial predictions\n",
    "predictions_df = pd.DataFrame({\n",
    "    'Date': test_df.index[:min_length],\n",
    "    'ARIMA Predictions': arima_predictions,\n",
    "    'LSTM Predictions': lstm_predictions\n",
    "})\n",
    "\n",
    "# Generate the next 30 dates\n",
    "future_dates = pd.date_range(start=test_df.index[-1] + pd.DateOffset(1), periods=num_forecast_steps)\n",
    "\n",
    "# Create a DataFrame for future predictions\n",
    "future_predictions_df = pd.DataFrame({\n",
    "    'Date': future_dates,\n",
    "    'ARIMA Predictions': [np.nan] * num_forecast_steps,  # Placeholder for ARIMA predictions (you can replace with actual values)\n",
    "    'LSTM Predictions': forecasted_values[-num_forecast_steps:]  # Use the last 30 LSTM predictions\n",
    "})\n",
    "\n",
    "# Concatenate the original predictions_df with the future_predictions_df\n",
    "combined_predictions_df = pd.concat([predictions_df, future_predictions_df], ignore_index=True)\n",
    "\n",
    "# Print the combined DataFrame using tabulate\n",
    "print(tabulate(combined_predictions_df, headers='keys', tablefmt='pretty', showindex=False))"
   ]
  },
  {
   "cell_type": "code",
   "execution_count": 90,
   "id": "c099418b",
   "metadata": {
    "scrolled": true
   },
   "outputs": [
    {
     "name": "stdout",
     "output_type": "stream",
     "text": [
      "   Model       MAE      RMSE       MSE\n",
      "0  ARIMA  0.017058  0.027206  0.000740\n",
      "1   LSTM  0.414399  0.415930  0.172998\n"
     ]
    }
   ],
   "source": [
    "from sklearn.metrics import mean_absolute_error\n",
    "\n",
    "# Impute NaN values with mean\n",
    "df_daily['sentiment'].fillna(df_daily['sentiment'].mean(), inplace=True)\n",
    "\n",
    "# Make predictions on test data using LSTM & ARIMA\n",
    "lstm_predictions = model(X_test).detach().cpu().numpy().flatten()[:len(test)]\n",
    "arima_predictions = final_fit_model.predict(start=len(train), end=len(train) + len(test) - 1, typ='levels')[:len(test)]\n",
    "\n",
    "# Calculate metrics for ARIMA\n",
    "arima_mae = mean_absolute_error(df_daily['sentiment'][:len(test)], arima_predictions)\n",
    "arima_rmse = np.sqrt(mean_squared_error(df_daily['sentiment'][:len(test)], arima_predictions))\n",
    "arima_mse = mean_squared_error(df_daily['sentiment'][:len(test)], arima_predictions)\n",
    "\n",
    "# Calculate metrics for LSTM\n",
    "lstm_mae = mean_absolute_error(df_daily['sentiment'][:len(test)], lstm_predictions)\n",
    "lstm_rmse = np.sqrt(mean_squared_error(df_daily['sentiment'][:len(test)], lstm_predictions))\n",
    "lstm_mse = mean_squared_error(df_daily['sentiment'][:len(test)], lstm_predictions)\n",
    "\n",
    "# Display the metrics\n",
    "metrics_df = pd.DataFrame({\n",
    "    'Model': ['ARIMA', 'LSTM'],\n",
    "    'MAE': [arima_mae, lstm_mae],\n",
    "    'RMSE': [arima_rmse, lstm_rmse],\n",
    "    'MSE': [arima_mse, lstm_mse]\n",
    "})\n",
    "\n",
    "print(metrics_df)"
   ]
  },
  {
   "cell_type": "markdown",
   "id": "2ed2f47d",
   "metadata": {},
   "source": [
    "### Observation:\n",
    "- ARIMA had the best performance, as it presented the lowest error rates in the metrics shown.\n",
    "- It is important to highlight that the dataset is not large enough to use the LSTM model, but it was still chosen to apply different techniques and compare the performances and techniques as it was done."
   ]
  },
  {
   "cell_type": "markdown",
   "id": "5c285753",
   "metadata": {},
   "source": [
    "### Dashboard Forecast using the ARIMA Fit Model"
   ]
  },
  {
   "cell_type": "code",
   "execution_count": 91,
   "id": "92ee05af",
   "metadata": {
    "scrolled": false
   },
   "outputs": [
    {
     "data": {
      "text/html": [
       "\n",
       "        <iframe\n",
       "            width=\"100%\"\n",
       "            height=\"650\"\n",
       "            src=\"http://127.0.0.1:8051/\"\n",
       "            frameborder=\"0\"\n",
       "            allowfullscreen\n",
       "            \n",
       "        ></iframe>\n",
       "        "
      ],
      "text/plain": [
       "<IPython.lib.display.IFrame at 0x7fa73fc2a500>"
      ]
     },
     "metadata": {},
     "output_type": "display_data"
    }
   ],
   "source": [
    "import dash\n",
    "from dash import dcc, html\n",
    "from dash.dependencies import Input, Output\n",
    "import plotly.express as px\n",
    "from statsmodels.tsa.arima.model import ARIMA\n",
    "\n",
    "# Fit the ARIMA model\n",
    "final_model = ARIMA(df_daily['sentiment'], order=best_order)\n",
    "final_fit_model = final_model.fit()\n",
    "\n",
    "# Initialize the Dash app\n",
    "app = dash.Dash(__name__)\n",
    "\n",
    "# Define the layout of the app\n",
    "app.layout = html.Div(style={'backgroundColor': '#D3D3D3', 'color': '#000000'}, children=[\n",
    "    html.H1(children='Sentiment Predictions Dashboard', style={'textAlign': 'center', 'color': '#FFFFFF'}),\n",
    "\n",
    "    # Actual Data Plot\n",
    "    dcc.Graph(\n",
    "        id='actual-data',\n",
    "        figure=px.line(df_daily, x=df_daily.index, y='sentiment', labels={'y': 'Sentiment'}, title='Actual Data')\n",
    "    ),\n",
    "\n",
    "    # Time Slider for selecting forecast period\n",
    "    dcc.Slider(\n",
    "        id='forecast-period-slider',\n",
    "        min=7,\n",
    "        max=90,\n",
    "        step=7,\n",
    "        value=7,\n",
    "        marks={i: f'{i} Days' for i in range(7, 91, 7)},\n",
    "    ),\n",
    "\n",
    "    # Forecast Plot\n",
    "    dcc.Graph(id='forecast-plot'),\n",
    "\n",
    "    # Link for users to access\n",
    "    dcc.Link(href=\"http://your-dashboard-link\", children=\"Access Dashboard\"),\n",
    "\n",
    "])\n",
    "\n",
    "# Callback to update the forecast plot based on the selected period\n",
    "@app.callback(\n",
    "    Output('forecast-plot', 'figure'),\n",
    "    [Input('forecast-period-slider', 'value')]\n",
    ")\n",
    "def update_forecast_plot(selected_period):\n",
    "    # Get forecast for the selected period\n",
    "    forecast = final_fit_model.get_forecast(steps=selected_period).predicted_mean\n",
    "\n",
    "    # Create the forecast plot\n",
    "    forecast_fig = px.line(df_daily, x=df_daily.index, y='sentiment', labels={'y': 'Sentiment'},\n",
    "                           title=f'{selected_period} Days Forecast', line_shape='linear')\n",
    "\n",
    "    # Add the red-colored forecast line\n",
    "    forecast_fig.add_scatter(x=forecast.index, y=forecast, mode='lines', name='Forecast',\n",
    "                            line=dict(color='red'))\n",
    "\n",
    "    return forecast_fig\n",
    "\n",
    "# Run the app\n",
    "if __name__ == '__main__':\n",
    "    app.run_server(debug=True, port=8051)"
   ]
  },
  {
   "cell_type": "code",
   "execution_count": 92,
   "id": "fc57b205",
   "metadata": {},
   "outputs": [],
   "source": [
    "# Stop the Spark session when \"SentimentAnalysis\" is done\n",
    "spark.stop()"
   ]
  },
  {
   "cell_type": "markdown",
   "id": "88011fac",
   "metadata": {},
   "source": [
    "### References:\n",
    "\n",
    "• https://github.com/apache/hive\n",
    "\n",
    "• https://cassandra.apache.org/doc/latest/cassandra/cql/ddl.html\n",
    "\n",
    "• Cassandra: The Definitive Guide, (Revised) Third Edition, 3rd Edition, Jeff Carpenter, Eben Hewitt,\n",
    "O'Reilly Media, Inc., January 2022.\n",
    "\n",
    "• Pytorch codes adapted from:\n",
    "\n",
    "   1-  https://www.geeksforgeeks.org/time-series-forecasting-using-pytorch/\n",
    "   \n",
    "   2-  https://www.datacamp.com/tutorial/nlp-with-pytorch-a-comprehensive-guide"
   ]
  }
 ],
 "metadata": {
  "kernelspec": {
   "display_name": "Python 3 (ipykernel)",
   "language": "python",
   "name": "python3"
  },
  "language_info": {
   "codemirror_mode": {
    "name": "ipython",
    "version": 3
   },
   "file_extension": ".py",
   "mimetype": "text/x-python",
   "name": "python",
   "nbconvert_exporter": "python",
   "pygments_lexer": "ipython3",
   "version": "3.10.12"
  }
 },
 "nbformat": 4,
 "nbformat_minor": 5
}
